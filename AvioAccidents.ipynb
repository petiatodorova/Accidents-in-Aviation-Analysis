{
 "cells": [
  {
   "cell_type": "code",
   "execution_count": null,
   "id": "8674124b",
   "metadata": {},
   "outputs": [],
   "source": [
    "%matplotlib inline\n",
    "import numpy as np\n",
    "import pandas as pd\n",
    "import matplotlib.pyplot as plt\n",
    "from bs4 import BeautifulSoup as bs\n",
    "import re\n",
    "from dateutil.parser import parse\n",
    "from datetime import datetime\n",
    "import pycountry_convert as pc"
   ]
  },
  {
   "cell_type": "markdown",
   "id": "b596d61b",
   "metadata": {},
   "source": [
    "<span style=\"color:darkblue\">In this project we will analyze the reasons why accidents happen in aviation.\n",
    "An aviation accident is an incident in which an aircraft is damaged or destroyed as a result of a collision, fire, structural failure, or other event.\n",
    "\n",
    "Aviation accidents can be caused by a variety of factors, including mechanical failure, pilot error, adverse weather conditions, and sabotage. \n",
    "\n",
    "Aviation accidents can result in fatalities, injuries, and damage to property. </span>"
   ]
  },
  {
   "cell_type": "markdown",
   "id": "42f7f2fa",
   "metadata": {},
   "source": [
    "### These are interesting too!\n",
    "# Aviation Accident from 1919-2023\n",
    "https://www.kaggle.com/datasets/drealbash/aviation-accident-from-1919-2023\n"
   ]
  },
  {
   "cell_type": "markdown",
   "id": "9a79a94a",
   "metadata": {},
   "source": [
    "# Aviation accidents analysis "
   ]
  },
  {
   "cell_type": "markdown",
   "id": "99e4ceaf",
   "metadata": {},
   "source": [
    "In this project we will analyze the reasons why accidents happen in aviation.\n",
    "\n",
    "*An aviation accident is an incident in which an aircraft is damaged or destroyed as a result of a collision, fire, structural failure, or other event.*\n",
    "*Aviation accidents can be caused by a variety of factors, including mechanical failure, pilot error, adverse weather conditions, and sabotage.*\n",
    "*Aviation accidents can result in fatalities, injuries, and damage to property.* "
   ]
  },
  {
   "cell_type": "markdown",
   "id": "21c9e3e5",
   "metadata": {},
   "source": [
    "## Datasets"
   ]
  },
  {
   "cell_type": "markdown",
   "id": "a0b287bd",
   "metadata": {},
   "source": [
    "We'll use 2 datasets from Kaggle:\n",
    "### 1. Historical Plane Crash Data\n",
    "This dataset contains all of the plane crashes that happened throughout history. Data are extracted using web scraping methods in R and preprocessed to create an organized and informative dataset.\n",
    "All data are collected from Ronan Hubert: [Aviation Accident Bureau Archive]\n",
    "(https://www.baaa-acro.com/)\n",
    "This is the dataset [here]:(https://www.kaggle.com/datasets/abeperez/historical-plane-crash-data)"
   ]
  },
  {
   "cell_type": "markdown",
   "id": "e0370b09",
   "metadata": {},
   "source": [
    "### 2. Aviation Accident Database & Synopses, up to 2023"
   ]
  },
  {
   "cell_type": "markdown",
   "id": "b5bbc430",
   "metadata": {},
   "source": [
    "The dataset is [here](https://www.kaggle.com/datasets/khsamaha/aviation-accident-database-synopses)\n",
    "The NTSB aviation accident database [here](https://www.ntsb.gov/Pages/home.aspx) contains information from 1962 and later about civil aviation accidents and selected incidents within the United States, its territories and possessions, and in international waters."
   ]
  },
  {
   "cell_type": "code",
   "execution_count": null,
   "id": "14fdf12c",
   "metadata": {},
   "outputs": [],
   "source": [
    "avioset = pd.read_csv('data/faa/faa_ai_prelim.csv')"
   ]
  },
  {
   "cell_type": "code",
   "execution_count": null,
   "id": "0da17305",
   "metadata": {},
   "outputs": [],
   "source": [
    "avioset.columns"
   ]
  },
  {
   "cell_type": "code",
   "execution_count": null,
   "id": "14b67cca",
   "metadata": {},
   "outputs": [],
   "source": [
    "avioset['ENTRY_DATE'].unique()"
   ]
  },
  {
   "cell_type": "code",
   "execution_count": null,
   "id": "1f6c7974",
   "metadata": {},
   "outputs": [],
   "source": [
    "dataColumnsMeaning = pd.read_csv('data/faa/DataDictionary.csv')"
   ]
  },
  {
   "cell_type": "code",
   "execution_count": null,
   "id": "c0d4726f",
   "metadata": {},
   "outputs": [],
   "source": [
    "dataColumnsMeaning['Column Name'][0]\n",
    "dataColumnsMeaning['Definition'][0]\n",
    "dataColumnsMeaning.count()\n",
    "dataColumnsMeaning"
   ]
  },
  {
   "cell_type": "code",
   "execution_count": null,
   "id": "e28ed95f",
   "metadata": {},
   "outputs": [],
   "source": [
    "dataColumnsMeaning['Column Name']"
   ]
  },
  {
   "cell_type": "code",
   "execution_count": null,
   "id": "34c21c2a",
   "metadata": {},
   "outputs": [],
   "source": [
    "# Returns Definition for a column \n",
    "result = dataColumnsMeaning.loc[dataColumnsMeaning['Column Name'] == 'FLT_PHASE_CODE', 'Definition']\n",
    "result_string = ' '.join(result.astype(str))\n",
    "print(result_string)"
   ]
  },
  {
   "cell_type": "code",
   "execution_count": null,
   "id": "f845e87f",
   "metadata": {},
   "outputs": [],
   "source": [
    "# ntsb_dataset = pd.read_csv('data/1982_2007/Pre2008.mdb', encoding='utf-8', errors='ignore')"
   ]
  },
  {
   "cell_type": "code",
   "execution_count": null,
   "id": "46da07e0",
   "metadata": {},
   "outputs": [],
   "source": [
    "avioset.columns"
   ]
  },
  {
   "cell_type": "code",
   "execution_count": null,
   "id": "e29b6e13",
   "metadata": {},
   "outputs": [],
   "source": [
    "avioset.FLT_PHASE.unique()"
   ]
  },
  {
   "cell_type": "code",
   "execution_count": null,
   "id": "08fbebb8",
   "metadata": {},
   "outputs": [],
   "source": [
    "(avioset.FLT_PHASE == 'LANDING (LDG)').count()"
   ]
  },
  {
   "cell_type": "code",
   "execution_count": null,
   "id": "7504e9cf",
   "metadata": {},
   "outputs": [],
   "source": [
    "avioset.LOC_CNTRY_NAME.unique()"
   ]
  },
  {
   "cell_type": "code",
   "execution_count": null,
   "id": "e18c93a1",
   "metadata": {},
   "outputs": [],
   "source": [
    "avioset['RMK_TEXT'].unique()"
   ]
  },
  {
   "cell_type": "code",
   "execution_count": null,
   "id": "a10f90ce",
   "metadata": {},
   "outputs": [],
   "source": [
    "avioset.describe"
   ]
  },
  {
   "cell_type": "code",
   "execution_count": null,
   "id": "35363d9a",
   "metadata": {},
   "outputs": [],
   "source": [
    "avioset.ENTRY_DATE"
   ]
  }
 ],
 "metadata": {
  "kernelspec": {
   "display_name": "Python 3 (ipykernel)",
   "language": "python",
   "name": "python3"
  },
  "language_info": {
   "codemirror_mode": {
    "name": "ipython",
    "version": 3
   },
   "file_extension": ".py",
   "mimetype": "text/x-python",
   "name": "python",
   "nbconvert_exporter": "python",
   "pygments_lexer": "ipython3",
   "version": "3.11.7"
  }
 },
 "nbformat": 4,
 "nbformat_minor": 5
}
