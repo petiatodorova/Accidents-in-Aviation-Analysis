{
 "cells": [
  {
   "cell_type": "code",
   "execution_count": 287,
   "id": "8674124b",
   "metadata": {},
   "outputs": [],
   "source": [
    "%matplotlib inline\n",
    "import numpy as np\n",
    "import pandas as pd\n",
    "import matplotlib.pyplot as plt\n",
    "import re\n",
    "from dateutil.parser import parse\n",
    "from datetime import datetime\n",
    "import seaborn as sns"
   ]
  },
  {
   "cell_type": "markdown",
   "id": "94379cb8",
   "metadata": {},
   "source": [
    "# Table of Contents <a id=\"toc\"></a>\n",
    "1. [Datasets](#datasets)\n",
    "2. [Reading, analyzing the datasets](#reading)\n",
    "   - [2.1. Reading data](#2-1)\n",
    "   - [2.2. Database Fields Description](#2-2)\n",
    "   - [2.3. Dataset cleaning](#2-3)\n",
    "     - [2.3.1. Columns overview](#2-3-1)\n",
    "\t - [2.3.2. Change column names](#2-3-2)\n",
    "\t - [2.3.3. Data types](#2-3-3)\n",
    "\t - [2.3.4. Convert date to datetime](#2-3-4)\n",
    "\t - [2.3.5. Unique values, nan values](#2-3-5)\n",
    "\t - [2.3.6. Column analysis](#2-3-6)\n",
    "3. [III. Analyzes, visualizations](#visualizations)"
   ]
  },
  {
   "cell_type": "markdown",
   "id": "529d584a",
   "metadata": {},
   "source": [
    "<div style=\"background-color: #9df9ef; padding: 10px;\"></div>"
   ]
  },
  {
   "cell_type": "markdown",
   "id": "b0493ba7",
   "metadata": {},
   "source": [
    "# Aviation accidents analysis"
   ]
  },
  {
   "cell_type": "markdown",
   "id": "786e1cdf",
   "metadata": {},
   "source": [
    "In this project we will analyze the reasons why accidents happen in aviation.\n",
    "An aviation accident is an incident in which an aircraft is damaged or destroyed as a result of a collision, fire, structural failure, or other event. Aviation accidents can be caused by a variety of factors, including mechanical failure, pilot error, adverse weather conditions, and sabotage. Aviation accidents can result in fatalities, injuries, and damage to property."
   ]
  },
  {
   "cell_type": "markdown",
   "id": "642f7983",
   "metadata": {},
   "source": [
    "## I. Datasets <a id=\"datasets\"></a> "
   ]
  },
  {
   "cell_type": "markdown",
   "id": "b9e8f9fa",
   "metadata": {},
   "source": [
    "We'll use 2 datasets from Kaggle:\n",
    "### Dataset 1. Historical Plane Crash Data\n",
    "This dataset contains all of the plane crashes that happened throughout history. Data are extracted using web scraping methods in R and preprocessed to create an organized and informative dataset.\n",
    "All data are collected from Ronan Hubert: [Aviation Accident Bureau Archive]\n",
    "(https://www.baaa-acro.com/)\n",
    "This is the dataset [here]:(https://www.kaggle.com/datasets/abeperez/historical-plane-crash-data)"
   ]
  },
  {
   "cell_type": "markdown",
   "id": "f028d2bc",
   "metadata": {},
   "source": [
    "### Dataset 2. Aviation Accident Database & Synopses, up to 2023"
   ]
  },
  {
   "cell_type": "markdown",
   "id": "386c6e36",
   "metadata": {},
   "source": [
    "The dataset is [here](https://www.kaggle.com/datasets/khsamaha/aviation-accident-database-synopses)\n",
    "The NTSB aviation accident database [here](https://www.ntsb.gov/Pages/home.aspx) contains information from 1962 and later about civil aviation accidents and selected incidents within the United States, its territories and possessions, and in international waters."
   ]
  },
  {
   "cell_type": "markdown",
   "id": "f0d81178",
   "metadata": {},
   "source": [
    "[Return to Table of Contents](#toc)"
   ]
  },
  {
   "cell_type": "markdown",
   "id": "ccae0858",
   "metadata": {},
   "source": [
    "<div style=\"background-color: #9df9ef; padding: 10px;\"></div>"
   ]
  },
  {
   "cell_type": "markdown",
   "id": "d88f683b",
   "metadata": {},
   "source": [
    "## II. Reading, analyzing the datasets <a id=\"reading\"></a>"
   ]
  },
  {
   "cell_type": "markdown",
   "id": "a0b287bd",
   "metadata": {},
   "source": [
    "#### Dataset 1 - Historical Plane Crash Data \n",
    "This dataset contains all of the plane crashes that happened throughout history. Data are extracted using web scraping methods in R and preprocessed to create an organized and informative dataset.\n",
    "All data are collected from Ronan Hubert: [Aviation Accident Bureau Archive]\n",
    "(https://www.baaa-acro.com/)\n",
    "This is the dataset [here]:(https://www.kaggle.com/datasets/abeperez/historical-plane-crash-data)"
   ]
  },
  {
   "cell_type": "markdown",
   "id": "5dded746",
   "metadata": {},
   "source": [
    "[Return to Table of Contents](#toc)"
   ]
  },
  {
   "cell_type": "markdown",
   "id": "b2b57652",
   "metadata": {},
   "source": [
    "<div style=\"background-color: #9df9ef; padding: 10px;\"></div>"
   ]
  },
  {
   "cell_type": "markdown",
   "id": "22b8981e",
   "metadata": {},
   "source": [
    "### 2.1. Reading data <a id=\"2-1\">"
   ]
  },
  {
   "cell_type": "code",
   "execution_count": 288,
   "id": "deda46b3",
   "metadata": {},
   "outputs": [],
   "source": [
    "avioset_aab = pd.read_csv('data/dataset_1_accident_bureau/Plane Crashes.csv')"
   ]
  },
  {
   "cell_type": "code",
   "execution_count": 289,
   "id": "6395b3e2",
   "metadata": {},
   "outputs": [
    {
     "name": "stdout",
     "output_type": "stream",
     "text": [
      "(28536, 24)\n"
     ]
    },
    {
     "data": {
      "text/html": [
       "<div>\n",
       "<style scoped>\n",
       "    .dataframe tbody tr th:only-of-type {\n",
       "        vertical-align: middle;\n",
       "    }\n",
       "\n",
       "    .dataframe tbody tr th {\n",
       "        vertical-align: top;\n",
       "    }\n",
       "\n",
       "    .dataframe thead th {\n",
       "        text-align: right;\n",
       "    }\n",
       "</style>\n",
       "<table border=\"1\" class=\"dataframe\">\n",
       "  <thead>\n",
       "    <tr style=\"text-align: right;\">\n",
       "      <th></th>\n",
       "      <th>Date</th>\n",
       "      <th>Time</th>\n",
       "      <th>Aircraft</th>\n",
       "      <th>Operator</th>\n",
       "      <th>Registration</th>\n",
       "      <th>Flight phase</th>\n",
       "      <th>Flight type</th>\n",
       "      <th>Survivors</th>\n",
       "      <th>Crash site</th>\n",
       "      <th>Schedule</th>\n",
       "      <th>...</th>\n",
       "      <th>Country</th>\n",
       "      <th>Region</th>\n",
       "      <th>Crew on board</th>\n",
       "      <th>Crew fatalities</th>\n",
       "      <th>Pax on board</th>\n",
       "      <th>PAX fatalities</th>\n",
       "      <th>Other fatalities</th>\n",
       "      <th>Total fatalities</th>\n",
       "      <th>Circumstances</th>\n",
       "      <th>Crash cause</th>\n",
       "    </tr>\n",
       "  </thead>\n",
       "  <tbody>\n",
       "    <tr>\n",
       "      <th>0</th>\n",
       "      <td>1918-05-02</td>\n",
       "      <td>NaN</td>\n",
       "      <td>De Havilland DH.4</td>\n",
       "      <td>United States Signal Corps - USSC</td>\n",
       "      <td>AS-32084</td>\n",
       "      <td>Takeoff (climb)</td>\n",
       "      <td>Test</td>\n",
       "      <td>No</td>\n",
       "      <td>Airport (less than 10 km from airport)</td>\n",
       "      <td>Dayton - Dayton</td>\n",
       "      <td>...</td>\n",
       "      <td>United States of America</td>\n",
       "      <td>North America</td>\n",
       "      <td>2.0</td>\n",
       "      <td>2.0</td>\n",
       "      <td>0.0</td>\n",
       "      <td>0.0</td>\n",
       "      <td>0.0</td>\n",
       "      <td>2</td>\n",
       "      <td>The single engine airplane departed Dayton-McC...</td>\n",
       "      <td>Technical failure</td>\n",
       "    </tr>\n",
       "    <tr>\n",
       "      <th>1</th>\n",
       "      <td>1918-06-08</td>\n",
       "      <td>NaN</td>\n",
       "      <td>Handley Page V/1500</td>\n",
       "      <td>Handley Page Aircraft Company Ltd</td>\n",
       "      <td>E4104</td>\n",
       "      <td>Takeoff (climb)</td>\n",
       "      <td>Test</td>\n",
       "      <td>Yes</td>\n",
       "      <td>Airport (less than 10 km from airport)</td>\n",
       "      <td>Cricklewood - Cricklewood</td>\n",
       "      <td>...</td>\n",
       "      <td>United Kingdom</td>\n",
       "      <td>Europe</td>\n",
       "      <td>6.0</td>\n",
       "      <td>5.0</td>\n",
       "      <td>0.0</td>\n",
       "      <td>0.0</td>\n",
       "      <td>0.0</td>\n",
       "      <td>5</td>\n",
       "      <td>Assembled at Cricklewood Airfield in May 1918,...</td>\n",
       "      <td>Technical failure</td>\n",
       "    </tr>\n",
       "    <tr>\n",
       "      <th>2</th>\n",
       "      <td>1918-06-11</td>\n",
       "      <td>NaN</td>\n",
       "      <td>Avro 504</td>\n",
       "      <td>Royal Air Force - RAF</td>\n",
       "      <td>A8544</td>\n",
       "      <td>Flight</td>\n",
       "      <td>Training</td>\n",
       "      <td>Yes</td>\n",
       "      <td>Plain, Valley</td>\n",
       "      <td>Abukir - Abukir</td>\n",
       "      <td>...</td>\n",
       "      <td>Egypt</td>\n",
       "      <td>Africa</td>\n",
       "      <td>2.0</td>\n",
       "      <td>1.0</td>\n",
       "      <td>0.0</td>\n",
       "      <td>0.0</td>\n",
       "      <td>0.0</td>\n",
       "      <td>1</td>\n",
       "      <td>The single engine aircraft was completing a lo...</td>\n",
       "      <td>Unknown</td>\n",
       "    </tr>\n",
       "    <tr>\n",
       "      <th>3</th>\n",
       "      <td>1918-06-19</td>\n",
       "      <td>NaN</td>\n",
       "      <td>De Havilland DH.4</td>\n",
       "      <td>United States Signal Corps - USSC</td>\n",
       "      <td>AS-32098</td>\n",
       "      <td>Flight</td>\n",
       "      <td>Military</td>\n",
       "      <td>No</td>\n",
       "      <td>Airport (less than 10 km from airport)</td>\n",
       "      <td>Wright Patterson AFB-Wright Patterson AFB</td>\n",
       "      <td>...</td>\n",
       "      <td>United States of America</td>\n",
       "      <td>North America</td>\n",
       "      <td>1.0</td>\n",
       "      <td>1.0</td>\n",
       "      <td>0.0</td>\n",
       "      <td>0.0</td>\n",
       "      <td>0.0</td>\n",
       "      <td>1</td>\n",
       "      <td>Lt. Frank Stuart Patterson, son and nephew of ...</td>\n",
       "      <td>Technical failure</td>\n",
       "    </tr>\n",
       "    <tr>\n",
       "      <th>4</th>\n",
       "      <td>1918-06-24</td>\n",
       "      <td>NaN</td>\n",
       "      <td>Breguet 14</td>\n",
       "      <td>French Air Force - Armée de l'Air</td>\n",
       "      <td>AS-4130</td>\n",
       "      <td>Landing (descent or approach)</td>\n",
       "      <td>Military</td>\n",
       "      <td>Yes</td>\n",
       "      <td>NaN</td>\n",
       "      <td>NaN</td>\n",
       "      <td>...</td>\n",
       "      <td>France</td>\n",
       "      <td>Europe</td>\n",
       "      <td>NaN</td>\n",
       "      <td>0.0</td>\n",
       "      <td>NaN</td>\n",
       "      <td>0.0</td>\n",
       "      <td>0.0</td>\n",
       "      <td>0</td>\n",
       "      <td>The aircraft crashed iupon landing somewhere i...</td>\n",
       "      <td>Unknown</td>\n",
       "    </tr>\n",
       "  </tbody>\n",
       "</table>\n",
       "<p>5 rows × 24 columns</p>\n",
       "</div>"
      ],
      "text/plain": [
       "         Date Time             Aircraft                           Operator  \\\n",
       "0  1918-05-02  NaN    De Havilland DH.4  United States Signal Corps - USSC   \n",
       "1  1918-06-08  NaN  Handley Page V/1500  Handley Page Aircraft Company Ltd   \n",
       "2  1918-06-11  NaN             Avro 504              Royal Air Force - RAF   \n",
       "3  1918-06-19  NaN    De Havilland DH.4  United States Signal Corps - USSC   \n",
       "4  1918-06-24  NaN           Breguet 14  French Air Force - Armée de l'Air   \n",
       "\n",
       "  Registration                   Flight phase Flight type Survivors  \\\n",
       "0     AS-32084                Takeoff (climb)        Test        No   \n",
       "1        E4104                Takeoff (climb)        Test       Yes   \n",
       "2        A8544                         Flight    Training       Yes   \n",
       "3     AS-32098                         Flight    Military        No   \n",
       "4      AS-4130  Landing (descent or approach)    Military       Yes   \n",
       "\n",
       "                               Crash site  \\\n",
       "0  Airport (less than 10 km from airport)   \n",
       "1  Airport (less than 10 km from airport)   \n",
       "2                           Plain, Valley   \n",
       "3  Airport (less than 10 km from airport)   \n",
       "4                                     NaN   \n",
       "\n",
       "                                    Schedule  ...                   Country  \\\n",
       "0                            Dayton - Dayton  ...  United States of America   \n",
       "1                  Cricklewood - Cricklewood  ...            United Kingdom   \n",
       "2                            Abukir - Abukir  ...                     Egypt   \n",
       "3  Wright Patterson AFB-Wright Patterson AFB  ...  United States of America   \n",
       "4                                        NaN  ...                    France   \n",
       "\n",
       "          Region  Crew on board Crew fatalities Pax on board PAX fatalities  \\\n",
       "0  North America            2.0             2.0          0.0            0.0   \n",
       "1         Europe            6.0             5.0          0.0            0.0   \n",
       "2         Africa            2.0             1.0          0.0            0.0   \n",
       "3  North America            1.0             1.0          0.0            0.0   \n",
       "4         Europe            NaN             0.0          NaN            0.0   \n",
       "\n",
       "   Other fatalities  Total fatalities  \\\n",
       "0               0.0                 2   \n",
       "1               0.0                 5   \n",
       "2               0.0                 1   \n",
       "3               0.0                 1   \n",
       "4               0.0                 0   \n",
       "\n",
       "                                       Circumstances        Crash cause  \n",
       "0  The single engine airplane departed Dayton-McC...  Technical failure  \n",
       "1  Assembled at Cricklewood Airfield in May 1918,...  Technical failure  \n",
       "2  The single engine aircraft was completing a lo...            Unknown  \n",
       "3  Lt. Frank Stuart Patterson, son and nephew of ...  Technical failure  \n",
       "4  The aircraft crashed iupon landing somewhere i...            Unknown  \n",
       "\n",
       "[5 rows x 24 columns]"
      ]
     },
     "execution_count": 289,
     "metadata": {},
     "output_type": "execute_result"
    }
   ],
   "source": [
    "# 28536 rows × 24 columns\n",
    "print(avioset_aab.shape)\n",
    "avioset_aab.head()"
   ]
  },
  {
   "cell_type": "markdown",
   "id": "9aa887c2",
   "metadata": {},
   "source": [
    "[Return to Table of Contents](#toc)"
   ]
  },
  {
   "cell_type": "markdown",
   "id": "17f527ea",
   "metadata": {},
   "source": [
    "<div style=\"background-color: #9df9ef; padding: 10px;\"></div>"
   ]
  },
  {
   "cell_type": "markdown",
   "id": "d5045695",
   "metadata": {},
   "source": [
    "### 2.2. Database Fields Description <a id=\"2-2\">"
   ]
  },
  {
   "cell_type": "code",
   "execution_count": 290,
   "id": "8868e970",
   "metadata": {},
   "outputs": [],
   "source": [
    "dataColumnsMeaning = pd.read_csv('data/dataset_1_accident_bureau/AAB_DB_Fields_Description.csv', encoding='utf-8')"
   ]
  },
  {
   "cell_type": "code",
   "execution_count": 291,
   "id": "edbd865d",
   "metadata": {},
   "outputs": [
    {
     "data": {
      "text/plain": [
       "Index(['Field name', 'Description'], dtype='object')"
      ]
     },
     "execution_count": 291,
     "metadata": {},
     "output_type": "execute_result"
    }
   ],
   "source": [
    "dataColumnsMeaning.columns"
   ]
  },
  {
   "cell_type": "code",
   "execution_count": 292,
   "id": "a10a3454",
   "metadata": {},
   "outputs": [
    {
     "data": {
      "text/plain": [
       "(24, 2)"
      ]
     },
     "execution_count": 292,
     "metadata": {},
     "output_type": "execute_result"
    }
   ],
   "source": [
    "dataColumnsMeaning.shape"
   ]
  },
  {
   "cell_type": "code",
   "execution_count": 293,
   "id": "e6e39e8f",
   "metadata": {},
   "outputs": [
    {
     "data": {
      "text/html": [
       "<style type=\"text/css\">\n",
       "#T_fc58c_row0_col0, #T_fc58c_row0_col1, #T_fc58c_row1_col0, #T_fc58c_row1_col1, #T_fc58c_row2_col0, #T_fc58c_row2_col1, #T_fc58c_row3_col0, #T_fc58c_row3_col1, #T_fc58c_row4_col0, #T_fc58c_row4_col1, #T_fc58c_row5_col0, #T_fc58c_row5_col1, #T_fc58c_row6_col0, #T_fc58c_row6_col1, #T_fc58c_row7_col0, #T_fc58c_row7_col1, #T_fc58c_row8_col0, #T_fc58c_row8_col1, #T_fc58c_row9_col0, #T_fc58c_row9_col1, #T_fc58c_row10_col0, #T_fc58c_row10_col1, #T_fc58c_row11_col0, #T_fc58c_row11_col1, #T_fc58c_row12_col0, #T_fc58c_row12_col1, #T_fc58c_row13_col0, #T_fc58c_row13_col1, #T_fc58c_row14_col0, #T_fc58c_row14_col1, #T_fc58c_row15_col0, #T_fc58c_row15_col1, #T_fc58c_row16_col0, #T_fc58c_row16_col1, #T_fc58c_row17_col0, #T_fc58c_row17_col1, #T_fc58c_row18_col0, #T_fc58c_row18_col1, #T_fc58c_row19_col0, #T_fc58c_row19_col1, #T_fc58c_row20_col0, #T_fc58c_row20_col1, #T_fc58c_row21_col0, #T_fc58c_row21_col1, #T_fc58c_row22_col0, #T_fc58c_row22_col1, #T_fc58c_row23_col0, #T_fc58c_row23_col1 {\n",
       "  text-align: left;\n",
       "}\n",
       "</style>\n",
       "<table id=\"T_fc58c\">\n",
       "  <thead>\n",
       "    <tr>\n",
       "      <th class=\"blank level0\" >&nbsp;</th>\n",
       "      <th id=\"T_fc58c_level0_col0\" class=\"col_heading level0 col0\" >Field name</th>\n",
       "      <th id=\"T_fc58c_level0_col1\" class=\"col_heading level0 col1\" >Description</th>\n",
       "    </tr>\n",
       "  </thead>\n",
       "  <tbody>\n",
       "    <tr>\n",
       "      <th id=\"T_fc58c_level0_row0\" class=\"row_heading level0 row0\" >0</th>\n",
       "      <td id=\"T_fc58c_row0_col0\" class=\"data row0 col0\" >date</td>\n",
       "      <td id=\"T_fc58c_row0_col1\" class=\"data row0 col1\" >Date of accident</td>\n",
       "    </tr>\n",
       "    <tr>\n",
       "      <th id=\"T_fc58c_level0_row1\" class=\"row_heading level0 row1\" >1</th>\n",
       "      <td id=\"T_fc58c_row1_col0\" class=\"data row1 col0\" >time</td>\n",
       "      <td id=\"T_fc58c_row1_col1\" class=\"data row1 col1\" >Time of accident</td>\n",
       "    </tr>\n",
       "    <tr>\n",
       "      <th id=\"T_fc58c_level0_row2\" class=\"row_heading level0 row2\" >2</th>\n",
       "      <td id=\"T_fc58c_row2_col0\" class=\"data row2 col0\" >aircraft</td>\n",
       "      <td id=\"T_fc58c_row2_col1\" class=\"data row2 col1\" >Manufacturer and exact model involved in the accident</td>\n",
       "    </tr>\n",
       "    <tr>\n",
       "      <th id=\"T_fc58c_level0_row3\" class=\"row_heading level0 row3\" >3</th>\n",
       "      <td id=\"T_fc58c_row3_col0\" class=\"data row3 col0\" >operator</td>\n",
       "      <td id=\"T_fc58c_row3_col1\" class=\"data row3 col1\" >The company, organisation or individual operating the aircraft at the time of the accident</td>\n",
       "    </tr>\n",
       "    <tr>\n",
       "      <th id=\"T_fc58c_level0_row4\" class=\"row_heading level0 row4\" >4</th>\n",
       "      <td id=\"T_fc58c_row4_col0\" class=\"data row4 col0\" >registration</td>\n",
       "      <td id=\"T_fc58c_row4_col1\" class=\"data row4 col1\" >The registrationmark applied on the the aircaft at the time of the accident</td>\n",
       "    </tr>\n",
       "    <tr>\n",
       "      <th id=\"T_fc58c_level0_row5\" class=\"row_heading level0 row5\" >5</th>\n",
       "      <td id=\"T_fc58c_row5_col0\" class=\"data row5 col0\" >flight_phase</td>\n",
       "      <td id=\"T_fc58c_row5_col1\" class=\"data row5 col1\" >Phase of flight</td>\n",
       "    </tr>\n",
       "    <tr>\n",
       "      <th id=\"T_fc58c_level0_row6\" class=\"row_heading level0 row6\" >6</th>\n",
       "      <td id=\"T_fc58c_row6_col0\" class=\"data row6 col0\" >flight_type</td>\n",
       "      <td id=\"T_fc58c_row6_col1\" class=\"data row6 col1\" >Flight types refer to the various classifications of flights based on their purpose, nature, or the kind of aircraft operation being conducted</td>\n",
       "    </tr>\n",
       "    <tr>\n",
       "      <th id=\"T_fc58c_level0_row7\" class=\"row_heading level0 row7\" >7</th>\n",
       "      <td id=\"T_fc58c_row7_col0\" class=\"data row7 col0\" >survivors</td>\n",
       "      <td id=\"T_fc58c_row7_col1\" class=\"data row7 col1\" >Number of survivors</td>\n",
       "    </tr>\n",
       "    <tr>\n",
       "      <th id=\"T_fc58c_level0_row8\" class=\"row_heading level0 row8\" >8</th>\n",
       "      <td id=\"T_fc58c_row8_col0\" class=\"data row8 col0\" >crash_site</td>\n",
       "      <td id=\"T_fc58c_row8_col1\" class=\"data row8 col1\" >Crash site</td>\n",
       "    </tr>\n",
       "    <tr>\n",
       "      <th id=\"T_fc58c_level0_row9\" class=\"row_heading level0 row9\" >9</th>\n",
       "      <td id=\"T_fc58c_row9_col0\" class=\"data row9 col0\" >schedule</td>\n",
       "      <td id=\"T_fc58c_row9_col1\" class=\"data row9 col1\" >Schedule</td>\n",
       "    </tr>\n",
       "    <tr>\n",
       "      <th id=\"T_fc58c_level0_row10\" class=\"row_heading level0 row10\" >10</th>\n",
       "      <td id=\"T_fc58c_row10_col0\" class=\"data row10 col0\" >msn</td>\n",
       "      <td id=\"T_fc58c_row10_col1\" class=\"data row10 col1\" >Manufacturer serial number/construction number.</td>\n",
       "    </tr>\n",
       "    <tr>\n",
       "      <th id=\"T_fc58c_level0_row11\" class=\"row_heading level0 row11\" >11</th>\n",
       "      <td id=\"T_fc58c_row11_col0\" class=\"data row11 col0\" >yom</td>\n",
       "      <td id=\"T_fc58c_row11_col1\" class=\"data row11 col1\" >Year of Manufacture. It refers to the year when an aircraft was originally built or rolled off the production line</td>\n",
       "    </tr>\n",
       "    <tr>\n",
       "      <th id=\"T_fc58c_level0_row12\" class=\"row_heading level0 row12\" >12</th>\n",
       "      <td id=\"T_fc58c_row12_col0\" class=\"data row12 col0\" >flight_no</td>\n",
       "      <td id=\"T_fc58c_row12_col1\" class=\"data row12 col1\" >Flight number</td>\n",
       "    </tr>\n",
       "    <tr>\n",
       "      <th id=\"T_fc58c_level0_row13\" class=\"row_heading level0 row13\" >13</th>\n",
       "      <td id=\"T_fc58c_row13_col0\" class=\"data row13 col0\" >crash_location</td>\n",
       "      <td id=\"T_fc58c_row13_col1\" class=\"data row13 col1\" >Exact location of the accident</td>\n",
       "    </tr>\n",
       "    <tr>\n",
       "      <th id=\"T_fc58c_level0_row14\" class=\"row_heading level0 row14\" >14</th>\n",
       "      <td id=\"T_fc58c_row14_col0\" class=\"data row14 col0\" >country</td>\n",
       "      <td id=\"T_fc58c_row14_col1\" class=\"data row14 col1\" >Country where the accident occurs</td>\n",
       "    </tr>\n",
       "    <tr>\n",
       "      <th id=\"T_fc58c_level0_row15\" class=\"row_heading level0 row15\" >15</th>\n",
       "      <td id=\"T_fc58c_row15_col0\" class=\"data row15 col0\" >region</td>\n",
       "      <td id=\"T_fc58c_row15_col1\" class=\"data row15 col1\" >Region of accident</td>\n",
       "    </tr>\n",
       "    <tr>\n",
       "      <th id=\"T_fc58c_level0_row16\" class=\"row_heading level0 row16\" >16</th>\n",
       "      <td id=\"T_fc58c_row16_col0\" class=\"data row16 col0\" >crew_on_board</td>\n",
       "      <td id=\"T_fc58c_row16_col1\" class=\"data row16 col1\" >Number of crew on board</td>\n",
       "    </tr>\n",
       "    <tr>\n",
       "      <th id=\"T_fc58c_level0_row17\" class=\"row_heading level0 row17\" >17</th>\n",
       "      <td id=\"T_fc58c_row17_col0\" class=\"data row17 col0\" >crew_fatalities</td>\n",
       "      <td id=\"T_fc58c_row17_col1\" class=\"data row17 col1\" >Number of crew deaths</td>\n",
       "    </tr>\n",
       "    <tr>\n",
       "      <th id=\"T_fc58c_level0_row18\" class=\"row_heading level0 row18\" >18</th>\n",
       "      <td id=\"T_fc58c_row18_col0\" class=\"data row18 col0\" >pax_on_board</td>\n",
       "      <td id=\"T_fc58c_row18_col1\" class=\"data row18 col1\" >Number of passengers aboard the aircraft at the time of departure</td>\n",
       "    </tr>\n",
       "    <tr>\n",
       "      <th id=\"T_fc58c_level0_row19\" class=\"row_heading level0 row19\" >19</th>\n",
       "      <td id=\"T_fc58c_row19_col0\" class=\"data row19 col0\" >pax_fatalities</td>\n",
       "      <td id=\"T_fc58c_row19_col1\" class=\"data row19 col1\" >Number of passengers fatally injured as a direct result of the accident</td>\n",
       "    </tr>\n",
       "    <tr>\n",
       "      <th id=\"T_fc58c_level0_row20\" class=\"row_heading level0 row20\" >20</th>\n",
       "      <td id=\"T_fc58c_row20_col0\" class=\"data row20 col0\" >other_fatalities</td>\n",
       "      <td id=\"T_fc58c_row20_col1\" class=\"data row20 col1\" >Number of deaths that occur as a result of the accident but do not involve passengers or crew members</td>\n",
       "    </tr>\n",
       "    <tr>\n",
       "      <th id=\"T_fc58c_level0_row21\" class=\"row_heading level0 row21\" >21</th>\n",
       "      <td id=\"T_fc58c_row21_col0\" class=\"data row21 col0\" >total_fatalities</td>\n",
       "      <td id=\"T_fc58c_row21_col1\" class=\"data row21 col1\" >Total number of deaths</td>\n",
       "    </tr>\n",
       "    <tr>\n",
       "      <th id=\"T_fc58c_level0_row22\" class=\"row_heading level0 row22\" >22</th>\n",
       "      <td id=\"T_fc58c_row22_col0\" class=\"data row22 col0\" >circumstances</td>\n",
       "      <td id=\"T_fc58c_row22_col1\" class=\"data row22 col1\" >A detailed description of the circumstances of the accident</td>\n",
       "    </tr>\n",
       "    <tr>\n",
       "      <th id=\"T_fc58c_level0_row23\" class=\"row_heading level0 row23\" >23</th>\n",
       "      <td id=\"T_fc58c_row23_col0\" class=\"data row23 col0\" >crash_cause</td>\n",
       "      <td id=\"T_fc58c_row23_col1\" class=\"data row23 col1\" >The probable cause of the accident as established by the accident investigators</td>\n",
       "    </tr>\n",
       "  </tbody>\n",
       "</table>\n"
      ],
      "text/plain": [
       "<pandas.io.formats.style.Styler at 0x1ea74396490>"
      ]
     },
     "execution_count": 293,
     "metadata": {},
     "output_type": "execute_result"
    }
   ],
   "source": [
    "dataColumnsMeaning.style.set_properties(**{'text-align': 'left'})"
   ]
  },
  {
   "cell_type": "markdown",
   "id": "d962f438",
   "metadata": {},
   "source": [
    "[Return to Table of Contents](#toc)"
   ]
  },
  {
   "cell_type": "markdown",
   "id": "167839b0",
   "metadata": {},
   "source": [
    "<div style=\"background-color: #9df9ef; padding: 10px;\"></div>"
   ]
  },
  {
   "cell_type": "markdown",
   "id": "1f1c2557",
   "metadata": {},
   "source": [
    "### 2.3. Dataset cleaning <a id=\"2-3\">"
   ]
  },
  {
   "cell_type": "markdown",
   "id": "02d011e4",
   "metadata": {},
   "source": [
    "#### 2.3.1. Columns overview <a id=\"2-3-1\">\n",
    "Let's see what data do we have in all columns. "
   ]
  },
  {
   "cell_type": "code",
   "execution_count": 294,
   "id": "7a73f52a",
   "metadata": {},
   "outputs": [
    {
     "data": {
      "text/plain": [
       "Index(['Date', 'Time', 'Aircraft', 'Operator', 'Registration', 'Flight phase',\n",
       "       'Flight type', 'Survivors', 'Crash site', 'Schedule', 'MSN', 'YOM',\n",
       "       'Flight no.', 'Crash location', 'Country', 'Region', 'Crew on board',\n",
       "       'Crew fatalities', 'Pax on board', 'PAX fatalities', 'Other fatalities',\n",
       "       'Total fatalities', 'Circumstances', 'Crash cause'],\n",
       "      dtype='object')"
      ]
     },
     "execution_count": 294,
     "metadata": {},
     "output_type": "execute_result"
    }
   ],
   "source": [
    "avioset_aab.columns"
   ]
  },
  {
   "cell_type": "markdown",
   "id": "e41c9d34",
   "metadata": {},
   "source": [
    "[Return to Table of Contents](#toc)"
   ]
  },
  {
   "cell_type": "markdown",
   "id": "6c14a4f1",
   "metadata": {},
   "source": [
    "<div style=\"background-color: #9df9ef; padding: 10px;\"></div>"
   ]
  },
  {
   "cell_type": "markdown",
   "id": "d9c647b7",
   "metadata": {},
   "source": [
    "#### 2.3.2. Change column names <a id=\"2-3-2\">\n",
    "Let's make our column names more Pythonic, which means changing names like Event.Id to event_id."
   ]
  },
  {
   "cell_type": "code",
   "execution_count": 295,
   "id": "530afcba",
   "metadata": {},
   "outputs": [],
   "source": [
    "# We will make a new dataset so as not to lose the original\n",
    "avioset_aab_low = avioset_aab.copy()"
   ]
  },
  {
   "cell_type": "code",
   "execution_count": 296,
   "id": "5caaaa48",
   "metadata": {},
   "outputs": [],
   "source": [
    "def change_col_names(df, old_symbol, new_symbol):\n",
    "    df.columns = df.columns.str.lower().str.replace(old_symbol, new_symbol)\n",
    "    return df"
   ]
  },
  {
   "cell_type": "code",
   "execution_count": 297,
   "id": "cc5842a7",
   "metadata": {},
   "outputs": [
    {
     "data": {
      "text/plain": [
       "Index(['date', 'time', 'aircraft', 'operator', 'registration', 'flight_phase',\n",
       "       'flight_type', 'survivors', 'crash_site', 'schedule', 'msn', 'yom',\n",
       "       'flight_no', 'crash_location', 'country', 'region', 'crew_on_board',\n",
       "       'crew_fatalities', 'pax_on_board', 'pax_fatalities', 'other_fatalities',\n",
       "       'total_fatalities', 'circumstances', 'crash_cause'],\n",
       "      dtype='object')"
      ]
     },
     "execution_count": 297,
     "metadata": {},
     "output_type": "execute_result"
    }
   ],
   "source": [
    "# Changing column names to pythonic\n",
    "change_col_names(avioset_aab_low, ' ', '_')\n",
    "\n",
    "# Changing \"flight_no.\" to \"flight_no\"\n",
    "avioset_aab_low.rename(columns={'flight_no.': 'flight_no'}, inplace=True)\n",
    "\n",
    "# Test after the change\n",
    "avioset_aab_low.columns"
   ]
  },
  {
   "cell_type": "markdown",
   "id": "babab941",
   "metadata": {},
   "source": [
    "[Return to Table of Contents](#toc)"
   ]
  },
  {
   "cell_type": "markdown",
   "id": "87c0ec88",
   "metadata": {},
   "source": [
    "<div style=\"background-color: #9df9ef; padding: 10px;\"></div>"
   ]
  },
  {
   "cell_type": "markdown",
   "id": "6df79373",
   "metadata": {},
   "source": [
    "#### 2.3.3. Data types <a id=\"2-3-3\">"
   ]
  },
  {
   "cell_type": "code",
   "execution_count": 298,
   "id": "ec0caaa8",
   "metadata": {},
   "outputs": [
    {
     "data": {
      "text/plain": [
       "date                 object\n",
       "time                 object\n",
       "aircraft             object\n",
       "operator             object\n",
       "registration         object\n",
       "flight_phase         object\n",
       "flight_type          object\n",
       "survivors            object\n",
       "crash_site           object\n",
       "schedule             object\n",
       "msn                  object\n",
       "yom                 float64\n",
       "flight_no           float64\n",
       "crash_location       object\n",
       "country              object\n",
       "region               object\n",
       "crew_on_board       float64\n",
       "crew_fatalities     float64\n",
       "pax_on_board        float64\n",
       "pax_fatalities      float64\n",
       "other_fatalities    float64\n",
       "total_fatalities      int64\n",
       "circumstances        object\n",
       "crash_cause          object\n",
       "dtype: object"
      ]
     },
     "execution_count": 298,
     "metadata": {},
     "output_type": "execute_result"
    }
   ],
   "source": [
    "# let's check dtypes\n",
    "avioset_aab_low.dtypes"
   ]
  },
  {
   "cell_type": "markdown",
   "id": "905c6e48",
   "metadata": {},
   "source": [
    "[Return to Table of Contents](#toc)"
   ]
  },
  {
   "cell_type": "markdown",
   "id": "86608c47",
   "metadata": {},
   "source": [
    "<div style=\"background-color: #9df9ef; padding: 10px;\"></div>"
   ]
  },
  {
   "cell_type": "markdown",
   "id": "636a7790",
   "metadata": {},
   "source": [
    "#### 2.3.4. Convert date to datetime <a id=\"2-3-4\">\n",
    "- We'll convert date to datetime.\n",
    "- We'll add 3 new columns 'year', 'month', 'day'.\n",
    "- We'll delete the 'date' column because we don't need it anymore."
   ]
  },
  {
   "cell_type": "code",
   "execution_count": 299,
   "id": "1bf203d4",
   "metadata": {},
   "outputs": [
    {
     "data": {
      "text/plain": [
       "<bound method Series.unique of 0        1918-05-02\n",
       "1        1918-06-08\n",
       "2        1918-06-11\n",
       "3        1918-06-19\n",
       "4        1918-06-24\n",
       "            ...    \n",
       "28531    2022-05-20\n",
       "28532    2022-05-23\n",
       "28533    2022-05-24\n",
       "28534    2022-05-29\n",
       "28535    2022-06-03\n",
       "Name: date, Length: 28536, dtype: object>"
      ]
     },
     "execution_count": 299,
     "metadata": {},
     "output_type": "execute_result"
    }
   ],
   "source": [
    "avioset_aab_low.date.unique"
   ]
  },
  {
   "cell_type": "code",
   "execution_count": 300,
   "id": "e3928d44",
   "metadata": {},
   "outputs": [],
   "source": [
    "avioset_aab_low['date'] = pd.to_datetime(avioset_aab_low['date'])"
   ]
  },
  {
   "cell_type": "code",
   "execution_count": 301,
   "id": "6d98f810",
   "metadata": {},
   "outputs": [
    {
     "data": {
      "text/plain": [
       "<bound method Series.unique of 0       1918-05-02\n",
       "1       1918-06-08\n",
       "2       1918-06-11\n",
       "3       1918-06-19\n",
       "4       1918-06-24\n",
       "           ...    \n",
       "28531   2022-05-20\n",
       "28532   2022-05-23\n",
       "28533   2022-05-24\n",
       "28534   2022-05-29\n",
       "28535   2022-06-03\n",
       "Name: date, Length: 28536, dtype: datetime64[ns]>"
      ]
     },
     "execution_count": 301,
     "metadata": {},
     "output_type": "execute_result"
    }
   ],
   "source": [
    "avioset_aab_low.date.unique"
   ]
  },
  {
   "cell_type": "code",
   "execution_count": 302,
   "id": "23d63a1f",
   "metadata": {},
   "outputs": [],
   "source": [
    "# Let's add column year\n",
    "avioset_aab_low['year'] = pd.DatetimeIndex(avioset_aab_low['date']).year"
   ]
  },
  {
   "cell_type": "code",
   "execution_count": 303,
   "id": "100c491d",
   "metadata": {},
   "outputs": [],
   "source": [
    "# Let's add column month\n",
    "avioset_aab_low['month'] = pd.DatetimeIndex(avioset_aab_low['date']).month"
   ]
  },
  {
   "cell_type": "code",
   "execution_count": 304,
   "id": "0d7bb7bb",
   "metadata": {},
   "outputs": [],
   "source": [
    "# Let's add column day\n",
    "avioset_aab_low['day'] = pd.DatetimeIndex(avioset_aab_low['date']).day"
   ]
  },
  {
   "cell_type": "code",
   "execution_count": 305,
   "id": "034e1d11",
   "metadata": {},
   "outputs": [
    {
     "data": {
      "text/plain": [
       "array([1918, 1919, 1920, 1921, 1922, 1923, 1924, 1925, 1926, 1927, 1928,\n",
       "       1929, 1930, 1931, 1932, 1933, 1934, 1935, 1936, 1937, 1938, 1939,\n",
       "       1940, 1941, 1942, 1943, 1944, 1945, 1946, 1947, 1948, 1949, 1950,\n",
       "       1951, 1952, 1953, 1954, 1955, 1956, 1957, 1958, 1959, 1960, 1961,\n",
       "       1962, 1963, 1964, 1965, 1966, 1967, 1968, 1969, 1970, 1971, 1972,\n",
       "       1973, 1974, 1975, 1976, 1977, 1978, 1979, 1980, 1981, 1982, 1983,\n",
       "       1984, 1985, 1986, 1987, 1988, 1989, 1990, 1991, 1992, 1993, 1994,\n",
       "       1995, 1996, 1997, 1998, 1999, 2000, 2001, 2002, 2003, 2004, 2005,\n",
       "       2006, 2007, 2008, 2009, 2010, 2011, 2012, 2013, 2014, 2015, 2016,\n",
       "       2017, 2018, 2019, 2020, 2021, 2022])"
      ]
     },
     "execution_count": 305,
     "metadata": {},
     "output_type": "execute_result"
    }
   ],
   "source": [
    "avioset_aab_low['year'].unique()"
   ]
  },
  {
   "cell_type": "code",
   "execution_count": 306,
   "id": "69af2b1b",
   "metadata": {},
   "outputs": [
    {
     "data": {
      "text/plain": [
       "array([ 5,  6,  7,  8,  9, 10, 11, 12,  1,  2,  3,  4])"
      ]
     },
     "execution_count": 306,
     "metadata": {},
     "output_type": "execute_result"
    }
   ],
   "source": [
    "avioset_aab_low['month'].unique()"
   ]
  },
  {
   "cell_type": "code",
   "execution_count": 307,
   "id": "2df7163d",
   "metadata": {},
   "outputs": [
    {
     "data": {
      "text/plain": [
       "array([ 2,  8, 11, 19, 24, 14, 18, 23, 26, 13,  6, 27,  9, 12, 20, 16, 21,\n",
       "       22, 31, 10,  7, 15,  1,  3,  4, 17, 25, 29,  5, 28, 30])"
      ]
     },
     "execution_count": 307,
     "metadata": {},
     "output_type": "execute_result"
    }
   ],
   "source": [
    "avioset_aab_low['day'].unique()"
   ]
  },
  {
   "cell_type": "code",
   "execution_count": 308,
   "id": "1eabac2d",
   "metadata": {},
   "outputs": [],
   "source": [
    "avioset_aab_low = avioset_aab_low.drop('date', axis=1)"
   ]
  },
  {
   "cell_type": "code",
   "execution_count": 309,
   "id": "7e744ef2",
   "metadata": {},
   "outputs": [
    {
     "data": {
      "text/plain": [
       "Index(['time', 'aircraft', 'operator', 'registration', 'flight_phase',\n",
       "       'flight_type', 'survivors', 'crash_site', 'schedule', 'msn', 'yom',\n",
       "       'flight_no', 'crash_location', 'country', 'region', 'crew_on_board',\n",
       "       'crew_fatalities', 'pax_on_board', 'pax_fatalities', 'other_fatalities',\n",
       "       'total_fatalities', 'circumstances', 'crash_cause', 'year', 'month',\n",
       "       'day'],\n",
       "      dtype='object')"
      ]
     },
     "execution_count": 309,
     "metadata": {},
     "output_type": "execute_result"
    }
   ],
   "source": [
    "# Check after all these transformations\n",
    "avioset_aab_low.columns"
   ]
  },
  {
   "cell_type": "markdown",
   "id": "62c38343",
   "metadata": {},
   "source": [
    "[Return to Table of Contents](#toc)"
   ]
  },
  {
   "cell_type": "markdown",
   "id": "7fb03412",
   "metadata": {},
   "source": [
    "<div style=\"background-color: #9df9ef; padding: 10px;\"></div>"
   ]
  },
  {
   "cell_type": "markdown",
   "id": "99267e64",
   "metadata": {},
   "source": [
    "#### 2.3.5. Unique values, nan values <a id=\"2-3-5\">\n",
    "Let's look at the unique values and nan values in each column and decide which columns to use for our further analysis."
   ]
  },
  {
   "cell_type": "code",
   "execution_count": 310,
   "id": "2631271f",
   "metadata": {},
   "outputs": [
    {
     "name": "stdout",
     "output_type": "stream",
     "text": [
      "Unique values in column 'time': \n",
      " [nan '15H 15M 0S' '12H 0M 0S' ... '3H 21M 0S' '2H 53M 0S' '13H 33M 0S']\n",
      "\n",
      " **************** \n",
      "\n",
      "Unique values in column 'aircraft': \n",
      " ['De Havilland DH.4' 'Handley Page V/1500' 'Avro 504' ...\n",
      " 'Cirrus Vision SF50' 'Socata TBM-910' 'Learjet 75']\n",
      "\n",
      " **************** \n",
      "\n",
      "Unique values in column 'operator': \n",
      " ['United States Signal Corps - USSC' 'Handley Page Aircraft Company Ltd'\n",
      " 'Royal Air Force - RAF' ... 'Raul Ignacion Posada'\n",
      " 'Yakutat Coastal Airlines' 'GoJump Oceanside']\n",
      "\n",
      " **************** \n",
      "\n",
      "Unique values in column 'registration': \n",
      " ['AS-32084' 'E4104' 'A8544' ... 'N703TH' '9N-AET' 'N7581F']\n",
      "\n",
      " **************** \n",
      "\n",
      "Unique values in column 'flight_phase': \n",
      " ['Takeoff (climb)' 'Flight' 'Landing (descent or approach)' nan 'Taxiing'\n",
      " 'Parking']\n",
      "\n",
      " **************** \n",
      "\n",
      "Unique values in column 'flight_type': \n",
      " ['Test' 'Training' 'Military' 'Delivery'\n",
      " 'Survey / Patrol / Reconnaissance' 'Postal (mail)' 'Ferry'\n",
      " 'Aerial photography' 'Scheduled Revenue Flight' 'Government' 'Private'\n",
      " 'Charter/Taxi (Non Scheduled Revenue Flight)' nan 'Cargo' 'Positioning'\n",
      " 'Demonstration' 'Ambulance' 'Executive/Corporate/Business' 'Topographic'\n",
      " 'Geographical / Geophysical / Scientific' 'Cinematography'\n",
      " 'Illegal (smuggling)' 'Spraying (Agricultural)' 'Refuelling'\n",
      " 'Humanitarian' 'Bombing' 'Supply' 'Calibration'\n",
      " 'Meteorological / Weather' 'Fire fighting' 'Skydiving / Paratroopers'\n",
      " 'Aerobatic']\n",
      "\n",
      " **************** \n",
      "\n",
      "Unique values in column 'survivors': \n",
      " ['No' 'Yes' nan]\n",
      "\n",
      " **************** \n",
      "\n",
      "Unique values in column 'crash_site': \n",
      " ['Airport (less than 10 km from airport)' 'Plain, Valley' nan\n",
      " 'Lake, Sea, Ocean, River' 'Mountains' 'Desert' 'City']\n",
      "\n",
      " **************** \n",
      "\n",
      "Unique values in column 'schedule': \n",
      " ['Dayton - Dayton' 'Cricklewood - Cricklewood' 'Abukir - Abukir' ...\n",
      " 'Celaya - Durango' 'Yakutat – Dry Bay' 'Oceanside - Oceanside']\n",
      "\n",
      " **************** \n",
      "\n",
      "Unique values in column 'msn': \n",
      " [nan 'B9976' 'B9983' ... '208-0219' '110-460' '61-0277-061']\n",
      "\n",
      " **************** \n",
      "\n",
      "Unique values in column 'yom': \n",
      " [       nan 1.9180e+03 1.9190e+03 1.9200e+03 1.9210e+03 1.9230e+03\n",
      " 1.9220e+03 1.9240e+03 1.9250e+03 1.0000e+00 1.9260e+03 1.9270e+03\n",
      " 1.9280e+03 1.9290e+03 1.9300e+03 1.9310e+03 1.9320e+03 1.9330e+03\n",
      " 1.9350e+03 1.9340e+03 1.7000e+01 2.6000e+01 1.9000e+01 2.2000e+01\n",
      " 1.2000e+01 7.0000e+00 1.9360e+03 2.4000e+01 9.0000e+00 0.0000e+00\n",
      " 1.9370e+03 2.7000e+01 1.9380e+03 1.9390e+03 8.0000e+00 2.8000e+01\n",
      " 1.0000e+01 1.9400e+03 1.2928e+04 1.9410e+03 2.3000e+01 2.0000e+00\n",
      " 2.5000e+01 5.0000e+00 3.0000e+00 1.8000e+01 1.5000e+01 1.9420e+03\n",
      " 1.9430e+03 2.9000e+01 3.1000e+01 6.0000e+00 2.1000e+01 1.9440e+03\n",
      " 1.1000e+01 3.0000e+01 4.0000e+00 1.9450e+03 1.6450e+03 1.4000e+01\n",
      " 9.4300e+02 1.3000e+01 1.6000e+01 1.9460e+03 1.9470e+03 1.9510e+03\n",
      " 1.9480e+03 1.9490e+03 1.9500e+03 2.0000e+01 1.4949e+04 1.9520e+03\n",
      " 1.9530e+03 1.9540e+03 1.9550e+03 1.9590e+03 1.9560e+03 1.9570e+03\n",
      " 1.6510e+03 1.9580e+03 1.9600e+03 1.9610e+03 1.7000e+02 1.9620e+03\n",
      " 1.9630e+03 1.9640e+03 1.9650e+03 1.9660e+03 1.9670e+03 1.9680e+03\n",
      " 1.9690e+03 1.9700e+03 1.9790e+03 1.9710e+03 1.9720e+03 1.9770e+03\n",
      " 1.9730e+03 1.9740e+03 1.9750e+03 1.9760e+03 1.9780e+03 1.9800e+03\n",
      " 1.9567e+04 2.5400e+02 1.9870e+03 1.9810e+03 1.9820e+03 1.9830e+03\n",
      " 1.9840e+03 1.9850e+03 1.9860e+03 1.9880e+03 1.9890e+03 1.9900e+03\n",
      " 1.9910e+03 1.9920e+03 1.9930e+03 1.9940e+03 1.9950e+03 1.9960e+03\n",
      " 1.9970e+03 1.9980e+03 1.9990e+03 2.0000e+03 2.0010e+03 2.0020e+03\n",
      " 2.0030e+03 2.0040e+03 2.0050e+03 2.0060e+03 2.0070e+03 1.9000e+03\n",
      " 2.0080e+03 2.0090e+03 2.0100e+03 2.0120e+03 2.0110e+03 2.0130e+03\n",
      " 2.0140e+03 2.0150e+03 2.0160e+03 2.0170e+03 2.0180e+03 2.0200e+03\n",
      " 2.0190e+03]\n",
      "\n",
      " **************** \n",
      "\n",
      "Unique values in column 'flight_no': \n",
      " [nan]\n",
      "\n",
      " **************** \n",
      "\n",
      "Unique values in column 'crash_location': \n",
      " ['Dayton-McCook Field Ohio' 'Cricklewood London Metropolis'\n",
      " 'Abukir (Abu Qir) Alexandria' ... 'Eldorado do Sul Rio Grande do Sul'\n",
      " 'Dry Bay Alaska' 'Shikha Dhawalagiri']\n",
      "\n",
      " **************** \n",
      "\n",
      "Unique values in column 'country': \n",
      " ['United States of America' 'United Kingdom' 'Egypt' 'France' 'Portugal'\n",
      " 'Greece' 'Slovakia' 'Italy' 'Belgium' 'Ireland' 'Czech Republic' 'Mexico'\n",
      " 'Germany' 'Sudan' 'South Africa' 'Malaysia' 'Tanzania' 'Zimbabwe'\n",
      " 'Switzerland' 'Spain' 'World' 'Colombia' 'Sweden' 'Indonesia' 'Cuba'\n",
      " 'Norway' 'Philippines' 'Canada' 'New Zealand' 'Brazil' 'Poland' 'Iraq'\n",
      " 'Australia' 'Netherlands' 'Denmark' 'Pakistan' 'Chile' 'China' 'Turkey'\n",
      " 'India' 'Morocco' 'Hungary' 'Russia' 'Lithuania' 'Romania' 'Niger'\n",
      " 'Georgia' 'Mauritania' 'Estonia' 'Algeria' 'Uruguay' 'Bolivia'\n",
      " 'Western Sahara' 'Kenya' 'Venezuela' 'Ukraine' 'Dominican Republic'\n",
      " 'Guyana' 'Austria' 'Senegal' 'Finland' 'Papua New Guinea' 'Argentina'\n",
      " 'Bulgaria' 'Japan' 'Panama' 'Bahamas' 'Tunisia' 'Zambia' 'Puerto Rico'\n",
      " 'Costa Rica' 'Myanmar' 'Democratic Republic of Congo' 'South Sudan'\n",
      " 'Paraguay' 'Nicaragua' 'Iran' 'Guatemala' 'Libya' 'Antarctica'\n",
      " 'Azerbaijan' 'Mali' 'Malta' 'Yemen' 'Guinea Bissau' 'Ecuador' 'Thailand'\n",
      " 'Syria' 'Palestine' 'Belarus' 'Lebanon' 'Greenland' 'Singapore'\n",
      " 'Honduras' 'Peru' 'Madagascar' 'Croatia' 'Slovenia' 'Montenegro'\n",
      " 'Ethiopia' 'Kazakhstan' 'Tajikistan' 'Trinidad and Tobago' 'Namibia'\n",
      " 'Benin' 'Uganda' 'Israel' 'Gambia' 'Nigeria' 'Jamaica'\n",
      " 'Bosnia and Herzegovina' 'Chad' 'Mozambique' 'Taiwan' 'Djibouti' 'Guinea'\n",
      " 'Vietnam' 'Iceland' 'Uzbekistan' 'Serbia' 'Turkmenistan' 'Sierra Leone'\n",
      " 'Fiji Islands' 'Kyrgyzstan' 'Kuwait' 'Tonga' 'Solomon Islands'\n",
      " 'New Caledonia' 'Vanuatu' 'Timor Leste' 'Central African Republic'\n",
      " 'Bermuda' 'Suriname' 'Kiribati' 'Eritrea' 'Ghana' 'Oman' 'Cyprus'\n",
      " 'Bangladesh' 'Sri Lanka' 'Latvia' 'Bhutan' 'Liberia' 'Bahrain' 'Palau'\n",
      " 'Marshall Islands' nan 'Ascension Island' 'Tuvalu' 'Guam Island'\n",
      " 'Ivory Coast' 'United Arab Emirates' 'Martinique'\n",
      " 'Northern Mariana Islands' 'Cambodia' 'Nepal' 'South Korea' 'Salvador'\n",
      " 'Cameroon' 'Jordan' 'Saudi Arabia' 'Somalia'\n",
      " 'Federated States of Micronesia' 'Macedonia' 'US Virgin Islands' 'Congo'\n",
      " 'Burkina Faso' 'Angola' 'North Korea' 'Samoa Islands (Western Samoa)'\n",
      " 'Laos' 'Cayman Islands' 'Malawi' 'Luxembourg' 'Afghanistan' 'Armenia'\n",
      " 'Faroe Islands' 'Lesotho' 'Cabo Verde' 'French Polynesia' 'Haiti'\n",
      " 'Maldivian Islands' 'Saint Kitts and Nevis' 'Mauritius'\n",
      " 'Equatorial Guinea' 'Saint Pierre and Miquelon' 'Gabon' 'Belize'\n",
      " 'Guadeloupe' 'São Tomé and Principe' 'Turks and Caicos Islands'\n",
      " 'Mongolia' 'Dutch Antilles' 'Moldova' 'Montserrat'\n",
      " 'British Virgin Islands' 'Comoros Islands' 'La Reunion' 'French Guyana'\n",
      " 'Botswana' 'Monaco' 'Saint Lucia' 'Togo' 'American Samoa'\n",
      " 'Falkland Islands' 'Seychelles' 'Barbados' 'Saint-Barthélemy' 'Qatar'\n",
      " 'Saint Vincent and Grenadines' 'Mayotte' 'Rwanda' 'Chagos Archipelago'\n",
      " 'Cook Islands' 'Dominica' 'Albania' 'Kosovo' 'Swaziland' 'Anguilla'\n",
      " 'Antigua']\n",
      "\n",
      " **************** \n",
      "\n",
      "Unique values in column 'region': \n",
      " ['North America' 'Europe' 'Africa' 'Central America' 'Asia' 'World'\n",
      " 'South America' 'Oceania' 'Antarctica' nan]\n",
      "\n",
      " **************** \n",
      "\n",
      "Unique values in column 'crew_on_board': \n",
      " [2.000e+00 6.000e+00 1.000e+00       nan 0.000e+00 3.000e+00 4.000e+00\n",
      " 7.000e+00 5.000e+00 1.700e+01 8.000e+00 9.000e+00 1.200e+01 1.924e+03\n",
      " 2.000e+01 1.000e+01 1.400e+01 1.100e+01 1.500e+01 1.300e+01 1.600e+01\n",
      " 1.900e+01 1.800e+01 2.200e+01 2.300e+01 2.100e+01 4.800e+01 1.070e+02\n",
      " 2.500e+01 3.700e+01]\n",
      "\n",
      " **************** \n",
      "\n",
      "Unique values in column 'crew_fatalities': \n",
      " [ 2.  5.  1.  0.  3.  4. 17.  6.  8.  9.  7. 15. 10. 14. 12. 11. 13. 18.\n",
      " 19. 16. 21. 25. 23. 20. nan 22.]\n",
      "\n",
      " **************** \n",
      "\n",
      "Unique values in column 'pax_on_board': \n",
      " [  0.  nan   5.   3.   4.   1.   2.  12.   8.   6.   7.  10.   9.  13.\n",
      "  11.  14.  33.  15.  20.  16.  18.  21.  23.  27.  19.  31.  28.  22.\n",
      "  17.  26.  30.  75.  25.  32.  35.  24.  46.  40.  37.  55.  34.  42.\n",
      "  43.  29.  41.  38.  48.  44.  49.  47.  36.  62.  39.  51.  45.  78.\n",
      "  50.  52.  59.  64.  68. 105. 122.  79.  58.  60.  63.  70.  53.  56.\n",
      "  65.  74.  95. 149.  57.  73.  91.  71.  67.  54.  61.  86.  77.  97.\n",
      "  69.  89.  85. 115. 110.  87. 101.  96. 103.  76.  94.  80. 111.  81.\n",
      " 136.  84. 114.  72. 106. 126. 113.  93. 120.  83. 116.  99.  98. 150.\n",
      " 100. 146. 219. 118. 155. 104. 108. 109. 148. 164. 163. 193. 139. 117.\n",
      " 154. 166.  82. 334.  92. 102. 140. 182. 314. 384. 181. 124. 128. 364.\n",
      " 121. 234. 380. 127. 156. 159. 190. 189. 186. 211.  66. 249. 162. 258.\n",
      "  88. 144. 145. 237. 152. 138. 287. 174. 213. 160. 172. 200. 112. 133.\n",
      " 381.  90. 227. 246. 123. 173. 233. 170. 141. 307. 191. 509. 131. 265.\n",
      " 248. 175. 185. 137. 240. 130. 274. 158. 129. 243. 178. 285. 157. 125.\n",
      " 195. 179. 247. 280. 151. 107. 327. 147. 119. 250. 165. 256. 451. 176.\n",
      " 260. 212. 134. 289. 222. 379. 215. 132. 252. 300. 236. 202. 296. 169.\n",
      " 171. 221. 143. 135. 187. 197. 251. 206. 188. 257. 153. 261. 201. 297.\n",
      " 324. 345. 203. 168. 216. 142. 291. 288. 283. 224. 217. 282. 161. 226.\n",
      " 167. 177. 184.]\n",
      "\n",
      " **************** \n",
      "\n",
      "Unique values in column 'pax_fatalities': \n",
      " [  0.   5.   3.   1.  12.   2.   6.   4.   7.   9.  13.  14.  10.  nan\n",
      "   8.  33.  11.  16.  21.  23.  27.  15.  19.  18.  22.  17.  30.  40.\n",
      "  25.  20.  28.  34.  24.  46.  32.  35.  26.  37.  55.  42.  31.  29.\n",
      "  38.  48.  41.  49.  47.  36.  39.  52.  51.  75.  44.  43.  45.  82.\n",
      " 122.  60.  63.  64.  53.  59.  57.  73.  56.  91.  58.  71.  62.  77.\n",
      "  61.  69.  74.  50.  87. 101.  96. 120. 103.  76.  85.  79.  80.  95.\n",
      " 111.  81.  78. 108.  72. 106. 126.  54. 113.  92. 117.  83.  99.  65.\n",
      "  98. 150.  89.  93.  97. 105. 100. 155. 104. 115. 109. 148. 164. 170.\n",
      " 116.  68. 114. 334. 102.  70.  67. 182. 107. 181. 146. 234. 326. 125.\n",
      " 190.  66. 128. 175. 258.  88. 145. 237. 138. 156. 287. 172. 124.  84.\n",
      " 246. 123. 162. 169. 141. 307. 191. 506. 248. 159. 140. 136. 274. 127.\n",
      " 243. 137. 167. 110. 213. 247. 121. 151. 131. 147. 119. 249.  90. 176.\n",
      " 212. 130. 134. 289. 214. 222. 215. 202. 135. 251. 206. 257. 152. 160.\n",
      " 216. 227. 283. 144. 217. 149.]\n",
      "\n",
      " **************** \n",
      "\n",
      "Unique values in column 'other_fatalities': \n",
      " [  0.   5.   1.  nan   2.   3.  11.  10.  13.   7.   6.  23.   8.   4.\n",
      "  19.  58.  15.  16.   9.  33.  38.  49. 107.  44.  71.  24.  27. 110.\n",
      "  20.  12. 180.  22.  14.  54.  36.  45.  43. 297.  18.  30.  78.  28.\n",
      "  37.  25.  17.  35.]\n",
      "\n",
      " **************** \n",
      "\n",
      "Unique values in column 'total_fatalities': \n",
      " [  2   5   1   0   7   4   3  14   6  17   8   9  16  12  15  10  11  45\n",
      "  13  19  20  18  25  29  30  22  26  27  21  36  35  34  24  23  32  40\n",
      "  31  28  61  51  37  44  41  59  39  43  53  50  42  52  33  48  55  38\n",
      "  80  46  58  56  87 129  47  66  74  70  62  67  79  65  99  64  60  68\n",
      "  54  63  90  73  78  72  83  77  95 111 107 130 113  84  94  81  86  97\n",
      " 101 118  85  49  57 121  69 117 133 124  98  82 126  88 102 123 155 100\n",
      "  96  92 112 109  75 162  91 104 115 122 156 174 176 108 106 346 191 188\n",
      "  76 154 248 335 131 213 142 183 192 273 257 128 146 166 301  89 110 180\n",
      " 137 132 153 119 269 181 178 148 329 200 135 520 256 167 103 159 143 290\n",
      " 270 144 171 170 223 261 141 157 116 125 264 160  71 298 189 230 312 228\n",
      " 234 203 229 217 169 145 114 265 225 275 105 149 199 152 168 158 127 239\n",
      " 150 139 224]\n",
      "\n",
      " **************** \n",
      "\n",
      "Unique values in column 'circumstances': \n",
      " ['The single engine airplane departed Dayton-McCook Field for a local test flight. Shortly after takeoff, the aircraft stalled and crashed, killing both occupants. Crew: Maj Oscar Brindley, Lt Col Henry Damm.'\n",
      " 'Assembled at Cricklewood Airfield in May 1918, the aircraft departed Cricklewood for its 13th test flight, carrying six crew members. Shortly after takeoff, while climbing to a height of about 700-800 feet, all four engines stopped. The pilot elected to return for an emergency landing when the aircraft stalled and crashed in a field located in front of 21 Garrick Avenue in Golders Green, bursting into flames. Colonel Ogilvie, who was seating in the tail gunner position at the back of the plane, survived, while all five other occupants were killed. Crew: Cpt Vernon Earl George Busby, pilot, † Mr. Bertram G. Cooper, † Mr. R. P. Cooper, † Mr. W. H. Hathaway, † Mr. J. W. Windebank, † Colonel Ogilvie.'\n",
      " 'The single engine aircraft was completing a local training flight when it stalled and crashed near Abukir. A crew member was killed and the second was injured. Crew: 2nd Lt G. E. Satterthwaite, † 2nd Lt J. Acheson.'\n",
      " ...\n",
      " 'The single engine airplane departed Yakutat on an on-demand flight to Dry Bay, a remote airstrip located about 30 miles southeast of the Southeast Alaska community of Yakutat. On final approach, the aircraft crashed in a wooded area located short of runway. All four occupants were injured, three critically.'\n",
      " 'The twin engine airplane departed Pokhara City Airport Runway 04 at 0955LT on a schedule service to Jomsom, carrying 19 passengers and three crew members. After takeoff, the pilot initiated a turn to the left and continued to climb to 12,000 feet (calibrated altitude) when a turn was initiated to the right. In limited visibility, the aircraft impacted the slope of a rocky mountain located in the area of Shikha, some 14 km southwest from the Annapurna Mountain. The wreckage was found the following day. The aircraft disintegrated on impact and all 22 occupants were killed.'\n",
      " 'The single engine was completing local skydiving flights out from Oceanside Airport. On final approach to runway 25, the airplane apparently stalled and crashed against an embankment located about 400 metres short of runway. The pilot was seriously injured and the jumpmaster was killed.']\n",
      "\n",
      " **************** \n",
      "\n",
      "Unique values in column 'crash_cause': \n",
      " ['Technical failure' 'Unknown' 'Weather' 'Human factor' 'Other causes'\n",
      " 'Terrorism act, Hijacking, Sabotage']\n",
      "\n",
      " **************** \n",
      "\n",
      "Unique values in column 'year': \n",
      " [1918 1919 1920 1921 1922 1923 1924 1925 1926 1927 1928 1929 1930 1931\n",
      " 1932 1933 1934 1935 1936 1937 1938 1939 1940 1941 1942 1943 1944 1945\n",
      " 1946 1947 1948 1949 1950 1951 1952 1953 1954 1955 1956 1957 1958 1959\n",
      " 1960 1961 1962 1963 1964 1965 1966 1967 1968 1969 1970 1971 1972 1973\n",
      " 1974 1975 1976 1977 1978 1979 1980 1981 1982 1983 1984 1985 1986 1987\n",
      " 1988 1989 1990 1991 1992 1993 1994 1995 1996 1997 1998 1999 2000 2001\n",
      " 2002 2003 2004 2005 2006 2007 2008 2009 2010 2011 2012 2013 2014 2015\n",
      " 2016 2017 2018 2019 2020 2021 2022]\n",
      "\n",
      " **************** \n",
      "\n",
      "Unique values in column 'month': \n",
      " [ 5  6  7  8  9 10 11 12  1  2  3  4]\n",
      "\n",
      " **************** \n",
      "\n",
      "Unique values in column 'day': \n",
      " [ 2  8 11 19 24 14 18 23 26 13  6 27  9 12 20 16 21 22 31 10  7 15  1  3\n",
      "  4 17 25 29  5 28 30]\n",
      "\n",
      " **************** \n",
      "\n"
     ]
    }
   ],
   "source": [
    "# View unique values for all columns\n",
    "def all_columns_unique_values(df):\n",
    "    for col in df.columns:\n",
    "        print(f\"Unique values in column \\'{col}\\': \\n {df[col].unique()}\\n\\n **************** \\n\")\n",
    "\n",
    "all_columns_unique_values(avioset_aab_low)"
   ]
  },
  {
   "cell_type": "code",
   "execution_count": 311,
   "id": "79788eec",
   "metadata": {},
   "outputs": [
    {
     "name": "stdout",
     "output_type": "stream",
     "text": [
      "All nan values in column 'time': \n",
      " 14587\n",
      "\n",
      " **************** \n",
      "\n",
      "All nan values in column 'aircraft': \n",
      " 1\n",
      "\n",
      " **************** \n",
      "\n",
      "All nan values in column 'operator': \n",
      " 0\n",
      "\n",
      " **************** \n",
      "\n",
      "All nan values in column 'registration': \n",
      " 815\n",
      "\n",
      " **************** \n",
      "\n",
      "All nan values in column 'flight_phase': \n",
      " 638\n",
      "\n",
      " **************** \n",
      "\n",
      "All nan values in column 'flight_type': \n",
      " 57\n",
      "\n",
      " **************** \n",
      "\n",
      "All nan values in column 'survivors': \n",
      " 1297\n",
      "\n",
      " **************** \n",
      "\n",
      "All nan values in column 'crash_site': \n",
      " 383\n",
      "\n",
      " **************** \n",
      "\n",
      "All nan values in column 'schedule': \n",
      " 8946\n",
      "\n",
      " **************** \n",
      "\n",
      "All nan values in column 'msn': \n",
      " 4182\n",
      "\n",
      " **************** \n",
      "\n",
      "All nan values in column 'yom': \n",
      " 5311\n",
      "\n",
      " **************** \n",
      "\n",
      "All nan values in column 'flight_no': \n",
      " 28536\n",
      "\n",
      " **************** \n",
      "\n",
      "All nan values in column 'crash_location': \n",
      " 12\n",
      "\n",
      " **************** \n",
      "\n",
      "All nan values in column 'country': \n",
      " 1\n",
      "\n",
      " **************** \n",
      "\n",
      "All nan values in column 'region': \n",
      " 1\n",
      "\n",
      " **************** \n",
      "\n",
      "All nan values in column 'crew_on_board': \n",
      " 24\n",
      "\n",
      " **************** \n",
      "\n",
      "All nan values in column 'crew_fatalities': \n",
      " 1\n",
      "\n",
      " **************** \n",
      "\n",
      "All nan values in column 'pax_on_board': \n",
      " 54\n",
      "\n",
      " **************** \n",
      "\n",
      "All nan values in column 'pax_fatalities': \n",
      " 1\n",
      "\n",
      " **************** \n",
      "\n",
      "All nan values in column 'other_fatalities': \n",
      " 10\n",
      "\n",
      " **************** \n",
      "\n",
      "All nan values in column 'total_fatalities': \n",
      " 0\n",
      "\n",
      " **************** \n",
      "\n",
      "All nan values in column 'circumstances': \n",
      " 25\n",
      "\n",
      " **************** \n",
      "\n",
      "All nan values in column 'crash_cause': \n",
      " 0\n",
      "\n",
      " **************** \n",
      "\n",
      "All nan values in column 'year': \n",
      " 0\n",
      "\n",
      " **************** \n",
      "\n",
      "All nan values in column 'month': \n",
      " 0\n",
      "\n",
      " **************** \n",
      "\n",
      "All nan values in column 'day': \n",
      " 0\n",
      "\n",
      " **************** \n",
      "\n"
     ]
    }
   ],
   "source": [
    "# View NAN values in all columns\n",
    "def all_columns_nan_values(df):\n",
    "    for col in df.columns:\n",
    "        print(f\"All nan values in column \\'{col}\\': \\n {df[col].isna().sum()}\\n\\n **************** \\n\")\n",
    "\n",
    "all_columns_nan_values(avioset_aab_low)"
   ]
  },
  {
   "cell_type": "markdown",
   "id": "6f96c10d",
   "metadata": {},
   "source": [
    "[Return to Table of Contents](#toc)"
   ]
  },
  {
   "cell_type": "markdown",
   "id": "204ad1a0",
   "metadata": {},
   "source": [
    "<div style=\"background-color: #9df9ef; padding: 10px;\"></div>"
   ]
  },
  {
   "cell_type": "markdown",
   "id": "6f2bfa2d",
   "metadata": {},
   "source": [
    "#### 2.3.6. Column analysis <a id=\"2-3-6\">\n",
    "We'll make a deep copy of our dataset into new one and will clean or change some data."
   ]
  },
  {
   "cell_type": "code",
   "execution_count": 312,
   "id": "32a73d81",
   "metadata": {},
   "outputs": [],
   "source": [
    "avioset = avioset_aab_low.copy()"
   ]
  },
  {
   "cell_type": "markdown",
   "id": "841ee3ec",
   "metadata": {},
   "source": [
    "<div style=\"background-color: #9df9ef; padding: 10px;\"></div>"
   ]
  },
  {
   "cell_type": "markdown",
   "id": "b1bd6dad",
   "metadata": {},
   "source": [
    "##### Column 'time' has 14587 nan values from 28536 which is more than 51% of all our data. That's why we'll delete it."
   ]
  },
  {
   "cell_type": "code",
   "execution_count": 313,
   "id": "41ad8acb",
   "metadata": {},
   "outputs": [],
   "source": [
    "# Drop a column col from dataset df\n",
    "def drop_column(col, df):\n",
    "    df = df.drop(col, axis = 1)\n",
    "    return df"
   ]
  },
  {
   "cell_type": "code",
   "execution_count": 314,
   "id": "68a882a6",
   "metadata": {},
   "outputs": [],
   "source": [
    "avioset = drop_column('time', avioset)"
   ]
  },
  {
   "cell_type": "code",
   "execution_count": 315,
   "id": "696c61c5",
   "metadata": {},
   "outputs": [
    {
     "data": {
      "text/plain": [
       "Index(['aircraft', 'operator', 'registration', 'flight_phase', 'flight_type',\n",
       "       'survivors', 'crash_site', 'schedule', 'msn', 'yom', 'flight_no',\n",
       "       'crash_location', 'country', 'region', 'crew_on_board',\n",
       "       'crew_fatalities', 'pax_on_board', 'pax_fatalities', 'other_fatalities',\n",
       "       'total_fatalities', 'circumstances', 'crash_cause', 'year', 'month',\n",
       "       'day'],\n",
       "      dtype='object')"
      ]
     },
     "execution_count": 315,
     "metadata": {},
     "output_type": "execute_result"
    }
   ],
   "source": [
    "# Check\n",
    "avioset.columns"
   ]
  },
  {
   "cell_type": "markdown",
   "id": "0c4babf0",
   "metadata": {},
   "source": [
    "<div style=\"background-color: #9df9ef; padding: 10px;\"></div>"
   ]
  },
  {
   "cell_type": "markdown",
   "id": "39723c12",
   "metadata": {},
   "source": [
    "##### Column 'aircraft' has only 1 nan value. That's why we'll delete this row."
   ]
  },
  {
   "cell_type": "code",
   "execution_count": 316,
   "id": "4b1b6db8",
   "metadata": {},
   "outputs": [],
   "source": [
    "# Delete all rows with nan values in a column col\n",
    "def del_nan_in_col(df, col):\n",
    "    df = df.dropna(subset=[col])\n",
    "    return df"
   ]
  },
  {
   "cell_type": "code",
   "execution_count": 317,
   "id": "94b81891",
   "metadata": {},
   "outputs": [],
   "source": [
    "# Deleting the row with nan value in column 'aircraft'\n",
    "avioset = del_nan_in_col(avioset, 'aircraft')"
   ]
  },
  {
   "cell_type": "code",
   "execution_count": 318,
   "id": "53c971a0",
   "metadata": {},
   "outputs": [
    {
     "data": {
      "text/plain": [
       "(28535, 25)"
      ]
     },
     "execution_count": 318,
     "metadata": {},
     "output_type": "execute_result"
    }
   ],
   "source": [
    "avioset.shape"
   ]
  },
  {
   "cell_type": "code",
   "execution_count": 319,
   "id": "b628ba3e",
   "metadata": {},
   "outputs": [
    {
     "data": {
      "text/plain": [
       "0"
      ]
     },
     "execution_count": 319,
     "metadata": {},
     "output_type": "execute_result"
    }
   ],
   "source": [
    "# Check nan in column 'aircraft'\n",
    "avioset['aircraft'].isna().sum()"
   ]
  },
  {
   "cell_type": "markdown",
   "id": "c02fc174",
   "metadata": {},
   "source": [
    "<div style=\"background-color: #9df9ef; padding: 10px;\"></div>"
   ]
  },
  {
   "cell_type": "markdown",
   "id": "0b7d011b",
   "metadata": {},
   "source": [
    "##### Column 'operator' has 0 nan values. It remains unchanged."
   ]
  },
  {
   "cell_type": "markdown",
   "id": "86885a79",
   "metadata": {},
   "source": [
    "<div style=\"background-color: #9df9ef; padding: 10px;\"></div>"
   ]
  },
  {
   "cell_type": "markdown",
   "id": "daac1321",
   "metadata": {},
   "source": [
    "##### Column 'registration'.\n",
    "Let's check unique values."
   ]
  },
  {
   "cell_type": "code",
   "execution_count": 320,
   "id": "6e00d6cb",
   "metadata": {},
   "outputs": [
    {
     "name": "stdout",
     "output_type": "stream",
     "text": [
      "Unique values in column registration are 27280\n"
     ]
    }
   ],
   "source": [
    "# Calculates how many unique values do we have in column col from dataset df\n",
    "def count_col_unique_val(df, col):\n",
    "    unique_count = df[col].nunique()\n",
    "    print(f\"Unique values in column {col} are {unique_count}\")\n",
    "\n",
    "count_col_unique_val(avioset, 'registration')"
   ]
  },
  {
   "cell_type": "code",
   "execution_count": 321,
   "id": "59ed9d6c",
   "metadata": {},
   "outputs": [
    {
     "name": "stdout",
     "output_type": "stream",
     "text": [
      "registration\n",
      "NaN       815\n",
      "1           8\n",
      "2           7\n",
      "5           7\n",
      "6           6\n",
      "         ... \n",
      "CF-ETC      1\n",
      "G-ALXJ      1\n",
      "G-ALGO      1\n",
      "HK-126      1\n",
      "N7581F      1\n",
      "Name: count, Length: 27281, dtype: int64\n"
     ]
    }
   ],
   "source": [
    "# Print unique value counts in a column col\n",
    "def print_value_counts(df, col):\n",
    "    value_counts = df[col].value_counts(dropna=False)\n",
    "    print(value_counts)\n",
    "\n",
    "print_value_counts(avioset, 'registration')"
   ]
  },
  {
   "cell_type": "markdown",
   "id": "d578ccfc",
   "metadata": {},
   "source": [
    "In the distribution of the data in column 'registration', there is no separation into larger groups around some values. Therefore, we will delete this column as well."
   ]
  },
  {
   "cell_type": "code",
   "execution_count": 322,
   "id": "2a5b79da",
   "metadata": {},
   "outputs": [],
   "source": [
    "avioset = drop_column('registration', avioset)"
   ]
  },
  {
   "cell_type": "code",
   "execution_count": 323,
   "id": "66daeb1a",
   "metadata": {},
   "outputs": [
    {
     "data": {
      "text/plain": [
       "Index(['aircraft', 'operator', 'flight_phase', 'flight_type', 'survivors',\n",
       "       'crash_site', 'schedule', 'msn', 'yom', 'flight_no', 'crash_location',\n",
       "       'country', 'region', 'crew_on_board', 'crew_fatalities', 'pax_on_board',\n",
       "       'pax_fatalities', 'other_fatalities', 'total_fatalities',\n",
       "       'circumstances', 'crash_cause', 'year', 'month', 'day'],\n",
       "      dtype='object')"
      ]
     },
     "execution_count": 323,
     "metadata": {},
     "output_type": "execute_result"
    }
   ],
   "source": [
    "# Check\n",
    "avioset.columns"
   ]
  },
  {
   "cell_type": "markdown",
   "id": "de7813a2",
   "metadata": {},
   "source": [
    "<div style=\"background-color: #9df9ef; padding: 10px;\"></div>"
   ]
  },
  {
   "cell_type": "markdown",
   "id": "729ba1c1",
   "metadata": {},
   "source": [
    "##### Column 'flight_phase'"
   ]
  },
  {
   "cell_type": "code",
   "execution_count": 324,
   "id": "970eeca1",
   "metadata": {},
   "outputs": [
    {
     "name": "stdout",
     "output_type": "stream",
     "text": [
      "flight_phase\n",
      "Flight                           11475\n",
      "Landing (descent or approach)    10023\n",
      "Takeoff (climb)                   6051\n",
      "NaN                                638\n",
      "Taxiing                            236\n",
      "Parking                            112\n",
      "Name: count, dtype: int64\n"
     ]
    }
   ],
   "source": [
    "# Print unique value counts in a column 'flight_phase'\n",
    "print_value_counts(avioset, 'flight_phase')"
   ]
  },
  {
   "cell_type": "markdown",
   "id": "ca52bdd7",
   "metadata": {},
   "source": [
    "##### There are 638 NAN values. We'll replace them with empty string."
   ]
  },
  {
   "cell_type": "code",
   "execution_count": 325,
   "id": "d2bfaaab",
   "metadata": {},
   "outputs": [
    {
     "name": "stdout",
     "output_type": "stream",
     "text": [
      "flight_phase\n",
      "Flight                           11475\n",
      "Landing (descent or approach)    10023\n",
      "Takeoff (climb)                   6051\n",
      "                                   638\n",
      "Taxiing                            236\n",
      "Parking                            112\n",
      "Name: count, dtype: int64\n",
      "Shape of avioset is (28535, 24)\n"
     ]
    }
   ],
   "source": [
    "# Replace with empty string\n",
    "avioset['flight_phase'] = avioset['flight_phase'].fillna(\"\")\n",
    "\n",
    "# Check\n",
    "print_value_counts(avioset, 'flight_phase')\n",
    "print(f\"Shape of avioset is {avioset.shape}\")"
   ]
  },
  {
   "cell_type": "markdown",
   "id": "7b891032",
   "metadata": {},
   "source": [
    "<div style=\"background-color: #9df9ef; padding: 10px;\"></div>"
   ]
  },
  {
   "cell_type": "markdown",
   "id": "14aaacc2",
   "metadata": {},
   "source": [
    "##### Column 'flight_type'"
   ]
  },
  {
   "cell_type": "code",
   "execution_count": 326,
   "id": "89a57312",
   "metadata": {},
   "outputs": [
    {
     "name": "stdout",
     "output_type": "stream",
     "text": [
      "flight_type\n",
      "Scheduled Revenue Flight                       6035\n",
      "Military                                       4649\n",
      "Training                                       3300\n",
      "Cargo                                          2814\n",
      "Private                                        2343\n",
      "Charter/Taxi (Non Scheduled Revenue Flight)    1830\n",
      "Executive/Corporate/Business                   1050\n",
      "Survey / Patrol / Reconnaissance                896\n",
      "Bombing                                         672\n",
      "Positioning                                     671\n",
      "Test                                            565\n",
      "Spraying (Agricultural)                         501\n",
      "Postal (mail)                                   494\n",
      "Ferry                                           426\n",
      "Supply                                          415\n",
      "Government                                      246\n",
      "Ambulance                                       228\n",
      "Illegal (smuggling)                             225\n",
      "Delivery                                        192\n",
      "Demonstration                                   173\n",
      "Skydiving / Paratroopers                        169\n",
      "Fire fighting                                   147\n",
      "Humanitarian                                    134\n",
      "Aerial photography                               77\n",
      "Geographical / Geophysical / Scientific          67\n",
      "NaN                                              57\n",
      "Refuelling                                       51\n",
      "Meteorological / Weather                         34\n",
      "Calibration                                      32\n",
      "Topographic                                      29\n",
      "Cinematography                                   12\n",
      "Aerobatic                                         1\n",
      "Name: count, dtype: int64\n"
     ]
    }
   ],
   "source": [
    "# Print unique value counts in a column 'flight_type'\n",
    "print_value_counts(avioset, 'flight_type')"
   ]
  },
  {
   "cell_type": "markdown",
   "id": "7e356d24",
   "metadata": {},
   "source": [
    "##### There are only 57 nan out of 28535 ~ 0,2%.  That's why we'll replace them with empty string."
   ]
  },
  {
   "cell_type": "code",
   "execution_count": 327,
   "id": "5e9224f2",
   "metadata": {},
   "outputs": [
    {
     "name": "stdout",
     "output_type": "stream",
     "text": [
      "flight_type\n",
      "Scheduled Revenue Flight                       6035\n",
      "Military                                       4649\n",
      "Training                                       3300\n",
      "Cargo                                          2814\n",
      "Private                                        2343\n",
      "Charter/Taxi (Non Scheduled Revenue Flight)    1830\n",
      "Executive/Corporate/Business                   1050\n",
      "Survey / Patrol / Reconnaissance                896\n",
      "Bombing                                         672\n",
      "Positioning                                     671\n",
      "Test                                            565\n",
      "Spraying (Agricultural)                         501\n",
      "Postal (mail)                                   494\n",
      "Ferry                                           426\n",
      "Supply                                          415\n",
      "Government                                      246\n",
      "Ambulance                                       228\n",
      "Illegal (smuggling)                             225\n",
      "Delivery                                        192\n",
      "Demonstration                                   173\n",
      "Skydiving / Paratroopers                        169\n",
      "Fire fighting                                   147\n",
      "Humanitarian                                    134\n",
      "Aerial photography                               77\n",
      "Geographical / Geophysical / Scientific          67\n",
      "                                                 57\n",
      "Refuelling                                       51\n",
      "Meteorological / Weather                         34\n",
      "Calibration                                      32\n",
      "Topographic                                      29\n",
      "Cinematography                                   12\n",
      "Aerobatic                                         1\n",
      "Name: count, dtype: int64\n",
      "Shape of avioset is (28535, 24)\n"
     ]
    }
   ],
   "source": [
    "# Replace with empty string\n",
    "avioset['flight_type'] = avioset['flight_type'].fillna(\"\")\n",
    "\n",
    "# Check\n",
    "print_value_counts(avioset, 'flight_type')\n",
    "print(f\"Shape of avioset is {avioset.shape}\")"
   ]
  },
  {
   "cell_type": "markdown",
   "id": "b11c17cd",
   "metadata": {},
   "source": [
    "<div style=\"background-color: #9df9ef; padding: 10px;\"></div>"
   ]
  },
  {
   "cell_type": "markdown",
   "id": "bac60834",
   "metadata": {},
   "source": [
    "##### Column 'survivors'"
   ]
  },
  {
   "cell_type": "code",
   "execution_count": 328,
   "id": "4050f98c",
   "metadata": {},
   "outputs": [
    {
     "name": "stdout",
     "output_type": "stream",
     "text": [
      "survivors\n",
      "Yes    15528\n",
      "No     11711\n",
      "NaN     1296\n",
      "Name: count, dtype: int64\n"
     ]
    }
   ],
   "source": [
    "# Print unique value counts in a column 'survivors'\n",
    "print_value_counts(avioset, 'survivors')"
   ]
  },
  {
   "cell_type": "markdown",
   "id": "2aa5cb12",
   "metadata": {},
   "source": [
    "##### There are only 1296 nan out of 28535 ~ 4,54%.  That's why we'll replace them with empty string. "
   ]
  },
  {
   "cell_type": "code",
   "execution_count": 329,
   "id": "94f706e5",
   "metadata": {},
   "outputs": [
    {
     "name": "stdout",
     "output_type": "stream",
     "text": [
      "survivors\n",
      "Yes    15528\n",
      "No     11711\n",
      "        1296\n",
      "Name: count, dtype: int64\n",
      "Shape of avioset is (28535, 24)\n"
     ]
    }
   ],
   "source": [
    "# Replace with empty string\n",
    "avioset['survivors'] = avioset['survivors'].fillna(\"\")\n",
    "\n",
    "# Check\n",
    "print_value_counts(avioset, 'survivors')\n",
    "print(f\"Shape of avioset is {avioset.shape}\")"
   ]
  },
  {
   "cell_type": "markdown",
   "id": "d89b3936",
   "metadata": {},
   "source": [
    "<div style=\"background-color: #9df9ef; padding: 10px;\"></div>"
   ]
  },
  {
   "cell_type": "markdown",
   "id": "86af2a35",
   "metadata": {},
   "source": [
    "##### Column 'crash_site'"
   ]
  },
  {
   "cell_type": "code",
   "execution_count": 330,
   "id": "0bc8128a",
   "metadata": {},
   "outputs": [
    {
     "name": "stdout",
     "output_type": "stream",
     "text": [
      "crash_site\n",
      "Airport (less than 10 km from airport)    13589\n",
      "Plain, Valley                              6527\n",
      "Lake, Sea, Ocean, River                    3853\n",
      "Mountains                                  3440\n",
      "City                                        537\n",
      "NaN                                         383\n",
      "Desert                                      206\n",
      "Name: count, dtype: int64\n"
     ]
    }
   ],
   "source": [
    "# Print unique value counts in a column 'crash_site'\n",
    "print_value_counts(avioset, 'crash_site')"
   ]
  },
  {
   "cell_type": "markdown",
   "id": "ac82e010",
   "metadata": {},
   "source": [
    "##### There are only 383 nan out of 28535 ~ 1,34%.  That's why we'll replace them with empty string. "
   ]
  },
  {
   "cell_type": "code",
   "execution_count": 331,
   "id": "326253ed",
   "metadata": {},
   "outputs": [
    {
     "name": "stdout",
     "output_type": "stream",
     "text": [
      "crash_site\n",
      "Airport (less than 10 km from airport)    13589\n",
      "Plain, Valley                              6527\n",
      "Lake, Sea, Ocean, River                    3853\n",
      "Mountains                                  3440\n",
      "City                                        537\n",
      "                                            383\n",
      "Desert                                      206\n",
      "Name: count, dtype: int64\n",
      "Shape of avioset is (28535, 24)\n"
     ]
    }
   ],
   "source": [
    "# Replace with empty string\n",
    "avioset['crash_site'] = avioset['crash_site'].fillna(\"\")\n",
    "\n",
    "# Check\n",
    "print_value_counts(avioset, 'crash_site')\n",
    "print(f\"Shape of avioset is {avioset.shape}\")"
   ]
  },
  {
   "cell_type": "markdown",
   "id": "3cfcd151",
   "metadata": {},
   "source": [
    "<div style=\"background-color: #9df9ef; padding: 10px;\"></div>"
   ]
  },
  {
   "cell_type": "markdown",
   "id": "9d552f82",
   "metadata": {},
   "source": [
    "##### Column 'schedule'"
   ]
  },
  {
   "cell_type": "code",
   "execution_count": 332,
   "id": "c0052acb",
   "metadata": {},
   "outputs": [
    {
     "name": "stdout",
     "output_type": "stream",
     "text": [
      "schedule\n",
      "NaN                                                                                        8945\n",
      "Waddington - Waddington                                                                      33\n",
      "Point Cook - Point Cook                                                                      31\n",
      "Rio de Janeiro - Rio de Janeiro                                                              28\n",
      "Scampton - Scampton                                                                          27\n",
      "                                                                                           ... \n",
      "Lourdes-de-Blanc-Sablon – Sainte-Augustine – Saint-Paul River – Lourdes-de-Blanc-Sablon       1\n",
      "Ajaccio - Nice                                                                                1\n",
      "Santa Monica - Hollywood                                                                      1\n",
      "Salon-de-Provence - Salon-de-Provence                                                         1\n",
      "Oceanside - Oceanside                                                                         1\n",
      "Name: count, Length: 15658, dtype: int64\n"
     ]
    }
   ],
   "source": [
    "# Print unique value counts in a column 'schedule'\n",
    "print_value_counts(avioset, 'schedule')"
   ]
  },
  {
   "cell_type": "markdown",
   "id": "6d3c1006",
   "metadata": {},
   "source": [
    "##### There are 8945 nan out of 28535 ~ 31,34%.  This is very high percent. That's why we'll drop this column."
   ]
  },
  {
   "cell_type": "code",
   "execution_count": 333,
   "id": "4c27fb91",
   "metadata": {},
   "outputs": [
    {
     "name": "stdout",
     "output_type": "stream",
     "text": [
      "Shape of avioset is (28535, 23)\n"
     ]
    }
   ],
   "source": [
    "avioset = drop_column('schedule', avioset)\n",
    "\n",
    "# Check\n",
    "print(f\"Shape of avioset is {avioset.shape}\")"
   ]
  },
  {
   "cell_type": "markdown",
   "id": "4d46131b",
   "metadata": {},
   "source": [
    "<div style=\"background-color: #9df9ef; padding: 10px;\"></div>"
   ]
  },
  {
   "cell_type": "markdown",
   "id": "2791fff7",
   "metadata": {},
   "source": [
    "##### Column 'msn' - Manufacturer serial number/construction number."
   ]
  },
  {
   "cell_type": "code",
   "execution_count": 334,
   "id": "1bdaea4e",
   "metadata": {},
   "outputs": [
    {
     "name": "stdout",
     "output_type": "stream",
     "text": [
      "msn\n",
      "NaN            4182\n",
      "1                47\n",
      "01               47\n",
      "15               31\n",
      "2                30\n",
      "               ... \n",
      "2 34 428 09       1\n",
      "726-7061          1\n",
      "1497              1\n",
      "5030              1\n",
      "61-0277-061       1\n",
      "Name: count, Length: 18573, dtype: int64\n"
     ]
    }
   ],
   "source": [
    "# Print unique value counts in a column 'msn'\n",
    "print_value_counts(avioset, 'msn')"
   ]
  },
  {
   "cell_type": "markdown",
   "id": "de560bf8",
   "metadata": {},
   "source": [
    "##### There are 4182 nan out of 28535 ~ 14,66%.  In addition the information is not very useful. That's why we'll drop this column."
   ]
  },
  {
   "cell_type": "code",
   "execution_count": 335,
   "id": "bfd4db86",
   "metadata": {},
   "outputs": [
    {
     "name": "stdout",
     "output_type": "stream",
     "text": [
      "Shape of avioset is (28535, 22)\n"
     ]
    }
   ],
   "source": [
    "avioset = drop_column('msn', avioset)\n",
    "\n",
    "# Check\n",
    "print(f\"Shape of avioset is {avioset.shape}\")"
   ]
  },
  {
   "cell_type": "markdown",
   "id": "401ce2a5",
   "metadata": {},
   "source": [
    "<div style=\"background-color: #9df9ef; padding: 10px;\"></div>"
   ]
  },
  {
   "cell_type": "markdown",
   "id": "c6660e5e",
   "metadata": {},
   "source": [
    "##### Column 'yom' - Year of Manufacture."
   ]
  },
  {
   "cell_type": "code",
   "execution_count": 336,
   "id": "6816c620",
   "metadata": {},
   "outputs": [
    {
     "name": "stdout",
     "output_type": "stream",
     "text": [
      "yom\n",
      "NaN        5311\n",
      "1944.0     2043\n",
      "1943.0     1067\n",
      "1945.0      917\n",
      "1969.0      574\n",
      "           ... \n",
      "1651.0        1\n",
      "14949.0       1\n",
      "1645.0        1\n",
      "943.0         1\n",
      "2019.0        1\n",
      "Name: count, Length: 145, dtype: int64\n"
     ]
    }
   ],
   "source": [
    "# Print unique value counts in a column 'yom'\n",
    "print_value_counts(avioset, 'yom')"
   ]
  },
  {
   "cell_type": "markdown",
   "id": "73e2d389",
   "metadata": {},
   "source": [
    "##### There are 5311 nan out of 28535 ~ 18,62%. We'll fill them with 0."
   ]
  },
  {
   "cell_type": "code",
   "execution_count": 337,
   "id": "030d1eab",
   "metadata": {},
   "outputs": [
    {
     "name": "stdout",
     "output_type": "stream",
     "text": [
      "yom\n",
      "1.0        5321\n",
      "1944.0     2043\n",
      "1943.0     1067\n",
      "1945.0      917\n",
      "1969.0      574\n",
      "           ... \n",
      "12928.0       1\n",
      "1645.0        1\n",
      "1651.0        1\n",
      "943.0         1\n",
      "2019.0        1\n",
      "Name: count, Length: 144, dtype: int64\n",
      "Shape of avioset is (28535, 22)\n"
     ]
    }
   ],
   "source": [
    "# Replace with 1\n",
    "avioset['yom'] = avioset['yom'].fillna(1)\n",
    "\n",
    "# Check\n",
    "print_value_counts(avioset, 'yom')\n",
    "print(f\"Shape of avioset is {avioset.shape}\")"
   ]
  },
  {
   "cell_type": "markdown",
   "id": "d0dba461",
   "metadata": {},
   "source": [
    "##### It's strange that there are values like 12928. Years are distributed in this way:"
   ]
  },
  {
   "cell_type": "code",
   "execution_count": 338,
   "id": "8883cefe",
   "metadata": {},
   "outputs": [
    {
     "name": "stdout",
     "output_type": "stream",
     "text": [
      "yom\n",
      "0.0          38\n",
      "1.0        5321\n",
      "2.0          12\n",
      "3.0           8\n",
      "4.0           7\n",
      "           ... \n",
      "2019.0        1\n",
      "2020.0        4\n",
      "12928.0       1\n",
      "14949.0       1\n",
      "19567.0       1\n",
      "Length: 144, dtype: int64\n"
     ]
    }
   ],
   "source": [
    "print(avioset.groupby('yom').size().sort_index(ascending=True))"
   ]
  },
  {
   "cell_type": "markdown",
   "id": "e1686340",
   "metadata": {},
   "source": [
    "##### There are 5311 nan out of 28535 ~ 18,61%.  On other side years of accidents are these: "
   ]
  },
  {
   "cell_type": "code",
   "execution_count": 339,
   "id": "9b8be9c1",
   "metadata": {},
   "outputs": [
    {
     "name": "stdout",
     "output_type": "stream",
     "text": [
      "year\n",
      "1918     25\n",
      "1919     83\n",
      "1920    127\n",
      "1921    138\n",
      "1922    106\n",
      "       ... \n",
      "2018    131\n",
      "2019    145\n",
      "2020    113\n",
      "2021    113\n",
      "2022     39\n",
      "Length: 105, dtype: int64\n"
     ]
    }
   ],
   "source": [
    "print(avioset.groupby('year').size().sort_index(ascending=True))"
   ]
  },
  {
   "cell_type": "markdown",
   "id": "c5d4512a",
   "metadata": {},
   "source": [
    "##### That's why we'll take only values for yom <= 2022 and >= 1918. For our further analysis, which will include yom, we'll use new dataset avioset_yom. This column will be dropped from avioset."
   ]
  },
  {
   "cell_type": "code",
   "execution_count": 340,
   "id": "2f82c25b",
   "metadata": {},
   "outputs": [],
   "source": [
    "avioset_yom = avioset.copy()\n",
    "avioset = drop_column('yom', avioset)"
   ]
  },
  {
   "cell_type": "code",
   "execution_count": 341,
   "id": "41f5de4c",
   "metadata": {},
   "outputs": [],
   "source": [
    "avioset_yom['yom'] = avioset_yom['yom'].astype(int)"
   ]
  },
  {
   "cell_type": "code",
   "execution_count": 342,
   "id": "c7f25f1a",
   "metadata": {},
   "outputs": [
    {
     "data": {
      "text/plain": [
       "dtype('int32')"
      ]
     },
     "execution_count": 342,
     "metadata": {},
     "output_type": "execute_result"
    }
   ],
   "source": [
    "avioset_yom['yom'].dtype"
   ]
  },
  {
   "cell_type": "code",
   "execution_count": 343,
   "id": "257ecf88",
   "metadata": {},
   "outputs": [],
   "source": [
    "avioset_yom = avioset_yom[(avioset_yom['yom'] > 1917) & (avioset_yom['yom'] < 2023)]"
   ]
  },
  {
   "cell_type": "code",
   "execution_count": 344,
   "id": "5366ae38",
   "metadata": {},
   "outputs": [
    {
     "data": {
      "text/plain": [
       "(22872, 22)"
      ]
     },
     "execution_count": 344,
     "metadata": {},
     "output_type": "execute_result"
    }
   ],
   "source": [
    "avioset_yom.shape"
   ]
  },
  {
   "cell_type": "markdown",
   "id": "a49f34b5",
   "metadata": {},
   "source": [
    "<div style=\"background-color: #9df9ef; padding: 10px;\"></div>"
   ]
  },
  {
   "cell_type": "markdown",
   "id": "593fd0b9",
   "metadata": {},
   "source": [
    "##### Column 'flight_no' "
   ]
  },
  {
   "cell_type": "code",
   "execution_count": 345,
   "id": "33f055b0",
   "metadata": {},
   "outputs": [
    {
     "name": "stdout",
     "output_type": "stream",
     "text": [
      "flight_no\n",
      "NaN    28535\n",
      "Name: count, dtype: int64\n"
     ]
    }
   ],
   "source": [
    "# Print unique value counts in a column 'flight_no'\n",
    "print_value_counts(avioset, 'flight_no')"
   ]
  },
  {
   "cell_type": "markdown",
   "id": "40129ae7",
   "metadata": {},
   "source": [
    "#### There are any values in flight_no column. We'll drop it."
   ]
  },
  {
   "cell_type": "code",
   "execution_count": 346,
   "id": "a070d115",
   "metadata": {},
   "outputs": [],
   "source": [
    "avioset = drop_column('flight_no', avioset)"
   ]
  },
  {
   "cell_type": "code",
   "execution_count": 347,
   "id": "4412117c",
   "metadata": {},
   "outputs": [
    {
     "name": "stdout",
     "output_type": "stream",
     "text": [
      "(28535, 20)\n",
      "Index(['aircraft', 'operator', 'flight_phase', 'flight_type', 'survivors',\n",
      "       'crash_site', 'crash_location', 'country', 'region', 'crew_on_board',\n",
      "       'crew_fatalities', 'pax_on_board', 'pax_fatalities', 'other_fatalities',\n",
      "       'total_fatalities', 'circumstances', 'crash_cause', 'year', 'month',\n",
      "       'day'],\n",
      "      dtype='object')\n"
     ]
    }
   ],
   "source": [
    "print(avioset.shape)\n",
    "print(avioset.columns)"
   ]
  },
  {
   "cell_type": "markdown",
   "id": "120d99b7",
   "metadata": {},
   "source": [
    "<div style=\"background-color: #9df9ef; padding: 10px;\"></div>"
   ]
  },
  {
   "cell_type": "markdown",
   "id": "e075fa28",
   "metadata": {},
   "source": [
    "##### Column 'circumstances' "
   ]
  },
  {
   "cell_type": "code",
   "execution_count": 348,
   "id": "943ac9a7",
   "metadata": {},
   "outputs": [
    {
     "name": "stdout",
     "output_type": "stream",
     "text": [
      "circumstances\n",
      "Crashed in unknown circumstances.                                                                                                                                                                                                                                                                                                                                                                                                                                                                                                                                                                                                                                                                                                                                                                                                                                                                                                                                                                                                                                                                                                                                                                                                                                                                                                                                                                                                                                                                                                                                                                                                                                                                                                                                                                                                                                                                                                                                                                                                                                                                                                                                                                                                                                                                                                                                                                                                                                                                                                                                                                                                                                                                                                                                                                                                                                                                                                                                                                                                                                                                                                                                                                                                                                                                                                                                                                                                                                                                                                                                                                                                                                                                                                                                                                                                                                                                                                                                                                                                                                                                                                                                                                                                                                                                                                                                                                                            162\n",
      "Crashed in unknown circumstances. There were no casualties.                                                                                                                                                                                                                                                                                                                                                                                                                                                                                                                                                                                                                                                                                                                                                                                                                                                                                                                                                                                                                                                                                                                                                                                                                                                                                                                                                                                                                                                                                                                                                                                                                                                                                                                                                                                                                                                                                                                                                                                                                                                                                                                                                                                                                                                                                                                                                                                                                                                                                                                                                                                                                                                                                                                                                                                                                                                                                                                                                                                                                                                                                                                                                                                                                                                                                                                                                                                                                                                                                                                                                                                                                                                                                                                                                                                                                                                                                                                                                                                                                                                                                                                                                                                                                                                                                                                                                                   62\n",
      "Crashed in unknown circumstances. Crew fate unknown.                                                                                                                                                                                                                                                                                                                                                                                                                                                                                                                                                                                                                                                                                                                                                                                                                                                                                                                                                                                                                                                                                                                                                                                                                                                                                                                                                                                                                                                                                                                                                                                                                                                                                                                                                                                                                                                                                                                                                                                                                                                                                                                                                                                                                                                                                                                                                                                                                                                                                                                                                                                                                                                                                                                                                                                                                                                                                                                                                                                                                                                                                                                                                                                                                                                                                                                                                                                                                                                                                                                                                                                                                                                                                                                                                                                                                                                                                                                                                                                                                                                                                                                                                                                                                                                                                                                                                                          51\n",
      "Crashed in unknown circumstances. No casualties.                                                                                                                                                                                                                                                                                                                                                                                                                                                                                                                                                                                                                                                                                                                                                                                                                                                                                                                                                                                                                                                                                                                                                                                                                                                                                                                                                                                                                                                                                                                                                                                                                                                                                                                                                                                                                                                                                                                                                                                                                                                                                                                                                                                                                                                                                                                                                                                                                                                                                                                                                                                                                                                                                                                                                                                                                                                                                                                                                                                                                                                                                                                                                                                                                                                                                                                                                                                                                                                                                                                                                                                                                                                                                                                                                                                                                                                                                                                                                                                                                                                                                                                                                                                                                                                                                                                                                                              40\n",
      "Crashed in unknown circumstances. Occupant fate unknown.                                                                                                                                                                                                                                                                                                                                                                                                                                                                                                                                                                                                                                                                                                                                                                                                                                                                                                                                                                                                                                                                                                                                                                                                                                                                                                                                                                                                                                                                                                                                                                                                                                                                                                                                                                                                                                                                                                                                                                                                                                                                                                                                                                                                                                                                                                                                                                                                                                                                                                                                                                                                                                                                                                                                                                                                                                                                                                                                                                                                                                                                                                                                                                                                                                                                                                                                                                                                                                                                                                                                                                                                                                                                                                                                                                                                                                                                                                                                                                                                                                                                                                                                                                                                                                                                                                                                                                      30\n",
      "                                                                                                                                                                                                                                                                                                                                                                                                                                                                                                                                                                                                                                                                                                                                                                                                                                                                                                                                                                                                                                                                                                                                                                                                                                                                                                                                                                                                                                                                                                                                                                                                                                                                                                                                                                                                                                                                                                                                                                                                                                                                                                                                                                                                                                                                                                                                                                                                                                                                                                                                                                                                                                                                                                                                                                                                                                                                                                                                                                                                                                                                                                                                                                                                                                                                                                                                                                                                                                                                                                                                                                                                                                                                                                                                                                                                                                                                                                                                                                                                                                                                                                                                                                                                                                                                                                                                                                                                                            ... \n",
      "Pan American's Flight 151 departed Johannesburg at 0812, June 21, and after a routine flight and scheduled stop at Léopoldville, Belgian Congo, arrived at Accra, Gold Coast, at 2125. Following a mechanical delay which required the changing of several spark plugs and a set of magneto points, the flight was dispatched and cleared to Roberts Field, Monrovia, on an instrument flight plan at 16,500 feet with Dakar, French West Africa, and Accra as alternates Take-off from Accra was at 2352Z. The gross weight at departure was 89,255 pounds, including cargo, mail, 3,340 gallons of fuel, 31 passengers, and a crew of nine. The gross weight of the aircraft and distribution of the disposable load were within the allowable limits. The en route communication system of the flight sector between Accra and Roberts Field is high frequency radio-telephone utilizing ground stations at Accra and Roberts Field as primary guarding stations Normal communication with these two stations was maintained as Flight 151 progressed westward after departing Accra. The flight proceeded in a routine manner, climbing to 16,500 feet MSL in accordance with the flight plan. At 0057 a position report was given over Abidjan, 258 miles west of Accra, and arrival over Cape Palmas, Liberia, 265 miles farther to the west, was estimated as 0156. At 0156 Flight 151 reported over Cape Palmas at 16,500 feet MSL, on instruments, and estimated arrival at Roberts Field as 0246. (A plantation employee in the Cape Palmas area stated that he beard an airplane inland and very high at approximately 0220, that the moon was bright and the sky was clear at the time. Since no other aircraft was known to have been in the area, this is presumed to have been Flight 151). At 0220 Flight 151 requested clearance to descend. Roberts Field radio cleared the flight to descend to 3,000 feet and advised that at 0225 the Roberts Field tower would establish contact on VHF A clear two-way contact was made at 0225 on 118.1 mcs, at which time the tower gave the flight the local weather and altimeter set-ting, cleared it to descend IFR over Roberts Range Station, and indicated that Runway 05 was in use. At 0237 Flight 151 was again given local weather for Roberts Field cloud base estimated 1,000 feet, broken, light drizzle and haze, visibility 3 miles. At 0241 the local wind was given as W-WNW variable 7 miles per hour All of these messages were acknowledged. At 0255, nine minutes after its ETA at Roberts, Flight 151 was heard calling Roberts Field on VHF 118.1 mcs. The tower responded, repeating the call three times. There was no indication that the aircraft heard the tower, whereupon the tower switched to 3270 kcs and requested the flight to give its current position. There was no reply to this call. Immediately following failure of the aircraft to respond to Roberts tower on 3270 kcs, the Roberts Field high frequency radio-telephone facility established contact advising the flight that they were unable to read it on 118.1 mcs and that the flight should reply to the tower's call on 3270 kcs. This message was acknowledged at 0301. At 0305 the flight again contacted Roberts tower on 3270 kcs advising that the Dakar radio beacon was interfering with the Roberts Field radio beacon and that they would \"be back in 15 minutes\" Roberts tower advised Flight 151 that Dakar would be requested to turn off the beacon and this message was acknowledged (Because of incoming traffic to Dakar, the beacon there was not turned off until 0410) At 0315 Flight 151 again called Roberts tower on 3270 kcs and the latter transmitted the latest weather. The flight did not acknowledge this transmission on 3270 kcs but called Roberts tower on 118.1 mcs Roberts tower then replied on 118 1 mcs but received no acknowledgement. Thereafter, the tower repeatedly called Flight 151 on both 118.1 mcs and 3270 kcs, requesting the aircraft's position and broadcasting the weather However, the incomplete contact at 0315 was the last transmission received from the flight. The wreckage was found a day later near the village of Sanoyie, about 91 km northeast of Monrovia-Roberts Airport. The aircraft was destroyed by impact forces and a post crash fire and all 40 occupants have been killed.      1\n",
      "The crew was completing a local training sortie from NAS Whidbey Island. On final approach to runway 25, the aircraft went out of control and crashed into the Skagit Bay, about five miles east of the airfield. Five crew members were killed while five others were injured.                                                                                                                                                                                                                                                                                                                                                                                                                                                                                                                                                                                                                                                                                                                                                                                                                                                                                                                                                                                                                                                                                                                                                                                                                                                                                                                                                                                                                                                                                                                                                                                                                                                                                                                                                                                                                                                                                                                                                                                                                                                                                                                                                                                                                                                                                                                                                                                                                                                                                                                                                                                                                                                                                                                                                                                                                                                                                                                                                                                                                                                                                                                                                                                                                                                                                                                                                                                                                                                                                                                                                                                                                                                                                                                                                                                                                                                                                                                                                                                                                                                                                                                                                1\n",
      "En route, an engine caught fire and failed. All occupants decided to bail out and abandoned the aircraft that dove into the ground and crashed in a field located in Northcliffe, northeast suburb of San Antonio. There were no casualties but the aircraft was destroyed upon impact.                                                                                                                                                                                                                                                                                                                                                                                                                                                                                                                                                                                                                                                                                                                                                                                                                                                                                                                                                                                                                                                                                                                                                                                                                                                                                                                                                                                                                                                                                                                                                                                                                                                                                                                                                                                                                                                                                                                                                                                                                                                                                                                                                                                                                                                                                                                                                                                                                                                                                                                                                                                                                                                                                                                                                                                                                                                                                                                                                                                                                                                                                                                                                                                                                                                                                                                                                                                                                                                                                                                                                                                                                                                                                                                                                                                                                                                                                                                                                                                                                                                                                                                                        1\n",
      "On final approach to Offutt AFB, an engine failed. The pilot was able to reach the runway but after touchdown, the airplane encountered serious difficulties to stop within the remaining distance. It then overran and came to rest into a ditch. All 20 occupants were rescued while the aircraft was damaged beyond repair.                                                                                                                                                                                                                                                                                                                                                                                                                                                                                                                                                                                                                                                                                                                                                                                                                                                                                                                                                                                                                                                                                                                                                                                                                                                                                                                                                                                                                                                                                                                                                                                                                                                                                                                                                                                                                                                                                                                                                                                                                                                                                                                                                                                                                                                                                                                                                                                                                                                                                                                                                                                                                                                                                                                                                                                                                                                                                                                                                                                                                                                                                                                                                                                                                                                                                                                                                                                                                                                                                                                                                                                                                                                                                                                                                                                                                                                                                                                                                                                                                                                                                                 1\n",
      "The single engine was completing local skydiving flights out from Oceanside Airport. On final approach to runway 25, the airplane apparently stalled and crashed against an embankment located about 400 metres short of runway. The pilot was seriously injured and the jumpmaster was killed.                                                                                                                                                                                                                                                                                                                                                                                                                                                                                                                                                                                                                                                                                                                                                                                                                                                                                                                                                                                                                                                                                                                                                                                                                                                                                                                                                                                                                                                                                                                                                                                                                                                                                                                                                                                                                                                                                                                                                                                                                                                                                                                                                                                                                                                                                                                                                                                                                                                                                                                                                                                                                                                                                                                                                                                                                                                                                                                                                                                                                                                                                                                                                                                                                                                                                                                                                                                                                                                                                                                                                                                                                                                                                                                                                                                                                                                                                                                                                                                                                                                                                                                                1\n",
      "Name: count, Length: 27704, dtype: int64\n"
     ]
    }
   ],
   "source": [
    "# Print unique value counts in a column 'circumstances'\n",
    "print_value_counts(avioset, 'circumstances')"
   ]
  },
  {
   "cell_type": "markdown",
   "id": "6c3fe6f1",
   "metadata": {},
   "source": [
    "##### This column is not useful for our data analysis. It contains too many unique values. We'll drop it."
   ]
  },
  {
   "cell_type": "code",
   "execution_count": 349,
   "id": "09ca3f21",
   "metadata": {},
   "outputs": [
    {
     "name": "stdout",
     "output_type": "stream",
     "text": [
      "(28535, 19)\n",
      "Index(['aircraft', 'operator', 'flight_phase', 'flight_type', 'survivors',\n",
      "       'crash_site', 'crash_location', 'country', 'region', 'crew_on_board',\n",
      "       'crew_fatalities', 'pax_on_board', 'pax_fatalities', 'other_fatalities',\n",
      "       'total_fatalities', 'crash_cause', 'year', 'month', 'day'],\n",
      "      dtype='object')\n"
     ]
    }
   ],
   "source": [
    "avioset = drop_column('circumstances', avioset)\n",
    "\n",
    "print(avioset.shape)\n",
    "print(avioset.columns)"
   ]
  },
  {
   "cell_type": "markdown",
   "id": "ee1d627b",
   "metadata": {},
   "source": [
    "<div style=\"background-color: #9df9ef; padding: 10px;\"></div>"
   ]
  },
  {
   "cell_type": "markdown",
   "id": "e0345656",
   "metadata": {},
   "source": [
    "##### Column 'crash_location' "
   ]
  },
  {
   "cell_type": "code",
   "execution_count": 350,
   "id": "aa045aa5",
   "metadata": {},
   "outputs": [
    {
     "name": "stdout",
     "output_type": "stream",
     "text": [
      "crash_location\n",
      "Atlantic Ocean All World                        140\n",
      "Pacific Ocean All World                         132\n",
      "Russia All Russia                                69\n",
      "North Sea All World                              64\n",
      "Mediterranean Sea All World                      52\n",
      "                                               ... \n",
      "Bratronov Pardubice Region (Pardubický kraj)      1\n",
      "SP-3 Polar Station All Antarctica                 1\n",
      "Mt Cajon California                               1\n",
      "Codroy Newfoundland & Labrador                    1\n",
      "Shikha Dhawalagiri                                1\n",
      "Name: count, Length: 14172, dtype: int64\n"
     ]
    },
    {
     "data": {
      "text/plain": [
       "12"
      ]
     },
     "execution_count": 350,
     "metadata": {},
     "output_type": "execute_result"
    }
   ],
   "source": [
    "# Print unique value counts in a column 'crash_location'\n",
    "print_value_counts(avioset, 'crash_location')\n",
    "avioset['crash_location'].isna().sum()"
   ]
  },
  {
   "cell_type": "markdown",
   "id": "1c821506",
   "metadata": {},
   "source": [
    "##### There are 12 NAN values only. We'll replace them with empty string."
   ]
  },
  {
   "cell_type": "code",
   "execution_count": 351,
   "id": "8d6e4c19",
   "metadata": {
    "scrolled": true
   },
   "outputs": [
    {
     "name": "stdout",
     "output_type": "stream",
     "text": [
      "crash_location\n",
      "Atlantic Ocean All World                        140\n",
      "Pacific Ocean All World                         132\n",
      "Russia All Russia                                69\n",
      "North Sea All World                              64\n",
      "Mediterranean Sea All World                      52\n",
      "                                               ... \n",
      "Bratronov Pardubice Region (Pardubický kraj)      1\n",
      "SP-3 Polar Station All Antarctica                 1\n",
      "Mt Cajon California                               1\n",
      "Codroy Newfoundland & Labrador                    1\n",
      "Shikha Dhawalagiri                                1\n",
      "Name: count, Length: 14172, dtype: int64\n",
      "Nan are 0\n",
      "Shape of avioset is (28535, 19)\n"
     ]
    }
   ],
   "source": [
    "# Replace with empty string\n",
    "avioset['crash_location'] = avioset['crash_location'].fillna(\"\")\n",
    "\n",
    "# Check\n",
    "print_value_counts(avioset, 'crash_location')\n",
    "print(f\"Nan are {avioset['crash_location'].isna().sum()}\")\n",
    "print(f\"Shape of avioset is {avioset.shape}\")"
   ]
  },
  {
   "cell_type": "markdown",
   "id": "7429463f",
   "metadata": {},
   "source": [
    "<div style=\"background-color: #9df9ef; padding: 10px;\"></div>"
   ]
  },
  {
   "cell_type": "markdown",
   "id": "e45ee25e",
   "metadata": {},
   "source": [
    "##### Column 'crash_cause' "
   ]
  },
  {
   "cell_type": "code",
   "execution_count": 352,
   "id": "ecb89711",
   "metadata": {},
   "outputs": [
    {
     "name": "stdout",
     "output_type": "stream",
     "text": [
      "crash_cause\n",
      "Human factor                          9926\n",
      "Unknown                               8988\n",
      "Technical failure                     6203\n",
      "Weather                               1528\n",
      "Terrorism act, Hijacking, Sabotage    1263\n",
      "Other causes                           627\n",
      "Name: count, dtype: int64\n"
     ]
    },
    {
     "data": {
      "text/plain": [
       "0"
      ]
     },
     "execution_count": 352,
     "metadata": {},
     "output_type": "execute_result"
    }
   ],
   "source": [
    "# Print unique value counts in a column 'crash_cause'\n",
    "print_value_counts(avioset, 'crash_cause')\n",
    "avioset['crash_cause'].isna().sum()"
   ]
  },
  {
   "cell_type": "markdown",
   "id": "6695c110",
   "metadata": {},
   "source": [
    "##### There aren't any nan values. It remains as is."
   ]
  },
  {
   "cell_type": "markdown",
   "id": "3ef08e39",
   "metadata": {},
   "source": [
    "<div style=\"background-color: #9df9ef; padding: 10px;\"></div>"
   ]
  },
  {
   "cell_type": "markdown",
   "id": "d6c73367",
   "metadata": {},
   "source": [
    "##### Column 'country' "
   ]
  },
  {
   "cell_type": "code",
   "execution_count": 353,
   "id": "d1fa3a6c",
   "metadata": {},
   "outputs": [
    {
     "name": "stdout",
     "output_type": "stream",
     "text": [
      "country\n",
      "United States of America    6804\n",
      "United Kingdom              2389\n",
      "Russia                      1505\n",
      "Canada                      1373\n",
      "France                       848\n",
      "                            ... \n",
      "Qatar                          1\n",
      "La Reunion                     1\n",
      "Ascension Island               1\n",
      "NaN                            1\n",
      "Antigua                        1\n",
      "Name: count, Length: 220, dtype: int64\n"
     ]
    },
    {
     "data": {
      "text/plain": [
       "1"
      ]
     },
     "execution_count": 353,
     "metadata": {},
     "output_type": "execute_result"
    }
   ],
   "source": [
    "# Print unique value counts in a column 'country'\n",
    "print_value_counts(avioset, 'country')\n",
    "avioset['country'].isna().sum()"
   ]
  },
  {
   "cell_type": "markdown",
   "id": "b35b9196",
   "metadata": {},
   "source": [
    "##### There is only 1 nan value. We'll delete this row."
   ]
  },
  {
   "cell_type": "code",
   "execution_count": 354,
   "id": "efe5b65b",
   "metadata": {},
   "outputs": [
    {
     "data": {
      "text/plain": [
       "(28534, 19)"
      ]
     },
     "execution_count": 354,
     "metadata": {},
     "output_type": "execute_result"
    }
   ],
   "source": [
    "avioset = del_nan_in_col(avioset, 'country')\n",
    "\n",
    "# Check\n",
    "avioset.shape"
   ]
  },
  {
   "cell_type": "markdown",
   "id": "81fa5b79",
   "metadata": {},
   "source": [
    "<div style=\"background-color: #9df9ef; padding: 10px;\"></div>"
   ]
  },
  {
   "cell_type": "markdown",
   "id": "359907b6",
   "metadata": {},
   "source": [
    "##### Column 'region' "
   ]
  },
  {
   "cell_type": "code",
   "execution_count": 355,
   "id": "a8cb8275",
   "metadata": {},
   "outputs": [
    {
     "name": "stdout",
     "output_type": "stream",
     "text": [
      "region\n",
      "North America      8192\n",
      "Europe             6694\n",
      "Asia               5702\n",
      "South America      2580\n",
      "Africa             2088\n",
      "Oceania            1311\n",
      "Central America    1310\n",
      "World               600\n",
      "Antarctica           57\n",
      "Name: count, dtype: int64\n"
     ]
    },
    {
     "data": {
      "text/plain": [
       "0"
      ]
     },
     "execution_count": 355,
     "metadata": {},
     "output_type": "execute_result"
    }
   ],
   "source": [
    "# Print unique value counts in a column 'region'\n",
    "print_value_counts(avioset, 'region')\n",
    "avioset['region'].isna().sum()"
   ]
  },
  {
   "cell_type": "markdown",
   "id": "14ecca27",
   "metadata": {},
   "source": [
    "##### There aren't any nan values. It remains as is."
   ]
  },
  {
   "cell_type": "code",
   "execution_count": null,
   "id": "d19fdb8f",
   "metadata": {},
   "outputs": [],
   "source": []
  },
  {
   "cell_type": "code",
   "execution_count": null,
   "id": "9e37a65a",
   "metadata": {},
   "outputs": [],
   "source": []
  },
  {
   "cell_type": "code",
   "execution_count": null,
   "id": "34173e6b",
   "metadata": {},
   "outputs": [],
   "source": []
  },
  {
   "cell_type": "code",
   "execution_count": null,
   "id": "c215533d",
   "metadata": {},
   "outputs": [],
   "source": []
  },
  {
   "cell_type": "code",
   "execution_count": null,
   "id": "135fbee1",
   "metadata": {},
   "outputs": [],
   "source": []
  },
  {
   "cell_type": "code",
   "execution_count": null,
   "id": "391ce83a",
   "metadata": {},
   "outputs": [],
   "source": []
  },
  {
   "cell_type": "code",
   "execution_count": null,
   "id": "c87b7458",
   "metadata": {},
   "outputs": [],
   "source": []
  },
  {
   "cell_type": "code",
   "execution_count": null,
   "id": "92d5ea43",
   "metadata": {},
   "outputs": [],
   "source": []
  },
  {
   "cell_type": "code",
   "execution_count": null,
   "id": "35c96161",
   "metadata": {},
   "outputs": [],
   "source": []
  },
  {
   "cell_type": "markdown",
   "id": "4a0e15a8",
   "metadata": {},
   "source": [
    "TODO\n",
    "##### Columns 'crew_on_board', 'crew_fatalities', 'pax_on_board', 'pax_fatalities', 'other_fatalities', 'total_fatalities'"
   ]
  },
  {
   "cell_type": "code",
   "execution_count": 356,
   "id": "3deda7f5",
   "metadata": {},
   "outputs": [
    {
     "data": {
      "text/plain": [
       "array([[<Axes: title={'center': 'crew_on_board'}>,\n",
       "        <Axes: title={'center': 'crew_fatalities'}>,\n",
       "        <Axes: title={'center': 'pax_on_board'}>],\n",
       "       [<Axes: title={'center': 'pax_fatalities'}>,\n",
       "        <Axes: title={'center': 'other_fatalities'}>,\n",
       "        <Axes: title={'center': 'total_fatalities'}>],\n",
       "       [<Axes: title={'center': 'year'}>,\n",
       "        <Axes: title={'center': 'month'}>,\n",
       "        <Axes: title={'center': 'day'}>]], dtype=object)"
      ]
     },
     "execution_count": 356,
     "metadata": {},
     "output_type": "execute_result"
    },
    {
     "data": {
      "image/png": "[encoded data removed]",
      "text/plain": [
       "<Figure size 2000x1000 with 9 Axes>"
      ]
     },
     "metadata": {},
     "output_type": "display_data"
    }
   ],
   "source": [
    "avioset.hist(figsize=(20,10), bins=60)"
   ]
  },
  {
   "cell_type": "markdown",
   "id": "972e7a63",
   "metadata": {},
   "source": [
    "<div style=\"background-color: #9df9ef; padding: 10px;\"></div>"
   ]
  },
  {
   "cell_type": "markdown",
   "id": "366f055f",
   "metadata": {},
   "source": [
    "## III. Analyzes, visualizations <a id=\"visualizations\"></a> "
   ]
  },
  {
   "cell_type": "code",
   "execution_count": null,
   "id": "bfbd3ca6",
   "metadata": {},
   "outputs": [],
   "source": []
  },
  {
   "cell_type": "code",
   "execution_count": null,
   "id": "8c8a2e1b",
   "metadata": {},
   "outputs": [],
   "source": []
  },
  {
   "cell_type": "code",
   "execution_count": null,
   "id": "0b5ee433",
   "metadata": {},
   "outputs": [],
   "source": []
  },
  {
   "cell_type": "code",
   "execution_count": null,
   "id": "72644ad6",
   "metadata": {},
   "outputs": [],
   "source": []
  },
  {
   "cell_type": "code",
   "execution_count": null,
   "id": "e4350a24",
   "metadata": {},
   "outputs": [],
   "source": []
  },
  {
   "cell_type": "markdown",
   "id": "17dbf87e",
   "metadata": {},
   "source": [
    "TODO:\n",
    "Interesting visualizations as facts"
   ]
  },
  {
   "cell_type": "markdown",
   "id": "8073fbee",
   "metadata": {},
   "source": [
    "[Return to Table of Contents](#toc)"
   ]
  },
  {
   "cell_type": "code",
   "execution_count": null,
   "id": "fcd039ae",
   "metadata": {},
   "outputs": [],
   "source": []
  }
 ],
 "metadata": {
  "kernelspec": {
   "display_name": "Python 3 (ipykernel)",
   "language": "python",
   "name": "python3"
  },
  "language_info": {
   "codemirror_mode": {
    "name": "ipython",
    "version": 3
   },
   "file_extension": ".py",
   "mimetype": "text/x-python",
   "name": "python",
   "nbconvert_exporter": "python",
   "pygments_lexer": "ipython3",
   "version": "3.11.7"
  }
 },
 "nbformat": 4,
 "nbformat_minor": 5
}
