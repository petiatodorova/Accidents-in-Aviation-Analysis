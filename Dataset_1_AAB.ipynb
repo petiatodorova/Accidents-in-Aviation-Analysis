{
 "cells": [
  {
   "cell_type": "code",
   "execution_count": 1,
   "id": "8674124b",
   "metadata": {},
   "outputs": [],
   "source": [
    "%matplotlib inline\n",
    "import numpy as np\n",
    "import pandas as pd\n",
    "import matplotlib.pyplot as plt\n",
    "from datetime import datetime\n",
    "import seaborn as sns"
   ]
  },
  {
   "cell_type": "markdown",
   "id": "94379cb8",
   "metadata": {},
   "source": [
    "# Table of Contents <a id=\"toc\"></a>\n",
    "1. [Datasets](#datasets)\n",
    "2. [Reading, analyzing the datasets](#reading)\n",
    "   - [2.1. Reading data](#2-1)\n",
    "   - [2.2. Database Fields Description](#2-2)\n",
    "   - [2.3. Dataset cleaning](#2-3)\n",
    "     - [2.3.1. Columns overview](#2-3-1)\n",
    "\t - [2.3.2. Change column names](#2-3-2)\n",
    "\t - [2.3.3. Data types](#2-3-3)\n",
    "\t - [2.3.4. Convert date to datetime](#2-3-4)\n",
    "\t - [2.3.5. Unique values, nan values](#2-3-5)\n",
    "\t - [2.3.6. Column analysis](#2-3-6)\n",
    "3. [III. Analyzes, visualizations](#visualizations)"
   ]
  },
  {
   "cell_type": "markdown",
   "id": "529d584a",
   "metadata": {},
   "source": [
    "<div style=\"background-color: #9df9ef; padding: 10px;\"></div>"
   ]
  },
  {
   "cell_type": "markdown",
   "id": "b0493ba7",
   "metadata": {},
   "source": [
    "# Aviation accidents analysis"
   ]
  },
  {
   "cell_type": "markdown",
   "id": "786e1cdf",
   "metadata": {},
   "source": [
    "In this project we will analyze the reasons why accidents happen in aviation.\n",
    "An aviation accident is an incident in which an aircraft is damaged or destroyed as a result of a collision, fire, structural failure, or other event. Aviation accidents can be caused by a variety of factors, including mechanical failure, pilot error, adverse weather conditions, and sabotage. Aviation accidents can result in fatalities, injuries, and damage to property."
   ]
  },
  {
   "cell_type": "markdown",
   "id": "642f7983",
   "metadata": {},
   "source": [
    "## I. Datasets <a id=\"datasets\"></a> "
   ]
  },
  {
   "cell_type": "markdown",
   "id": "b9e8f9fa",
   "metadata": {},
   "source": [
    "We'll use 2 datasets from Kaggle:\n",
    "### Dataset 1. Historical Plane Crash Data\n",
    "This dataset contains all of the plane crashes that happened throughout history. Data are extracted using web scraping methods in R and preprocessed to create an organized and informative dataset.\n",
    "All data are collected from Ronan Hubert: [Aviation Accident Bureau Archive]\n",
    "(https://www.baaa-acro.com/)\n",
    "This is the dataset [here]:(https://www.kaggle.com/datasets/abeperez/historical-plane-crash-data)"
   ]
  },
  {
   "cell_type": "markdown",
   "id": "f028d2bc",
   "metadata": {},
   "source": [
    "### Dataset 2. Aviation Accident Database & Synopses, up to 2023"
   ]
  },
  {
   "cell_type": "markdown",
   "id": "386c6e36",
   "metadata": {},
   "source": [
    "The dataset is [here](https://www.kaggle.com/datasets/khsamaha/aviation-accident-database-synopses)\n",
    "The NTSB aviation accident database [here](https://www.ntsb.gov/Pages/home.aspx) contains information from 1962 and later about civil aviation accidents and selected incidents within the United States, its territories and possessions, and in international waters."
   ]
  },
  {
   "cell_type": "markdown",
   "id": "ac5621b5",
   "metadata": {},
   "source": [
    "[Return to Table of Contents](#toc)"
   ]
  },
  {
   "cell_type": "markdown",
   "id": "ccae0858",
   "metadata": {},
   "source": [
    "<div style=\"background-color: #9df9ef; padding: 10px;\"></div>"
   ]
  },
  {
   "cell_type": "markdown",
   "id": "d88f683b",
   "metadata": {},
   "source": [
    "## II. Reading, analyzing the datasets <a id=\"reading\"></a>"
   ]
  },
  {
   "cell_type": "markdown",
   "id": "a0b287bd",
   "metadata": {},
   "source": [
    "#### Dataset 1 - Historical Plane Crash Data \n",
    "This dataset contains all of the plane crashes that happened throughout history. Data are extracted using web scraping methods in R and preprocessed to create an organized and informative dataset.\n",
    "All data are collected from Ronan Hubert: [Aviation Accident Bureau Archive]\n",
    "(https://www.baaa-acro.com/)\n",
    "This is the dataset [here]:(https://www.kaggle.com/datasets/abeperez/historical-plane-crash-data)"
   ]
  },
  {
   "cell_type": "markdown",
   "id": "443a6c0c",
   "metadata": {},
   "source": [
    "[Return to Table of Contents](#toc)"
   ]
  },
  {
   "cell_type": "markdown",
   "id": "b2b57652",
   "metadata": {},
   "source": [
    "<div style=\"background-color: #9df9ef; padding: 10px;\"></div>"
   ]
  },
  {
   "cell_type": "markdown",
   "id": "22b8981e",
   "metadata": {},
   "source": [
    "### 2.1. Reading data <a id=\"2-1\">"
   ]
  },
  {
   "cell_type": "code",
   "execution_count": 2,
   "id": "deda46b3",
   "metadata": {},
   "outputs": [],
   "source": [
    "avioset_aab = pd.read_csv('data/dataset_1_accident_bureau/Plane Crashes.csv')"
   ]
  },
  {
   "cell_type": "code",
   "execution_count": 3,
   "id": "6395b3e2",
   "metadata": {},
   "outputs": [
    {
     "name": "stdout",
     "output_type": "stream",
     "text": [
      "(28536, 24)\n"
     ]
    },
    {
     "data": {
      "text/html": [
       "<div>\n",
       "<style scoped>\n",
       "    .dataframe tbody tr th:only-of-type {\n",
       "        vertical-align: middle;\n",
       "    }\n",
       "\n",
       "    .dataframe tbody tr th {\n",
       "        vertical-align: top;\n",
       "    }\n",
       "\n",
       "    .dataframe thead th {\n",
       "        text-align: right;\n",
       "    }\n",
       "</style>\n",
       "<table border=\"1\" class=\"dataframe\">\n",
       "  <thead>\n",
       "    <tr style=\"text-align: right;\">\n",
       "      <th></th>\n",
       "      <th>Date</th>\n",
       "      <th>Time</th>\n",
       "      <th>Aircraft</th>\n",
       "      <th>Operator</th>\n",
       "      <th>Registration</th>\n",
       "      <th>Flight phase</th>\n",
       "      <th>Flight type</th>\n",
       "      <th>Survivors</th>\n",
       "      <th>Crash site</th>\n",
       "      <th>Schedule</th>\n",
       "      <th>...</th>\n",
       "      <th>Country</th>\n",
       "      <th>Region</th>\n",
       "      <th>Crew on board</th>\n",
       "      <th>Crew fatalities</th>\n",
       "      <th>Pax on board</th>\n",
       "      <th>PAX fatalities</th>\n",
       "      <th>Other fatalities</th>\n",
       "      <th>Total fatalities</th>\n",
       "      <th>Circumstances</th>\n",
       "      <th>Crash cause</th>\n",
       "    </tr>\n",
       "  </thead>\n",
       "  <tbody>\n",
       "    <tr>\n",
       "      <th>0</th>\n",
       "      <td>1918-05-02</td>\n",
       "      <td>NaN</td>\n",
       "      <td>De Havilland DH.4</td>\n",
       "      <td>United States Signal Corps - USSC</td>\n",
       "      <td>AS-32084</td>\n",
       "      <td>Takeoff (climb)</td>\n",
       "      <td>Test</td>\n",
       "      <td>No</td>\n",
       "      <td>Airport (less than 10 km from airport)</td>\n",
       "      <td>Dayton - Dayton</td>\n",
       "      <td>...</td>\n",
       "      <td>United States of America</td>\n",
       "      <td>North America</td>\n",
       "      <td>2.0</td>\n",
       "      <td>2.0</td>\n",
       "      <td>0.0</td>\n",
       "      <td>0.0</td>\n",
       "      <td>0.0</td>\n",
       "      <td>2</td>\n",
       "      <td>The single engine airplane departed Dayton-McC...</td>\n",
       "      <td>Technical failure</td>\n",
       "    </tr>\n",
       "    <tr>\n",
       "      <th>1</th>\n",
       "      <td>1918-06-08</td>\n",
       "      <td>NaN</td>\n",
       "      <td>Handley Page V/1500</td>\n",
       "      <td>Handley Page Aircraft Company Ltd</td>\n",
       "      <td>E4104</td>\n",
       "      <td>Takeoff (climb)</td>\n",
       "      <td>Test</td>\n",
       "      <td>Yes</td>\n",
       "      <td>Airport (less than 10 km from airport)</td>\n",
       "      <td>Cricklewood - Cricklewood</td>\n",
       "      <td>...</td>\n",
       "      <td>United Kingdom</td>\n",
       "      <td>Europe</td>\n",
       "      <td>6.0</td>\n",
       "      <td>5.0</td>\n",
       "      <td>0.0</td>\n",
       "      <td>0.0</td>\n",
       "      <td>0.0</td>\n",
       "      <td>5</td>\n",
       "      <td>Assembled at Cricklewood Airfield in May 1918,...</td>\n",
       "      <td>Technical failure</td>\n",
       "    </tr>\n",
       "    <tr>\n",
       "      <th>2</th>\n",
       "      <td>1918-06-11</td>\n",
       "      <td>NaN</td>\n",
       "      <td>Avro 504</td>\n",
       "      <td>Royal Air Force - RAF</td>\n",
       "      <td>A8544</td>\n",
       "      <td>Flight</td>\n",
       "      <td>Training</td>\n",
       "      <td>Yes</td>\n",
       "      <td>Plain, Valley</td>\n",
       "      <td>Abukir - Abukir</td>\n",
       "      <td>...</td>\n",
       "      <td>Egypt</td>\n",
       "      <td>Africa</td>\n",
       "      <td>2.0</td>\n",
       "      <td>1.0</td>\n",
       "      <td>0.0</td>\n",
       "      <td>0.0</td>\n",
       "      <td>0.0</td>\n",
       "      <td>1</td>\n",
       "      <td>The single engine aircraft was completing a lo...</td>\n",
       "      <td>Unknown</td>\n",
       "    </tr>\n",
       "    <tr>\n",
       "      <th>3</th>\n",
       "      <td>1918-06-19</td>\n",
       "      <td>NaN</td>\n",
       "      <td>De Havilland DH.4</td>\n",
       "      <td>United States Signal Corps - USSC</td>\n",
       "      <td>AS-32098</td>\n",
       "      <td>Flight</td>\n",
       "      <td>Military</td>\n",
       "      <td>No</td>\n",
       "      <td>Airport (less than 10 km from airport)</td>\n",
       "      <td>Wright Patterson AFB-Wright Patterson AFB</td>\n",
       "      <td>...</td>\n",
       "      <td>United States of America</td>\n",
       "      <td>North America</td>\n",
       "      <td>1.0</td>\n",
       "      <td>1.0</td>\n",
       "      <td>0.0</td>\n",
       "      <td>0.0</td>\n",
       "      <td>0.0</td>\n",
       "      <td>1</td>\n",
       "      <td>Lt. Frank Stuart Patterson, son and nephew of ...</td>\n",
       "      <td>Technical failure</td>\n",
       "    </tr>\n",
       "    <tr>\n",
       "      <th>4</th>\n",
       "      <td>1918-06-24</td>\n",
       "      <td>NaN</td>\n",
       "      <td>Breguet 14</td>\n",
       "      <td>French Air Force - Armée de l'Air</td>\n",
       "      <td>AS-4130</td>\n",
       "      <td>Landing (descent or approach)</td>\n",
       "      <td>Military</td>\n",
       "      <td>Yes</td>\n",
       "      <td>NaN</td>\n",
       "      <td>NaN</td>\n",
       "      <td>...</td>\n",
       "      <td>France</td>\n",
       "      <td>Europe</td>\n",
       "      <td>NaN</td>\n",
       "      <td>0.0</td>\n",
       "      <td>NaN</td>\n",
       "      <td>0.0</td>\n",
       "      <td>0.0</td>\n",
       "      <td>0</td>\n",
       "      <td>The aircraft crashed iupon landing somewhere i...</td>\n",
       "      <td>Unknown</td>\n",
       "    </tr>\n",
       "  </tbody>\n",
       "</table>\n",
       "<p>5 rows × 24 columns</p>\n",
       "</div>"
      ],
      "text/plain": [
       "         Date Time             Aircraft                           Operator  \\\n",
       "0  1918-05-02  NaN    De Havilland DH.4  United States Signal Corps - USSC   \n",
       "1  1918-06-08  NaN  Handley Page V/1500  Handley Page Aircraft Company Ltd   \n",
       "2  1918-06-11  NaN             Avro 504              Royal Air Force - RAF   \n",
       "3  1918-06-19  NaN    De Havilland DH.4  United States Signal Corps - USSC   \n",
       "4  1918-06-24  NaN           Breguet 14  French Air Force - Armée de l'Air   \n",
       "\n",
       "  Registration                   Flight phase Flight type Survivors  \\\n",
       "0     AS-32084                Takeoff (climb)        Test        No   \n",
       "1        E4104                Takeoff (climb)        Test       Yes   \n",
       "2        A8544                         Flight    Training       Yes   \n",
       "3     AS-32098                         Flight    Military        No   \n",
       "4      AS-4130  Landing (descent or approach)    Military       Yes   \n",
       "\n",
       "                               Crash site  \\\n",
       "0  Airport (less than 10 km from airport)   \n",
       "1  Airport (less than 10 km from airport)   \n",
       "2                           Plain, Valley   \n",
       "3  Airport (less than 10 km from airport)   \n",
       "4                                     NaN   \n",
       "\n",
       "                                    Schedule  ...                   Country  \\\n",
       "0                            Dayton - Dayton  ...  United States of America   \n",
       "1                  Cricklewood - Cricklewood  ...            United Kingdom   \n",
       "2                            Abukir - Abukir  ...                     Egypt   \n",
       "3  Wright Patterson AFB-Wright Patterson AFB  ...  United States of America   \n",
       "4                                        NaN  ...                    France   \n",
       "\n",
       "          Region  Crew on board Crew fatalities Pax on board PAX fatalities  \\\n",
       "0  North America            2.0             2.0          0.0            0.0   \n",
       "1         Europe            6.0             5.0          0.0            0.0   \n",
       "2         Africa            2.0             1.0          0.0            0.0   \n",
       "3  North America            1.0             1.0          0.0            0.0   \n",
       "4         Europe            NaN             0.0          NaN            0.0   \n",
       "\n",
       "   Other fatalities  Total fatalities  \\\n",
       "0               0.0                 2   \n",
       "1               0.0                 5   \n",
       "2               0.0                 1   \n",
       "3               0.0                 1   \n",
       "4               0.0                 0   \n",
       "\n",
       "                                       Circumstances        Crash cause  \n",
       "0  The single engine airplane departed Dayton-McC...  Technical failure  \n",
       "1  Assembled at Cricklewood Airfield in May 1918,...  Technical failure  \n",
       "2  The single engine aircraft was completing a lo...            Unknown  \n",
       "3  Lt. Frank Stuart Patterson, son and nephew of ...  Technical failure  \n",
       "4  The aircraft crashed iupon landing somewhere i...            Unknown  \n",
       "\n",
       "[5 rows x 24 columns]"
      ]
     },
     "execution_count": 3,
     "metadata": {},
     "output_type": "execute_result"
    }
   ],
   "source": [
    "# 28536 rows × 24 columns\n",
    "print(avioset_aab.shape)\n",
    "avioset_aab.head()"
   ]
  },
  {
   "cell_type": "markdown",
   "id": "5092cba6",
   "metadata": {},
   "source": [
    "[Return to Table of Contents](#toc)"
   ]
  },
  {
   "cell_type": "markdown",
   "id": "17f527ea",
   "metadata": {},
   "source": [
    "<div style=\"background-color: #9df9ef; padding: 10px;\"></div>"
   ]
  },
  {
   "cell_type": "markdown",
   "id": "d5045695",
   "metadata": {},
   "source": [
    "### 2.2. Database Fields Description <a id=\"2-2\">"
   ]
  },
  {
   "cell_type": "code",
   "execution_count": 4,
   "id": "8868e970",
   "metadata": {},
   "outputs": [],
   "source": [
    "dataColumnsMeaning = pd.read_csv('data/dataset_1_accident_bureau/AAB_DB_Fields_Description.csv', encoding='utf-8')"
   ]
  },
  {
   "cell_type": "code",
   "execution_count": 5,
   "id": "edbd865d",
   "metadata": {},
   "outputs": [
    {
     "data": {
      "text/plain": [
       "Index(['Field name', 'Description'], dtype='object')"
      ]
     },
     "execution_count": 5,
     "metadata": {},
     "output_type": "execute_result"
    }
   ],
   "source": [
    "dataColumnsMeaning.columns"
   ]
  },
  {
   "cell_type": "code",
   "execution_count": 6,
   "id": "a10a3454",
   "metadata": {},
   "outputs": [
    {
     "data": {
      "text/plain": [
       "(24, 2)"
      ]
     },
     "execution_count": 6,
     "metadata": {},
     "output_type": "execute_result"
    }
   ],
   "source": [
    "dataColumnsMeaning.shape"
   ]
  },
  {
   "cell_type": "code",
   "execution_count": 7,
   "id": "e6e39e8f",
   "metadata": {},
   "outputs": [
    {
     "data": {
      "text/html": [
       "<style type=\"text/css\">\n",
       "#T_aa786_row0_col0, #T_aa786_row0_col1, #T_aa786_row1_col0, #T_aa786_row1_col1, #T_aa786_row2_col0, #T_aa786_row2_col1, #T_aa786_row3_col0, #T_aa786_row3_col1, #T_aa786_row4_col0, #T_aa786_row4_col1, #T_aa786_row5_col0, #T_aa786_row5_col1, #T_aa786_row6_col0, #T_aa786_row6_col1, #T_aa786_row7_col0, #T_aa786_row7_col1, #T_aa786_row8_col0, #T_aa786_row8_col1, #T_aa786_row9_col0, #T_aa786_row9_col1, #T_aa786_row10_col0, #T_aa786_row10_col1, #T_aa786_row11_col0, #T_aa786_row11_col1, #T_aa786_row12_col0, #T_aa786_row12_col1, #T_aa786_row13_col0, #T_aa786_row13_col1, #T_aa786_row14_col0, #T_aa786_row14_col1, #T_aa786_row15_col0, #T_aa786_row15_col1, #T_aa786_row16_col0, #T_aa786_row16_col1, #T_aa786_row17_col0, #T_aa786_row17_col1, #T_aa786_row18_col0, #T_aa786_row18_col1, #T_aa786_row19_col0, #T_aa786_row19_col1, #T_aa786_row20_col0, #T_aa786_row20_col1, #T_aa786_row21_col0, #T_aa786_row21_col1, #T_aa786_row22_col0, #T_aa786_row22_col1, #T_aa786_row23_col0, #T_aa786_row23_col1 {\n",
       "  text-align: left;\n",
       "}\n",
       "</style>\n",
       "<table id=\"T_aa786\">\n",
       "  <thead>\n",
       "    <tr>\n",
       "      <th class=\"blank level0\" >&nbsp;</th>\n",
       "      <th id=\"T_aa786_level0_col0\" class=\"col_heading level0 col0\" >Field name</th>\n",
       "      <th id=\"T_aa786_level0_col1\" class=\"col_heading level0 col1\" >Description</th>\n",
       "    </tr>\n",
       "  </thead>\n",
       "  <tbody>\n",
       "    <tr>\n",
       "      <th id=\"T_aa786_level0_row0\" class=\"row_heading level0 row0\" >0</th>\n",
       "      <td id=\"T_aa786_row0_col0\" class=\"data row0 col0\" >date</td>\n",
       "      <td id=\"T_aa786_row0_col1\" class=\"data row0 col1\" >Date of accident</td>\n",
       "    </tr>\n",
       "    <tr>\n",
       "      <th id=\"T_aa786_level0_row1\" class=\"row_heading level0 row1\" >1</th>\n",
       "      <td id=\"T_aa786_row1_col0\" class=\"data row1 col0\" >time</td>\n",
       "      <td id=\"T_aa786_row1_col1\" class=\"data row1 col1\" >Time of accident</td>\n",
       "    </tr>\n",
       "    <tr>\n",
       "      <th id=\"T_aa786_level0_row2\" class=\"row_heading level0 row2\" >2</th>\n",
       "      <td id=\"T_aa786_row2_col0\" class=\"data row2 col0\" >aircraft</td>\n",
       "      <td id=\"T_aa786_row2_col1\" class=\"data row2 col1\" >Manufacturer and exact model involved in the accident</td>\n",
       "    </tr>\n",
       "    <tr>\n",
       "      <th id=\"T_aa786_level0_row3\" class=\"row_heading level0 row3\" >3</th>\n",
       "      <td id=\"T_aa786_row3_col0\" class=\"data row3 col0\" >operator</td>\n",
       "      <td id=\"T_aa786_row3_col1\" class=\"data row3 col1\" >The company, organisation or individual operating the aircraft at the time of the accident</td>\n",
       "    </tr>\n",
       "    <tr>\n",
       "      <th id=\"T_aa786_level0_row4\" class=\"row_heading level0 row4\" >4</th>\n",
       "      <td id=\"T_aa786_row4_col0\" class=\"data row4 col0\" >registration</td>\n",
       "      <td id=\"T_aa786_row4_col1\" class=\"data row4 col1\" >The registrationmark applied on the the aircaft at the time of the accident</td>\n",
       "    </tr>\n",
       "    <tr>\n",
       "      <th id=\"T_aa786_level0_row5\" class=\"row_heading level0 row5\" >5</th>\n",
       "      <td id=\"T_aa786_row5_col0\" class=\"data row5 col0\" >flight_phase</td>\n",
       "      <td id=\"T_aa786_row5_col1\" class=\"data row5 col1\" >Phase of flight</td>\n",
       "    </tr>\n",
       "    <tr>\n",
       "      <th id=\"T_aa786_level0_row6\" class=\"row_heading level0 row6\" >6</th>\n",
       "      <td id=\"T_aa786_row6_col0\" class=\"data row6 col0\" >flight_type</td>\n",
       "      <td id=\"T_aa786_row6_col1\" class=\"data row6 col1\" >Flight types refer to the various classifications of flights based on their purpose, nature, or the kind of aircraft operation being conducted</td>\n",
       "    </tr>\n",
       "    <tr>\n",
       "      <th id=\"T_aa786_level0_row7\" class=\"row_heading level0 row7\" >7</th>\n",
       "      <td id=\"T_aa786_row7_col0\" class=\"data row7 col0\" >survivors</td>\n",
       "      <td id=\"T_aa786_row7_col1\" class=\"data row7 col1\" >Number of survivors</td>\n",
       "    </tr>\n",
       "    <tr>\n",
       "      <th id=\"T_aa786_level0_row8\" class=\"row_heading level0 row8\" >8</th>\n",
       "      <td id=\"T_aa786_row8_col0\" class=\"data row8 col0\" >crash_site</td>\n",
       "      <td id=\"T_aa786_row8_col1\" class=\"data row8 col1\" >Crash site</td>\n",
       "    </tr>\n",
       "    <tr>\n",
       "      <th id=\"T_aa786_level0_row9\" class=\"row_heading level0 row9\" >9</th>\n",
       "      <td id=\"T_aa786_row9_col0\" class=\"data row9 col0\" >schedule</td>\n",
       "      <td id=\"T_aa786_row9_col1\" class=\"data row9 col1\" >Schedule</td>\n",
       "    </tr>\n",
       "    <tr>\n",
       "      <th id=\"T_aa786_level0_row10\" class=\"row_heading level0 row10\" >10</th>\n",
       "      <td id=\"T_aa786_row10_col0\" class=\"data row10 col0\" >msn</td>\n",
       "      <td id=\"T_aa786_row10_col1\" class=\"data row10 col1\" >Manufacturer serial number/construction number.</td>\n",
       "    </tr>\n",
       "    <tr>\n",
       "      <th id=\"T_aa786_level0_row11\" class=\"row_heading level0 row11\" >11</th>\n",
       "      <td id=\"T_aa786_row11_col0\" class=\"data row11 col0\" >yom</td>\n",
       "      <td id=\"T_aa786_row11_col1\" class=\"data row11 col1\" >Year of Manufacture. It refers to the year when an aircraft was originally built or rolled off the production line</td>\n",
       "    </tr>\n",
       "    <tr>\n",
       "      <th id=\"T_aa786_level0_row12\" class=\"row_heading level0 row12\" >12</th>\n",
       "      <td id=\"T_aa786_row12_col0\" class=\"data row12 col0\" >flight_no</td>\n",
       "      <td id=\"T_aa786_row12_col1\" class=\"data row12 col1\" >Flight number</td>\n",
       "    </tr>\n",
       "    <tr>\n",
       "      <th id=\"T_aa786_level0_row13\" class=\"row_heading level0 row13\" >13</th>\n",
       "      <td id=\"T_aa786_row13_col0\" class=\"data row13 col0\" >crash_location</td>\n",
       "      <td id=\"T_aa786_row13_col1\" class=\"data row13 col1\" >Exact location of the accident</td>\n",
       "    </tr>\n",
       "    <tr>\n",
       "      <th id=\"T_aa786_level0_row14\" class=\"row_heading level0 row14\" >14</th>\n",
       "      <td id=\"T_aa786_row14_col0\" class=\"data row14 col0\" >country</td>\n",
       "      <td id=\"T_aa786_row14_col1\" class=\"data row14 col1\" >Country where the accident occurs</td>\n",
       "    </tr>\n",
       "    <tr>\n",
       "      <th id=\"T_aa786_level0_row15\" class=\"row_heading level0 row15\" >15</th>\n",
       "      <td id=\"T_aa786_row15_col0\" class=\"data row15 col0\" >region</td>\n",
       "      <td id=\"T_aa786_row15_col1\" class=\"data row15 col1\" >Region of accident</td>\n",
       "    </tr>\n",
       "    <tr>\n",
       "      <th id=\"T_aa786_level0_row16\" class=\"row_heading level0 row16\" >16</th>\n",
       "      <td id=\"T_aa786_row16_col0\" class=\"data row16 col0\" >crew_on_board</td>\n",
       "      <td id=\"T_aa786_row16_col1\" class=\"data row16 col1\" >Number of crew on board</td>\n",
       "    </tr>\n",
       "    <tr>\n",
       "      <th id=\"T_aa786_level0_row17\" class=\"row_heading level0 row17\" >17</th>\n",
       "      <td id=\"T_aa786_row17_col0\" class=\"data row17 col0\" >crew_fatalities</td>\n",
       "      <td id=\"T_aa786_row17_col1\" class=\"data row17 col1\" >Number of crew deaths</td>\n",
       "    </tr>\n",
       "    <tr>\n",
       "      <th id=\"T_aa786_level0_row18\" class=\"row_heading level0 row18\" >18</th>\n",
       "      <td id=\"T_aa786_row18_col0\" class=\"data row18 col0\" >pax_on_board</td>\n",
       "      <td id=\"T_aa786_row18_col1\" class=\"data row18 col1\" >Number of passengers aboard the aircraft at the time of departure</td>\n",
       "    </tr>\n",
       "    <tr>\n",
       "      <th id=\"T_aa786_level0_row19\" class=\"row_heading level0 row19\" >19</th>\n",
       "      <td id=\"T_aa786_row19_col0\" class=\"data row19 col0\" >pax_fatalities</td>\n",
       "      <td id=\"T_aa786_row19_col1\" class=\"data row19 col1\" >Number of passengers fatally injured as a direct result of the accident</td>\n",
       "    </tr>\n",
       "    <tr>\n",
       "      <th id=\"T_aa786_level0_row20\" class=\"row_heading level0 row20\" >20</th>\n",
       "      <td id=\"T_aa786_row20_col0\" class=\"data row20 col0\" >other_fatalities</td>\n",
       "      <td id=\"T_aa786_row20_col1\" class=\"data row20 col1\" >Number of deaths that occur as a result of the accident but do not involve passengers or crew members</td>\n",
       "    </tr>\n",
       "    <tr>\n",
       "      <th id=\"T_aa786_level0_row21\" class=\"row_heading level0 row21\" >21</th>\n",
       "      <td id=\"T_aa786_row21_col0\" class=\"data row21 col0\" >total_fatalities</td>\n",
       "      <td id=\"T_aa786_row21_col1\" class=\"data row21 col1\" >Total number of deaths</td>\n",
       "    </tr>\n",
       "    <tr>\n",
       "      <th id=\"T_aa786_level0_row22\" class=\"row_heading level0 row22\" >22</th>\n",
       "      <td id=\"T_aa786_row22_col0\" class=\"data row22 col0\" >circumstances</td>\n",
       "      <td id=\"T_aa786_row22_col1\" class=\"data row22 col1\" >A detailed description of the circumstances of the accident</td>\n",
       "    </tr>\n",
       "    <tr>\n",
       "      <th id=\"T_aa786_level0_row23\" class=\"row_heading level0 row23\" >23</th>\n",
       "      <td id=\"T_aa786_row23_col0\" class=\"data row23 col0\" >crash_cause</td>\n",
       "      <td id=\"T_aa786_row23_col1\" class=\"data row23 col1\" >The probable cause of the accident as established by the accident investigators</td>\n",
       "    </tr>\n",
       "  </tbody>\n",
       "</table>\n"
      ],
      "text/plain": [
       "<pandas.io.formats.style.Styler at 0x1d3ca934110>"
      ]
     },
     "execution_count": 7,
     "metadata": {},
     "output_type": "execute_result"
    }
   ],
   "source": [
    "dataColumnsMeaning.style.set_properties(**{'text-align': 'left'})"
   ]
  },
  {
   "cell_type": "markdown",
   "id": "336c201e",
   "metadata": {},
   "source": [
    "[Return to Table of Contents](#toc)"
   ]
  },
  {
   "cell_type": "markdown",
   "id": "167839b0",
   "metadata": {},
   "source": [
    "<div style=\"background-color: #9df9ef; padding: 10px;\"></div>"
   ]
  },
  {
   "cell_type": "markdown",
   "id": "1f1c2557",
   "metadata": {},
   "source": [
    "### 2.3. Dataset cleaning <a id=\"2-3\">"
   ]
  },
  {
   "cell_type": "markdown",
   "id": "02d011e4",
   "metadata": {},
   "source": [
    "#### 2.3.1. Columns overview <a id=\"2-3-1\">\n",
    "Let's see what data do we have in all columns. "
   ]
  },
  {
   "cell_type": "code",
   "execution_count": 8,
   "id": "7a73f52a",
   "metadata": {},
   "outputs": [
    {
     "data": {
      "text/plain": [
       "Index(['Date', 'Time', 'Aircraft', 'Operator', 'Registration', 'Flight phase',\n",
       "       'Flight type', 'Survivors', 'Crash site', 'Schedule', 'MSN', 'YOM',\n",
       "       'Flight no.', 'Crash location', 'Country', 'Region', 'Crew on board',\n",
       "       'Crew fatalities', 'Pax on board', 'PAX fatalities', 'Other fatalities',\n",
       "       'Total fatalities', 'Circumstances', 'Crash cause'],\n",
       "      dtype='object')"
      ]
     },
     "execution_count": 8,
     "metadata": {},
     "output_type": "execute_result"
    }
   ],
   "source": [
    "avioset_aab.columns"
   ]
  },
  {
   "cell_type": "markdown",
   "id": "15f981cd",
   "metadata": {},
   "source": [
    "[Return to Table of Contents](#toc)"
   ]
  },
  {
   "cell_type": "markdown",
   "id": "6c14a4f1",
   "metadata": {},
   "source": [
    "<div style=\"background-color: #9df9ef; padding: 10px;\"></div>"
   ]
  },
  {
   "cell_type": "markdown",
   "id": "d9c647b7",
   "metadata": {},
   "source": [
    "#### 2.3.2. Change column names <a id=\"2-3-2\">\n",
    "Let's make our column names more Pythonic, which means changing names like Event.Id to event_id."
   ]
  },
  {
   "cell_type": "code",
   "execution_count": 9,
   "id": "530afcba",
   "metadata": {},
   "outputs": [],
   "source": [
    "# We will make a new dataset so as not to lose the original\n",
    "avioset_aab_low = avioset_aab.copy()"
   ]
  },
  {
   "cell_type": "code",
   "execution_count": 10,
   "id": "5caaaa48",
   "metadata": {},
   "outputs": [],
   "source": [
    "def change_col_names(df, old_symbol, new_symbol):\n",
    "    df.columns = df.columns.str.lower().str.replace(old_symbol, new_symbol)\n",
    "    return df"
   ]
  },
  {
   "cell_type": "code",
   "execution_count": 11,
   "id": "cc5842a7",
   "metadata": {},
   "outputs": [
    {
     "data": {
      "text/plain": [
       "Index(['date', 'time', 'aircraft', 'operator', 'registration', 'flight_phase',\n",
       "       'flight_type', 'survivors', 'crash_site', 'schedule', 'msn', 'yom',\n",
       "       'flight_no', 'crash_location', 'country', 'region', 'crew_on_board',\n",
       "       'crew_fatalities', 'pax_on_board', 'pax_fatalities', 'other_fatalities',\n",
       "       'total_fatalities', 'circumstances', 'crash_cause'],\n",
       "      dtype='object')"
      ]
     },
     "execution_count": 11,
     "metadata": {},
     "output_type": "execute_result"
    }
   ],
   "source": [
    "# Changing column names to pythonic\n",
    "change_col_names(avioset_aab_low, ' ', '_')\n",
    "\n",
    "# Changing \"flight_no.\" to \"flight_no\"\n",
    "avioset_aab_low.rename(columns={'flight_no.': 'flight_no'}, inplace=True)\n",
    "\n",
    "# Test after the change\n",
    "avioset_aab_low.columns"
   ]
  },
  {
   "cell_type": "markdown",
   "id": "f06afe26",
   "metadata": {},
   "source": [
    "[Return to Table of Contents](#toc)"
   ]
  },
  {
   "cell_type": "markdown",
   "id": "87c0ec88",
   "metadata": {},
   "source": [
    "<div style=\"background-color: #9df9ef; padding: 10px;\"></div>"
   ]
  },
  {
   "cell_type": "markdown",
   "id": "6df79373",
   "metadata": {},
   "source": [
    "#### 2.3.3. Data types <a id=\"2-3-3\">"
   ]
  },
  {
   "cell_type": "code",
   "execution_count": 12,
   "id": "ec0caaa8",
   "metadata": {},
   "outputs": [
    {
     "data": {
      "text/plain": [
       "date                 object\n",
       "time                 object\n",
       "aircraft             object\n",
       "operator             object\n",
       "registration         object\n",
       "flight_phase         object\n",
       "flight_type          object\n",
       "survivors            object\n",
       "crash_site           object\n",
       "schedule             object\n",
       "msn                  object\n",
       "yom                 float64\n",
       "flight_no           float64\n",
       "crash_location       object\n",
       "country              object\n",
       "region               object\n",
       "crew_on_board       float64\n",
       "crew_fatalities     float64\n",
       "pax_on_board        float64\n",
       "pax_fatalities      float64\n",
       "other_fatalities    float64\n",
       "total_fatalities      int64\n",
       "circumstances        object\n",
       "crash_cause          object\n",
       "dtype: object"
      ]
     },
     "execution_count": 12,
     "metadata": {},
     "output_type": "execute_result"
    }
   ],
   "source": [
    "# let's check dtypes\n",
    "avioset_aab_low.dtypes"
   ]
  },
  {
   "cell_type": "markdown",
   "id": "03faa3a7",
   "metadata": {},
   "source": [
    "[Return to Table of Contents](#toc)"
   ]
  },
  {
   "cell_type": "markdown",
   "id": "86608c47",
   "metadata": {},
   "source": [
    "<div style=\"background-color: #9df9ef; padding: 10px;\"></div>"
   ]
  },
  {
   "cell_type": "markdown",
   "id": "636a7790",
   "metadata": {},
   "source": [
    "#### 2.3.4. Convert date to datetime <a id=\"2-3-4\">\n",
    "- We'll convert date to datetime.\n",
    "- We'll add 3 new columns 'year', 'month', 'day'.\n",
    "- We'll delete the 'date' column because we don't need it anymore."
   ]
  },
  {
   "cell_type": "code",
   "execution_count": 13,
   "id": "1bf203d4",
   "metadata": {},
   "outputs": [
    {
     "data": {
      "text/plain": [
       "<bound method Series.unique of 0        1918-05-02\n",
       "1        1918-06-08\n",
       "2        1918-06-11\n",
       "3        1918-06-19\n",
       "4        1918-06-24\n",
       "            ...    \n",
       "28531    2022-05-20\n",
       "28532    2022-05-23\n",
       "28533    2022-05-24\n",
       "28534    2022-05-29\n",
       "28535    2022-06-03\n",
       "Name: date, Length: 28536, dtype: object>"
      ]
     },
     "execution_count": 13,
     "metadata": {},
     "output_type": "execute_result"
    }
   ],
   "source": [
    "avioset_aab_low.date.unique"
   ]
  },
  {
   "cell_type": "code",
   "execution_count": 14,
   "id": "e3928d44",
   "metadata": {},
   "outputs": [],
   "source": [
    "avioset_aab_low['date'] = pd.to_datetime(avioset_aab_low['date'])"
   ]
  },
  {
   "cell_type": "code",
   "execution_count": 15,
   "id": "6d98f810",
   "metadata": {},
   "outputs": [
    {
     "data": {
      "text/plain": [
       "<bound method Series.unique of 0       1918-05-02\n",
       "1       1918-06-08\n",
       "2       1918-06-11\n",
       "3       1918-06-19\n",
       "4       1918-06-24\n",
       "           ...    \n",
       "28531   2022-05-20\n",
       "28532   2022-05-23\n",
       "28533   2022-05-24\n",
       "28534   2022-05-29\n",
       "28535   2022-06-03\n",
       "Name: date, Length: 28536, dtype: datetime64[ns]>"
      ]
     },
     "execution_count": 15,
     "metadata": {},
     "output_type": "execute_result"
    }
   ],
   "source": [
    "avioset_aab_low.date.unique"
   ]
  },
  {
   "cell_type": "code",
   "execution_count": 16,
   "id": "23d63a1f",
   "metadata": {},
   "outputs": [],
   "source": [
    "# Let's add column year\n",
    "avioset_aab_low['year'] = pd.DatetimeIndex(avioset_aab_low['date']).year"
   ]
  },
  {
   "cell_type": "code",
   "execution_count": 17,
   "id": "100c491d",
   "metadata": {},
   "outputs": [],
   "source": [
    "# Let's add column month\n",
    "avioset_aab_low['month'] = pd.DatetimeIndex(avioset_aab_low['date']).month"
   ]
  },
  {
   "cell_type": "code",
   "execution_count": 18,
   "id": "0d7bb7bb",
   "metadata": {},
   "outputs": [],
   "source": [
    "# Let's add column day\n",
    "avioset_aab_low['day'] = pd.DatetimeIndex(avioset_aab_low['date']).day"
   ]
  },
  {
   "cell_type": "code",
   "execution_count": 19,
   "id": "034e1d11",
   "metadata": {},
   "outputs": [
    {
     "data": {
      "text/plain": [
       "array([1918, 1919, 1920, 1921, 1922, 1923, 1924, 1925, 1926, 1927, 1928,\n",
       "       1929, 1930, 1931, 1932, 1933, 1934, 1935, 1936, 1937, 1938, 1939,\n",
       "       1940, 1941, 1942, 1943, 1944, 1945, 1946, 1947, 1948, 1949, 1950,\n",
       "       1951, 1952, 1953, 1954, 1955, 1956, 1957, 1958, 1959, 1960, 1961,\n",
       "       1962, 1963, 1964, 1965, 1966, 1967, 1968, 1969, 1970, 1971, 1972,\n",
       "       1973, 1974, 1975, 1976, 1977, 1978, 1979, 1980, 1981, 1982, 1983,\n",
       "       1984, 1985, 1986, 1987, 1988, 1989, 1990, 1991, 1992, 1993, 1994,\n",
       "       1995, 1996, 1997, 1998, 1999, 2000, 2001, 2002, 2003, 2004, 2005,\n",
       "       2006, 2007, 2008, 2009, 2010, 2011, 2012, 2013, 2014, 2015, 2016,\n",
       "       2017, 2018, 2019, 2020, 2021, 2022])"
      ]
     },
     "execution_count": 19,
     "metadata": {},
     "output_type": "execute_result"
    }
   ],
   "source": [
    "avioset_aab_low['year'].unique()"
   ]
  },
  {
   "cell_type": "code",
   "execution_count": 20,
   "id": "69af2b1b",
   "metadata": {},
   "outputs": [
    {
     "data": {
      "text/plain": [
       "array([ 5,  6,  7,  8,  9, 10, 11, 12,  1,  2,  3,  4])"
      ]
     },
     "execution_count": 20,
     "metadata": {},
     "output_type": "execute_result"
    }
   ],
   "source": [
    "avioset_aab_low['month'].unique()"
   ]
  },
  {
   "cell_type": "code",
   "execution_count": 21,
   "id": "2df7163d",
   "metadata": {},
   "outputs": [
    {
     "data": {
      "text/plain": [
       "array([ 2,  8, 11, 19, 24, 14, 18, 23, 26, 13,  6, 27,  9, 12, 20, 16, 21,\n",
       "       22, 31, 10,  7, 15,  1,  3,  4, 17, 25, 29,  5, 28, 30])"
      ]
     },
     "execution_count": 21,
     "metadata": {},
     "output_type": "execute_result"
    }
   ],
   "source": [
    "avioset_aab_low['day'].unique()"
   ]
  },
  {
   "cell_type": "code",
   "execution_count": 22,
   "id": "1eabac2d",
   "metadata": {},
   "outputs": [],
   "source": [
    "avioset_aab_low = avioset_aab_low.drop('date', axis=1)"
   ]
  },
  {
   "cell_type": "code",
   "execution_count": 23,
   "id": "7e744ef2",
   "metadata": {},
   "outputs": [
    {
     "data": {
      "text/plain": [
       "Index(['time', 'aircraft', 'operator', 'registration', 'flight_phase',\n",
       "       'flight_type', 'survivors', 'crash_site', 'schedule', 'msn', 'yom',\n",
       "       'flight_no', 'crash_location', 'country', 'region', 'crew_on_board',\n",
       "       'crew_fatalities', 'pax_on_board', 'pax_fatalities', 'other_fatalities',\n",
       "       'total_fatalities', 'circumstances', 'crash_cause', 'year', 'month',\n",
       "       'day'],\n",
       "      dtype='object')"
      ]
     },
     "execution_count": 23,
     "metadata": {},
     "output_type": "execute_result"
    }
   ],
   "source": [
    "# Check after all these transformations\n",
    "avioset_aab_low.columns"
   ]
  },
  {
   "cell_type": "markdown",
   "id": "535d5681",
   "metadata": {},
   "source": [
    "[Return to Table of Contents](#toc)"
   ]
  },
  {
   "cell_type": "markdown",
   "id": "7fb03412",
   "metadata": {},
   "source": [
    "<div style=\"background-color: #9df9ef; padding: 10px;\"></div>"
   ]
  },
  {
   "cell_type": "markdown",
   "id": "99267e64",
   "metadata": {},
   "source": [
    "#### 2.3.5. Unique values, nan values <a id=\"2-3-5\">\n",
    "Let's look at the unique values and nan values in each column and decide which columns to use for our further analysis."
   ]
  },
  {
   "cell_type": "code",
   "execution_count": 24,
   "id": "2631271f",
   "metadata": {},
   "outputs": [
    {
     "name": "stdout",
     "output_type": "stream",
     "text": [
      "Unique values in column 'time': \n",
      " [nan '15H 15M 0S' '12H 0M 0S' ... '3H 21M 0S' '2H 53M 0S' '13H 33M 0S']\n",
      "\n",
      " **************** \n",
      "\n",
      "Unique values in column 'aircraft': \n",
      " ['De Havilland DH.4' 'Handley Page V/1500' 'Avro 504' ...\n",
      " 'Cirrus Vision SF50' 'Socata TBM-910' 'Learjet 75']\n",
      "\n",
      " **************** \n",
      "\n",
      "Unique values in column 'operator': \n",
      " ['United States Signal Corps - USSC' 'Handley Page Aircraft Company Ltd'\n",
      " 'Royal Air Force - RAF' ... 'Raul Ignacion Posada'\n",
      " 'Yakutat Coastal Airlines' 'GoJump Oceanside']\n",
      "\n",
      " **************** \n",
      "\n",
      "Unique values in column 'registration': \n",
      " ['AS-32084' 'E4104' 'A8544' ... 'N703TH' '9N-AET' 'N7581F']\n",
      "\n",
      " **************** \n",
      "\n",
      "Unique values in column 'flight_phase': \n",
      " ['Takeoff (climb)' 'Flight' 'Landing (descent or approach)' nan 'Taxiing'\n",
      " 'Parking']\n",
      "\n",
      " **************** \n",
      "\n",
      "Unique values in column 'flight_type': \n",
      " ['Test' 'Training' 'Military' 'Delivery'\n",
      " 'Survey / Patrol / Reconnaissance' 'Postal (mail)' 'Ferry'\n",
      " 'Aerial photography' 'Scheduled Revenue Flight' 'Government' 'Private'\n",
      " 'Charter/Taxi (Non Scheduled Revenue Flight)' nan 'Cargo' 'Positioning'\n",
      " 'Demonstration' 'Ambulance' 'Executive/Corporate/Business' 'Topographic'\n",
      " 'Geographical / Geophysical / Scientific' 'Cinematography'\n",
      " 'Illegal (smuggling)' 'Spraying (Agricultural)' 'Refuelling'\n",
      " 'Humanitarian' 'Bombing' 'Supply' 'Calibration'\n",
      " 'Meteorological / Weather' 'Fire fighting' 'Skydiving / Paratroopers'\n",
      " 'Aerobatic']\n",
      "\n",
      " **************** \n",
      "\n",
      "Unique values in column 'survivors': \n",
      " ['No' 'Yes' nan]\n",
      "\n",
      " **************** \n",
      "\n",
      "Unique values in column 'crash_site': \n",
      " ['Airport (less than 10 km from airport)' 'Plain, Valley' nan\n",
      " 'Lake, Sea, Ocean, River' 'Mountains' 'Desert' 'City']\n",
      "\n",
      " **************** \n",
      "\n",
      "Unique values in column 'schedule': \n",
      " ['Dayton - Dayton' 'Cricklewood - Cricklewood' 'Abukir - Abukir' ...\n",
      " 'Celaya - Durango' 'Yakutat – Dry Bay' 'Oceanside - Oceanside']\n",
      "\n",
      " **************** \n",
      "\n",
      "Unique values in column 'msn': \n",
      " [nan 'B9976' 'B9983' ... '208-0219' '110-460' '61-0277-061']\n",
      "\n",
      " **************** \n",
      "\n",
      "Unique values in column 'yom': \n",
      " [       nan 1.9180e+03 1.9190e+03 1.9200e+03 1.9210e+03 1.9230e+03\n",
      " 1.9220e+03 1.9240e+03 1.9250e+03 1.0000e+00 1.9260e+03 1.9270e+03\n",
      " 1.9280e+03 1.9290e+03 1.9300e+03 1.9310e+03 1.9320e+03 1.9330e+03\n",
      " 1.9350e+03 1.9340e+03 1.7000e+01 2.6000e+01 1.9000e+01 2.2000e+01\n",
      " 1.2000e+01 7.0000e+00 1.9360e+03 2.4000e+01 9.0000e+00 0.0000e+00\n",
      " 1.9370e+03 2.7000e+01 1.9380e+03 1.9390e+03 8.0000e+00 2.8000e+01\n",
      " 1.0000e+01 1.9400e+03 1.2928e+04 1.9410e+03 2.3000e+01 2.0000e+00\n",
      " 2.5000e+01 5.0000e+00 3.0000e+00 1.8000e+01 1.5000e+01 1.9420e+03\n",
      " 1.9430e+03 2.9000e+01 3.1000e+01 6.0000e+00 2.1000e+01 1.9440e+03\n",
      " 1.1000e+01 3.0000e+01 4.0000e+00 1.9450e+03 1.6450e+03 1.4000e+01\n",
      " 9.4300e+02 1.3000e+01 1.6000e+01 1.9460e+03 1.9470e+03 1.9510e+03\n",
      " 1.9480e+03 1.9490e+03 1.9500e+03 2.0000e+01 1.4949e+04 1.9520e+03\n",
      " 1.9530e+03 1.9540e+03 1.9550e+03 1.9590e+03 1.9560e+03 1.9570e+03\n",
      " 1.6510e+03 1.9580e+03 1.9600e+03 1.9610e+03 1.7000e+02 1.9620e+03\n",
      " 1.9630e+03 1.9640e+03 1.9650e+03 1.9660e+03 1.9670e+03 1.9680e+03\n",
      " 1.9690e+03 1.9700e+03 1.9790e+03 1.9710e+03 1.9720e+03 1.9770e+03\n",
      " 1.9730e+03 1.9740e+03 1.9750e+03 1.9760e+03 1.9780e+03 1.9800e+03\n",
      " 1.9567e+04 2.5400e+02 1.9870e+03 1.9810e+03 1.9820e+03 1.9830e+03\n",
      " 1.9840e+03 1.9850e+03 1.9860e+03 1.9880e+03 1.9890e+03 1.9900e+03\n",
      " 1.9910e+03 1.9920e+03 1.9930e+03 1.9940e+03 1.9950e+03 1.9960e+03\n",
      " 1.9970e+03 1.9980e+03 1.9990e+03 2.0000e+03 2.0010e+03 2.0020e+03\n",
      " 2.0030e+03 2.0040e+03 2.0050e+03 2.0060e+03 2.0070e+03 1.9000e+03\n",
      " 2.0080e+03 2.0090e+03 2.0100e+03 2.0120e+03 2.0110e+03 2.0130e+03\n",
      " 2.0140e+03 2.0150e+03 2.0160e+03 2.0170e+03 2.0180e+03 2.0200e+03\n",
      " 2.0190e+03]\n",
      "\n",
      " **************** \n",
      "\n",
      "Unique values in column 'flight_no': \n",
      " [nan]\n",
      "\n",
      " **************** \n",
      "\n",
      "Unique values in column 'crash_location': \n",
      " ['Dayton-McCook Field Ohio' 'Cricklewood London Metropolis'\n",
      " 'Abukir (Abu Qir) Alexandria' ... 'Eldorado do Sul Rio Grande do Sul'\n",
      " 'Dry Bay Alaska' 'Shikha Dhawalagiri']\n",
      "\n",
      " **************** \n",
      "\n",
      "Unique values in column 'country': \n",
      " ['United States of America' 'United Kingdom' 'Egypt' 'France' 'Portugal'\n",
      " 'Greece' 'Slovakia' 'Italy' 'Belgium' 'Ireland' 'Czech Republic' 'Mexico'\n",
      " 'Germany' 'Sudan' 'South Africa' 'Malaysia' 'Tanzania' 'Zimbabwe'\n",
      " 'Switzerland' 'Spain' 'World' 'Colombia' 'Sweden' 'Indonesia' 'Cuba'\n",
      " 'Norway' 'Philippines' 'Canada' 'New Zealand' 'Brazil' 'Poland' 'Iraq'\n",
      " 'Australia' 'Netherlands' 'Denmark' 'Pakistan' 'Chile' 'China' 'Turkey'\n",
      " 'India' 'Morocco' 'Hungary' 'Russia' 'Lithuania' 'Romania' 'Niger'\n",
      " 'Georgia' 'Mauritania' 'Estonia' 'Algeria' 'Uruguay' 'Bolivia'\n",
      " 'Western Sahara' 'Kenya' 'Venezuela' 'Ukraine' 'Dominican Republic'\n",
      " 'Guyana' 'Austria' 'Senegal' 'Finland' 'Papua New Guinea' 'Argentina'\n",
      " 'Bulgaria' 'Japan' 'Panama' 'Bahamas' 'Tunisia' 'Zambia' 'Puerto Rico'\n",
      " 'Costa Rica' 'Myanmar' 'Democratic Republic of Congo' 'South Sudan'\n",
      " 'Paraguay' 'Nicaragua' 'Iran' 'Guatemala' 'Libya' 'Antarctica'\n",
      " 'Azerbaijan' 'Mali' 'Malta' 'Yemen' 'Guinea Bissau' 'Ecuador' 'Thailand'\n",
      " 'Syria' 'Palestine' 'Belarus' 'Lebanon' 'Greenland' 'Singapore'\n",
      " 'Honduras' 'Peru' 'Madagascar' 'Croatia' 'Slovenia' 'Montenegro'\n",
      " 'Ethiopia' 'Kazakhstan' 'Tajikistan' 'Trinidad and Tobago' 'Namibia'\n",
      " 'Benin' 'Uganda' 'Israel' 'Gambia' 'Nigeria' 'Jamaica'\n",
      " 'Bosnia and Herzegovina' 'Chad' 'Mozambique' 'Taiwan' 'Djibouti' 'Guinea'\n",
      " 'Vietnam' 'Iceland' 'Uzbekistan' 'Serbia' 'Turkmenistan' 'Sierra Leone'\n",
      " 'Fiji Islands' 'Kyrgyzstan' 'Kuwait' 'Tonga' 'Solomon Islands'\n",
      " 'New Caledonia' 'Vanuatu' 'Timor Leste' 'Central African Republic'\n",
      " 'Bermuda' 'Suriname' 'Kiribati' 'Eritrea' 'Ghana' 'Oman' 'Cyprus'\n",
      " 'Bangladesh' 'Sri Lanka' 'Latvia' 'Bhutan' 'Liberia' 'Bahrain' 'Palau'\n",
      " 'Marshall Islands' nan 'Ascension Island' 'Tuvalu' 'Guam Island'\n",
      " 'Ivory Coast' 'United Arab Emirates' 'Martinique'\n",
      " 'Northern Mariana Islands' 'Cambodia' 'Nepal' 'South Korea' 'Salvador'\n",
      " 'Cameroon' 'Jordan' 'Saudi Arabia' 'Somalia'\n",
      " 'Federated States of Micronesia' 'Macedonia' 'US Virgin Islands' 'Congo'\n",
      " 'Burkina Faso' 'Angola' 'North Korea' 'Samoa Islands (Western Samoa)'\n",
      " 'Laos' 'Cayman Islands' 'Malawi' 'Luxembourg' 'Afghanistan' 'Armenia'\n",
      " 'Faroe Islands' 'Lesotho' 'Cabo Verde' 'French Polynesia' 'Haiti'\n",
      " 'Maldivian Islands' 'Saint Kitts and Nevis' 'Mauritius'\n",
      " 'Equatorial Guinea' 'Saint Pierre and Miquelon' 'Gabon' 'Belize'\n",
      " 'Guadeloupe' 'São Tomé and Principe' 'Turks and Caicos Islands'\n",
      " 'Mongolia' 'Dutch Antilles' 'Moldova' 'Montserrat'\n",
      " 'British Virgin Islands' 'Comoros Islands' 'La Reunion' 'French Guyana'\n",
      " 'Botswana' 'Monaco' 'Saint Lucia' 'Togo' 'American Samoa'\n",
      " 'Falkland Islands' 'Seychelles' 'Barbados' 'Saint-Barthélemy' 'Qatar'\n",
      " 'Saint Vincent and Grenadines' 'Mayotte' 'Rwanda' 'Chagos Archipelago'\n",
      " 'Cook Islands' 'Dominica' 'Albania' 'Kosovo' 'Swaziland' 'Anguilla'\n",
      " 'Antigua']\n",
      "\n",
      " **************** \n",
      "\n",
      "Unique values in column 'region': \n",
      " ['North America' 'Europe' 'Africa' 'Central America' 'Asia' 'World'\n",
      " 'South America' 'Oceania' 'Antarctica' nan]\n",
      "\n",
      " **************** \n",
      "\n",
      "Unique values in column 'crew_on_board': \n",
      " [2.000e+00 6.000e+00 1.000e+00       nan 0.000e+00 3.000e+00 4.000e+00\n",
      " 7.000e+00 5.000e+00 1.700e+01 8.000e+00 9.000e+00 1.200e+01 1.924e+03\n",
      " 2.000e+01 1.000e+01 1.400e+01 1.100e+01 1.500e+01 1.300e+01 1.600e+01\n",
      " 1.900e+01 1.800e+01 2.200e+01 2.300e+01 2.100e+01 4.800e+01 1.070e+02\n",
      " 2.500e+01 3.700e+01]\n",
      "\n",
      " **************** \n",
      "\n",
      "Unique values in column 'crew_fatalities': \n",
      " [ 2.  5.  1.  0.  3.  4. 17.  6.  8.  9.  7. 15. 10. 14. 12. 11. 13. 18.\n",
      " 19. 16. 21. 25. 23. 20. nan 22.]\n",
      "\n",
      " **************** \n",
      "\n",
      "Unique values in column 'pax_on_board': \n",
      " [  0.  nan   5.   3.   4.   1.   2.  12.   8.   6.   7.  10.   9.  13.\n",
      "  11.  14.  33.  15.  20.  16.  18.  21.  23.  27.  19.  31.  28.  22.\n",
      "  17.  26.  30.  75.  25.  32.  35.  24.  46.  40.  37.  55.  34.  42.\n",
      "  43.  29.  41.  38.  48.  44.  49.  47.  36.  62.  39.  51.  45.  78.\n",
      "  50.  52.  59.  64.  68. 105. 122.  79.  58.  60.  63.  70.  53.  56.\n",
      "  65.  74.  95. 149.  57.  73.  91.  71.  67.  54.  61.  86.  77.  97.\n",
      "  69.  89.  85. 115. 110.  87. 101.  96. 103.  76.  94.  80. 111.  81.\n",
      " 136.  84. 114.  72. 106. 126. 113.  93. 120.  83. 116.  99.  98. 150.\n",
      " 100. 146. 219. 118. 155. 104. 108. 109. 148. 164. 163. 193. 139. 117.\n",
      " 154. 166.  82. 334.  92. 102. 140. 182. 314. 384. 181. 124. 128. 364.\n",
      " 121. 234. 380. 127. 156. 159. 190. 189. 186. 211.  66. 249. 162. 258.\n",
      "  88. 144. 145. 237. 152. 138. 287. 174. 213. 160. 172. 200. 112. 133.\n",
      " 381.  90. 227. 246. 123. 173. 233. 170. 141. 307. 191. 509. 131. 265.\n",
      " 248. 175. 185. 137. 240. 130. 274. 158. 129. 243. 178. 285. 157. 125.\n",
      " 195. 179. 247. 280. 151. 107. 327. 147. 119. 250. 165. 256. 451. 176.\n",
      " 260. 212. 134. 289. 222. 379. 215. 132. 252. 300. 236. 202. 296. 169.\n",
      " 171. 221. 143. 135. 187. 197. 251. 206. 188. 257. 153. 261. 201. 297.\n",
      " 324. 345. 203. 168. 216. 142. 291. 288. 283. 224. 217. 282. 161. 226.\n",
      " 167. 177. 184.]\n",
      "\n",
      " **************** \n",
      "\n",
      "Unique values in column 'pax_fatalities': \n",
      " [  0.   5.   3.   1.  12.   2.   6.   4.   7.   9.  13.  14.  10.  nan\n",
      "   8.  33.  11.  16.  21.  23.  27.  15.  19.  18.  22.  17.  30.  40.\n",
      "  25.  20.  28.  34.  24.  46.  32.  35.  26.  37.  55.  42.  31.  29.\n",
      "  38.  48.  41.  49.  47.  36.  39.  52.  51.  75.  44.  43.  45.  82.\n",
      " 122.  60.  63.  64.  53.  59.  57.  73.  56.  91.  58.  71.  62.  77.\n",
      "  61.  69.  74.  50.  87. 101.  96. 120. 103.  76.  85.  79.  80.  95.\n",
      " 111.  81.  78. 108.  72. 106. 126.  54. 113.  92. 117.  83.  99.  65.\n",
      "  98. 150.  89.  93.  97. 105. 100. 155. 104. 115. 109. 148. 164. 170.\n",
      " 116.  68. 114. 334. 102.  70.  67. 182. 107. 181. 146. 234. 326. 125.\n",
      " 190.  66. 128. 175. 258.  88. 145. 237. 138. 156. 287. 172. 124.  84.\n",
      " 246. 123. 162. 169. 141. 307. 191. 506. 248. 159. 140. 136. 274. 127.\n",
      " 243. 137. 167. 110. 213. 247. 121. 151. 131. 147. 119. 249.  90. 176.\n",
      " 212. 130. 134. 289. 214. 222. 215. 202. 135. 251. 206. 257. 152. 160.\n",
      " 216. 227. 283. 144. 217. 149.]\n",
      "\n",
      " **************** \n",
      "\n",
      "Unique values in column 'other_fatalities': \n",
      " [  0.   5.   1.  nan   2.   3.  11.  10.  13.   7.   6.  23.   8.   4.\n",
      "  19.  58.  15.  16.   9.  33.  38.  49. 107.  44.  71.  24.  27. 110.\n",
      "  20.  12. 180.  22.  14.  54.  36.  45.  43. 297.  18.  30.  78.  28.\n",
      "  37.  25.  17.  35.]\n",
      "\n",
      " **************** \n",
      "\n",
      "Unique values in column 'total_fatalities': \n",
      " [  2   5   1   0   7   4   3  14   6  17   8   9  16  12  15  10  11  45\n",
      "  13  19  20  18  25  29  30  22  26  27  21  36  35  34  24  23  32  40\n",
      "  31  28  61  51  37  44  41  59  39  43  53  50  42  52  33  48  55  38\n",
      "  80  46  58  56  87 129  47  66  74  70  62  67  79  65  99  64  60  68\n",
      "  54  63  90  73  78  72  83  77  95 111 107 130 113  84  94  81  86  97\n",
      " 101 118  85  49  57 121  69 117 133 124  98  82 126  88 102 123 155 100\n",
      "  96  92 112 109  75 162  91 104 115 122 156 174 176 108 106 346 191 188\n",
      "  76 154 248 335 131 213 142 183 192 273 257 128 146 166 301  89 110 180\n",
      " 137 132 153 119 269 181 178 148 329 200 135 520 256 167 103 159 143 290\n",
      " 270 144 171 170 223 261 141 157 116 125 264 160  71 298 189 230 312 228\n",
      " 234 203 229 217 169 145 114 265 225 275 105 149 199 152 168 158 127 239\n",
      " 150 139 224]\n",
      "\n",
      " **************** \n",
      "\n",
      "Unique values in column 'circumstances': \n",
      " ['The single engine airplane departed Dayton-McCook Field for a local test flight. Shortly after takeoff, the aircraft stalled and crashed, killing both occupants. Crew: Maj Oscar Brindley, Lt Col Henry Damm.'\n",
      " 'Assembled at Cricklewood Airfield in May 1918, the aircraft departed Cricklewood for its 13th test flight, carrying six crew members. Shortly after takeoff, while climbing to a height of about 700-800 feet, all four engines stopped. The pilot elected to return for an emergency landing when the aircraft stalled and crashed in a field located in front of 21 Garrick Avenue in Golders Green, bursting into flames. Colonel Ogilvie, who was seating in the tail gunner position at the back of the plane, survived, while all five other occupants were killed. Crew: Cpt Vernon Earl George Busby, pilot, † Mr. Bertram G. Cooper, † Mr. R. P. Cooper, † Mr. W. H. Hathaway, † Mr. J. W. Windebank, † Colonel Ogilvie.'\n",
      " 'The single engine aircraft was completing a local training flight when it stalled and crashed near Abukir. A crew member was killed and the second was injured. Crew: 2nd Lt G. E. Satterthwaite, † 2nd Lt J. Acheson.'\n",
      " ...\n",
      " 'The single engine airplane departed Yakutat on an on-demand flight to Dry Bay, a remote airstrip located about 30 miles southeast of the Southeast Alaska community of Yakutat. On final approach, the aircraft crashed in a wooded area located short of runway. All four occupants were injured, three critically.'\n",
      " 'The twin engine airplane departed Pokhara City Airport Runway 04 at 0955LT on a schedule service to Jomsom, carrying 19 passengers and three crew members. After takeoff, the pilot initiated a turn to the left and continued to climb to 12,000 feet (calibrated altitude) when a turn was initiated to the right. In limited visibility, the aircraft impacted the slope of a rocky mountain located in the area of Shikha, some 14 km southwest from the Annapurna Mountain. The wreckage was found the following day. The aircraft disintegrated on impact and all 22 occupants were killed.'\n",
      " 'The single engine was completing local skydiving flights out from Oceanside Airport. On final approach to runway 25, the airplane apparently stalled and crashed against an embankment located about 400 metres short of runway. The pilot was seriously injured and the jumpmaster was killed.']\n",
      "\n",
      " **************** \n",
      "\n",
      "Unique values in column 'crash_cause': \n",
      " ['Technical failure' 'Unknown' 'Weather' 'Human factor' 'Other causes'\n",
      " 'Terrorism act, Hijacking, Sabotage']\n",
      "\n",
      " **************** \n",
      "\n",
      "Unique values in column 'year': \n",
      " [1918 1919 1920 1921 1922 1923 1924 1925 1926 1927 1928 1929 1930 1931\n",
      " 1932 1933 1934 1935 1936 1937 1938 1939 1940 1941 1942 1943 1944 1945\n",
      " 1946 1947 1948 1949 1950 1951 1952 1953 1954 1955 1956 1957 1958 1959\n",
      " 1960 1961 1962 1963 1964 1965 1966 1967 1968 1969 1970 1971 1972 1973\n",
      " 1974 1975 1976 1977 1978 1979 1980 1981 1982 1983 1984 1985 1986 1987\n",
      " 1988 1989 1990 1991 1992 1993 1994 1995 1996 1997 1998 1999 2000 2001\n",
      " 2002 2003 2004 2005 2006 2007 2008 2009 2010 2011 2012 2013 2014 2015\n",
      " 2016 2017 2018 2019 2020 2021 2022]\n",
      "\n",
      " **************** \n",
      "\n",
      "Unique values in column 'month': \n",
      " [ 5  6  7  8  9 10 11 12  1  2  3  4]\n",
      "\n",
      " **************** \n",
      "\n",
      "Unique values in column 'day': \n",
      " [ 2  8 11 19 24 14 18 23 26 13  6 27  9 12 20 16 21 22 31 10  7 15  1  3\n",
      "  4 17 25 29  5 28 30]\n",
      "\n",
      " **************** \n",
      "\n"
     ]
    }
   ],
   "source": [
    "# View unique values for all columns\n",
    "def all_columns_unique_values(df):\n",
    "    for col in df.columns:\n",
    "        print(f\"Unique values in column \\'{col}\\': \\n {df[col].unique()}\\n\\n **************** \\n\")\n",
    "\n",
    "all_columns_unique_values(avioset_aab_low)"
   ]
  },
  {
   "cell_type": "code",
   "execution_count": 25,
   "id": "79788eec",
   "metadata": {},
   "outputs": [
    {
     "name": "stdout",
     "output_type": "stream",
     "text": [
      "All nan values in column 'time': \n",
      " 14587\n",
      "\n",
      " **************** \n",
      "\n",
      "All nan values in column 'aircraft': \n",
      " 1\n",
      "\n",
      " **************** \n",
      "\n",
      "All nan values in column 'operator': \n",
      " 0\n",
      "\n",
      " **************** \n",
      "\n",
      "All nan values in column 'registration': \n",
      " 815\n",
      "\n",
      " **************** \n",
      "\n",
      "All nan values in column 'flight_phase': \n",
      " 638\n",
      "\n",
      " **************** \n",
      "\n",
      "All nan values in column 'flight_type': \n",
      " 57\n",
      "\n",
      " **************** \n",
      "\n",
      "All nan values in column 'survivors': \n",
      " 1297\n",
      "\n",
      " **************** \n",
      "\n",
      "All nan values in column 'crash_site': \n",
      " 383\n",
      "\n",
      " **************** \n",
      "\n",
      "All nan values in column 'schedule': \n",
      " 8946\n",
      "\n",
      " **************** \n",
      "\n",
      "All nan values in column 'msn': \n",
      " 4182\n",
      "\n",
      " **************** \n",
      "\n",
      "All nan values in column 'yom': \n",
      " 5311\n",
      "\n",
      " **************** \n",
      "\n",
      "All nan values in column 'flight_no': \n",
      " 28536\n",
      "\n",
      " **************** \n",
      "\n",
      "All nan values in column 'crash_location': \n",
      " 12\n",
      "\n",
      " **************** \n",
      "\n",
      "All nan values in column 'country': \n",
      " 1\n",
      "\n",
      " **************** \n",
      "\n",
      "All nan values in column 'region': \n",
      " 1\n",
      "\n",
      " **************** \n",
      "\n",
      "All nan values in column 'crew_on_board': \n",
      " 24\n",
      "\n",
      " **************** \n",
      "\n",
      "All nan values in column 'crew_fatalities': \n",
      " 1\n",
      "\n",
      " **************** \n",
      "\n",
      "All nan values in column 'pax_on_board': \n",
      " 54\n",
      "\n",
      " **************** \n",
      "\n",
      "All nan values in column 'pax_fatalities': \n",
      " 1\n",
      "\n",
      " **************** \n",
      "\n",
      "All nan values in column 'other_fatalities': \n",
      " 10\n",
      "\n",
      " **************** \n",
      "\n",
      "All nan values in column 'total_fatalities': \n",
      " 0\n",
      "\n",
      " **************** \n",
      "\n",
      "All nan values in column 'circumstances': \n",
      " 25\n",
      "\n",
      " **************** \n",
      "\n",
      "All nan values in column 'crash_cause': \n",
      " 0\n",
      "\n",
      " **************** \n",
      "\n",
      "All nan values in column 'year': \n",
      " 0\n",
      "\n",
      " **************** \n",
      "\n",
      "All nan values in column 'month': \n",
      " 0\n",
      "\n",
      " **************** \n",
      "\n",
      "All nan values in column 'day': \n",
      " 0\n",
      "\n",
      " **************** \n",
      "\n"
     ]
    }
   ],
   "source": [
    "# View NAN values in all columns\n",
    "def all_columns_nan_values(df):\n",
    "    for col in df.columns:\n",
    "        print(f\"All nan values in column \\'{col}\\': \\n {df[col].isna().sum()}\\n\\n **************** \\n\")\n",
    "\n",
    "all_columns_nan_values(avioset_aab_low)"
   ]
  },
  {
   "cell_type": "markdown",
   "id": "52684077",
   "metadata": {},
   "source": [
    "[Return to Table of Contents](#toc)"
   ]
  },
  {
   "cell_type": "markdown",
   "id": "632bec95",
   "metadata": {},
   "source": [
    "<div style=\"background-color: #9df9ef; padding: 10px;\"></div>"
   ]
  },
  {
   "cell_type": "markdown",
   "id": "6f2bfa2d",
   "metadata": {},
   "source": [
    "#### 2.3.6. Column analysis <a id=\"2-3-6\">\n",
    "We'll make a deep copy of our dataset into new one and will clean or change some data."
   ]
  },
  {
   "cell_type": "code",
   "execution_count": 26,
   "id": "32a73d81",
   "metadata": {},
   "outputs": [],
   "source": [
    "avioset = avioset_aab_low.copy()"
   ]
  },
  {
   "cell_type": "markdown",
   "id": "75ed636f",
   "metadata": {},
   "source": [
    "<div style=\"background-color: #9df9ef; padding: 10px;\"></div>"
   ]
  },
  {
   "cell_type": "markdown",
   "id": "c764285b",
   "metadata": {},
   "source": [
    "##### Column 'time' has 14587 nan values from 28536 which is more than 51% of all our data. That's why we'll delete it."
   ]
  },
  {
   "cell_type": "code",
   "execution_count": 27,
   "id": "41ad8acb",
   "metadata": {},
   "outputs": [],
   "source": [
    "# Drop a column col from dataset df\n",
    "def drop_column(col, df):\n",
    "    df = df.drop(col, axis = 1)\n",
    "    return df"
   ]
  },
  {
   "cell_type": "code",
   "execution_count": 28,
   "id": "68a882a6",
   "metadata": {},
   "outputs": [],
   "source": [
    "avioset = drop_column('time', avioset)"
   ]
  },
  {
   "cell_type": "code",
   "execution_count": 29,
   "id": "696c61c5",
   "metadata": {},
   "outputs": [
    {
     "data": {
      "text/plain": [
       "Index(['aircraft', 'operator', 'registration', 'flight_phase', 'flight_type',\n",
       "       'survivors', 'crash_site', 'schedule', 'msn', 'yom', 'flight_no',\n",
       "       'crash_location', 'country', 'region', 'crew_on_board',\n",
       "       'crew_fatalities', 'pax_on_board', 'pax_fatalities', 'other_fatalities',\n",
       "       'total_fatalities', 'circumstances', 'crash_cause', 'year', 'month',\n",
       "       'day'],\n",
       "      dtype='object')"
      ]
     },
     "execution_count": 29,
     "metadata": {},
     "output_type": "execute_result"
    }
   ],
   "source": [
    "# Check\n",
    "avioset.columns"
   ]
  },
  {
   "cell_type": "markdown",
   "id": "10b0bb2b",
   "metadata": {},
   "source": [
    "<div style=\"background-color: #9df9ef; padding: 10px;\"></div>"
   ]
  },
  {
   "cell_type": "markdown",
   "id": "39723c12",
   "metadata": {},
   "source": [
    "##### Column 'aircraft' has only 1 nan value. That's why we'll delete this row."
   ]
  },
  {
   "cell_type": "code",
   "execution_count": 30,
   "id": "4b1b6db8",
   "metadata": {},
   "outputs": [],
   "source": [
    "# Delete all rows with nan values in a column col\n",
    "def del_nan_in_col(df, col):\n",
    "    df = df.dropna(subset=[col])\n",
    "    return df"
   ]
  },
  {
   "cell_type": "code",
   "execution_count": 31,
   "id": "94b81891",
   "metadata": {},
   "outputs": [],
   "source": [
    "# Deleting the row with nan value in column 'aircraft'\n",
    "avioset = del_nan_in_col(avioset, 'aircraft')"
   ]
  },
  {
   "cell_type": "code",
   "execution_count": 32,
   "id": "53c971a0",
   "metadata": {},
   "outputs": [
    {
     "data": {
      "text/plain": [
       "(28535, 25)"
      ]
     },
     "execution_count": 32,
     "metadata": {},
     "output_type": "execute_result"
    }
   ],
   "source": [
    "avioset.shape"
   ]
  },
  {
   "cell_type": "code",
   "execution_count": 33,
   "id": "b628ba3e",
   "metadata": {},
   "outputs": [
    {
     "data": {
      "text/plain": [
       "0"
      ]
     },
     "execution_count": 33,
     "metadata": {},
     "output_type": "execute_result"
    }
   ],
   "source": [
    "# Check nan in column 'aircraft'\n",
    "avioset['aircraft'].isna().sum()"
   ]
  },
  {
   "cell_type": "markdown",
   "id": "65b2fd3b",
   "metadata": {},
   "source": [
    "<div style=\"background-color: #9df9ef; padding: 10px;\"></div>"
   ]
  },
  {
   "cell_type": "markdown",
   "id": "0b7d011b",
   "metadata": {},
   "source": [
    "##### Column 'operator' has 0 nan values. It remains unchanged."
   ]
  },
  {
   "cell_type": "markdown",
   "id": "46ea0ba8",
   "metadata": {},
   "source": [
    "<div style=\"background-color: #9df9ef; padding: 10px;\"></div>"
   ]
  },
  {
   "cell_type": "markdown",
   "id": "daac1321",
   "metadata": {},
   "source": [
    "##### Column 'registration'.\n",
    "Let's check unique values."
   ]
  },
  {
   "cell_type": "code",
   "execution_count": 34,
   "id": "6e00d6cb",
   "metadata": {},
   "outputs": [
    {
     "name": "stdout",
     "output_type": "stream",
     "text": [
      "Unique values in column registration are 27280\n"
     ]
    }
   ],
   "source": [
    "# Calculates how many unique values do we have in column col from dataset df\n",
    "def count_col_unique_val(df, col):\n",
    "    unique_count = df[col].nunique()\n",
    "    print(f\"Unique values in column {col} are {unique_count}\")\n",
    "\n",
    "count_col_unique_val(avioset, 'registration')"
   ]
  },
  {
   "cell_type": "code",
   "execution_count": 35,
   "id": "59ed9d6c",
   "metadata": {},
   "outputs": [
    {
     "name": "stdout",
     "output_type": "stream",
     "text": [
      "registration\n",
      "NaN         815\n",
      "1             8\n",
      "2             7\n",
      "5             7\n",
      "6             6\n",
      "           ... \n",
      "RA-89098      1\n",
      "N601VH        1\n",
      "N102SN        1\n",
      "S2-AGQ        1\n",
      "N7581F        1\n",
      "Name: count, Length: 27281, dtype: int64\n"
     ]
    }
   ],
   "source": [
    "# Print unique value counts in a column col\n",
    "def print_value_counts(df, col):\n",
    "    value_counts = df[col].value_counts(dropna=False)\n",
    "    print(value_counts.sort_values(ascending=False))\n",
    "\n",
    "print_value_counts(avioset, 'registration')"
   ]
  },
  {
   "cell_type": "markdown",
   "id": "d578ccfc",
   "metadata": {},
   "source": [
    "In the distribution of the data in column 'registration', there is no separation into larger groups around some values. Therefore, we will delete this column as well."
   ]
  },
  {
   "cell_type": "code",
   "execution_count": 36,
   "id": "2a5b79da",
   "metadata": {},
   "outputs": [],
   "source": [
    "avioset = drop_column('registration', avioset)"
   ]
  },
  {
   "cell_type": "code",
   "execution_count": 37,
   "id": "66daeb1a",
   "metadata": {},
   "outputs": [
    {
     "data": {
      "text/plain": [
       "Index(['aircraft', 'operator', 'flight_phase', 'flight_type', 'survivors',\n",
       "       'crash_site', 'schedule', 'msn', 'yom', 'flight_no', 'crash_location',\n",
       "       'country', 'region', 'crew_on_board', 'crew_fatalities', 'pax_on_board',\n",
       "       'pax_fatalities', 'other_fatalities', 'total_fatalities',\n",
       "       'circumstances', 'crash_cause', 'year', 'month', 'day'],\n",
       "      dtype='object')"
      ]
     },
     "execution_count": 37,
     "metadata": {},
     "output_type": "execute_result"
    }
   ],
   "source": [
    "# Check\n",
    "avioset.columns"
   ]
  },
  {
   "cell_type": "markdown",
   "id": "e6c67fa8",
   "metadata": {},
   "source": [
    "<div style=\"background-color: #9df9ef; padding: 10px;\"></div>"
   ]
  },
  {
   "cell_type": "markdown",
   "id": "729ba1c1",
   "metadata": {},
   "source": [
    "##### Column 'flight_phase'"
   ]
  },
  {
   "cell_type": "code",
   "execution_count": 38,
   "id": "970eeca1",
   "metadata": {},
   "outputs": [
    {
     "name": "stdout",
     "output_type": "stream",
     "text": [
      "flight_phase\n",
      "Flight                           11475\n",
      "Landing (descent or approach)    10023\n",
      "Takeoff (climb)                   6051\n",
      "NaN                                638\n",
      "Taxiing                            236\n",
      "Parking                            112\n",
      "Name: count, dtype: int64\n"
     ]
    }
   ],
   "source": [
    "# Print unique value counts in a column 'flight_phase'\n",
    "print_value_counts(avioset, 'flight_phase')"
   ]
  },
  {
   "cell_type": "markdown",
   "id": "ca52bdd7",
   "metadata": {},
   "source": [
    "##### There are 638 NAN values. We'll replace them with empty string."
   ]
  },
  {
   "cell_type": "code",
   "execution_count": 39,
   "id": "d2bfaaab",
   "metadata": {},
   "outputs": [
    {
     "name": "stdout",
     "output_type": "stream",
     "text": [
      "flight_phase\n",
      "Flight                           11475\n",
      "Landing (descent or approach)    10023\n",
      "Takeoff (climb)                   6051\n",
      "                                   638\n",
      "Taxiing                            236\n",
      "Parking                            112\n",
      "Name: count, dtype: int64\n",
      "Shape of avioset is (28535, 24)\n"
     ]
    }
   ],
   "source": [
    "# Replace with empty string\n",
    "avioset['flight_phase'] = avioset['flight_phase'].fillna(\"\")\n",
    "\n",
    "# Check\n",
    "print_value_counts(avioset, 'flight_phase')\n",
    "print(f\"Shape of avioset is {avioset.shape}\")"
   ]
  },
  {
   "cell_type": "markdown",
   "id": "6255bdb0",
   "metadata": {},
   "source": [
    "<div style=\"background-color: #9df9ef; padding: 10px;\"></div>"
   ]
  },
  {
   "cell_type": "markdown",
   "id": "14aaacc2",
   "metadata": {},
   "source": [
    "##### Column 'flight_type'"
   ]
  },
  {
   "cell_type": "code",
   "execution_count": 40,
   "id": "89a57312",
   "metadata": {},
   "outputs": [
    {
     "name": "stdout",
     "output_type": "stream",
     "text": [
      "flight_type\n",
      "Scheduled Revenue Flight                       6035\n",
      "Military                                       4649\n",
      "Training                                       3300\n",
      "Cargo                                          2814\n",
      "Private                                        2343\n",
      "Charter/Taxi (Non Scheduled Revenue Flight)    1830\n",
      "Executive/Corporate/Business                   1050\n",
      "Survey / Patrol / Reconnaissance                896\n",
      "Bombing                                         672\n",
      "Positioning                                     671\n",
      "Test                                            565\n",
      "Spraying (Agricultural)                         501\n",
      "Postal (mail)                                   494\n",
      "Ferry                                           426\n",
      "Supply                                          415\n",
      "Government                                      246\n",
      "Ambulance                                       228\n",
      "Illegal (smuggling)                             225\n",
      "Delivery                                        192\n",
      "Demonstration                                   173\n",
      "Skydiving / Paratroopers                        169\n",
      "Fire fighting                                   147\n",
      "Humanitarian                                    134\n",
      "Aerial photography                               77\n",
      "Geographical / Geophysical / Scientific          67\n",
      "NaN                                              57\n",
      "Refuelling                                       51\n",
      "Meteorological / Weather                         34\n",
      "Calibration                                      32\n",
      "Topographic                                      29\n",
      "Cinematography                                   12\n",
      "Aerobatic                                         1\n",
      "Name: count, dtype: int64\n"
     ]
    }
   ],
   "source": [
    "# Print unique value counts in a column 'flight_type'\n",
    "print_value_counts(avioset, 'flight_type')"
   ]
  },
  {
   "cell_type": "markdown",
   "id": "7e356d24",
   "metadata": {},
   "source": [
    "##### There are only 57 nan out of 28535 ~ 0,2%.  That's why we'll replace them with empty string."
   ]
  },
  {
   "cell_type": "code",
   "execution_count": 41,
   "id": "5e9224f2",
   "metadata": {},
   "outputs": [
    {
     "name": "stdout",
     "output_type": "stream",
     "text": [
      "flight_type\n",
      "Scheduled Revenue Flight                       6035\n",
      "Military                                       4649\n",
      "Training                                       3300\n",
      "Cargo                                          2814\n",
      "Private                                        2343\n",
      "Charter/Taxi (Non Scheduled Revenue Flight)    1830\n",
      "Executive/Corporate/Business                   1050\n",
      "Survey / Patrol / Reconnaissance                896\n",
      "Bombing                                         672\n",
      "Positioning                                     671\n",
      "Test                                            565\n",
      "Spraying (Agricultural)                         501\n",
      "Postal (mail)                                   494\n",
      "Ferry                                           426\n",
      "Supply                                          415\n",
      "Government                                      246\n",
      "Ambulance                                       228\n",
      "Illegal (smuggling)                             225\n",
      "Delivery                                        192\n",
      "Demonstration                                   173\n",
      "Skydiving / Paratroopers                        169\n",
      "Fire fighting                                   147\n",
      "Humanitarian                                    134\n",
      "Aerial photography                               77\n",
      "Geographical / Geophysical / Scientific          67\n",
      "                                                 57\n",
      "Refuelling                                       51\n",
      "Meteorological / Weather                         34\n",
      "Calibration                                      32\n",
      "Topographic                                      29\n",
      "Cinematography                                   12\n",
      "Aerobatic                                         1\n",
      "Name: count, dtype: int64\n",
      "Shape of avioset is (28535, 24)\n"
     ]
    }
   ],
   "source": [
    "# Replace with empty string\n",
    "avioset['flight_type'] = avioset['flight_type'].fillna(\"\")\n",
    "\n",
    "# Check\n",
    "print_value_counts(avioset, 'flight_type')\n",
    "print(f\"Shape of avioset is {avioset.shape}\")"
   ]
  },
  {
   "cell_type": "markdown",
   "id": "1c9cad79",
   "metadata": {},
   "source": [
    "<div style=\"background-color: #9df9ef; padding: 10px;\"></div>"
   ]
  },
  {
   "cell_type": "markdown",
   "id": "bac60834",
   "metadata": {},
   "source": [
    "##### Column 'survivors'"
   ]
  },
  {
   "cell_type": "code",
   "execution_count": 42,
   "id": "4050f98c",
   "metadata": {},
   "outputs": [
    {
     "name": "stdout",
     "output_type": "stream",
     "text": [
      "survivors\n",
      "Yes    15528\n",
      "No     11711\n",
      "NaN     1296\n",
      "Name: count, dtype: int64\n"
     ]
    }
   ],
   "source": [
    "# Print unique value counts in a column 'survivors'\n",
    "print_value_counts(avioset, 'survivors')"
   ]
  },
  {
   "cell_type": "markdown",
   "id": "2aa5cb12",
   "metadata": {},
   "source": [
    "##### There are only 1296 nan out of 28535 ~ 4,54%.  That's why we'll replace them with empty string. "
   ]
  },
  {
   "cell_type": "code",
   "execution_count": 43,
   "id": "94f706e5",
   "metadata": {},
   "outputs": [
    {
     "name": "stdout",
     "output_type": "stream",
     "text": [
      "survivors\n",
      "Yes    15528\n",
      "No     11711\n",
      "        1296\n",
      "Name: count, dtype: int64\n",
      "Shape of avioset is (28535, 24)\n"
     ]
    }
   ],
   "source": [
    "# Replace with empty string\n",
    "avioset['survivors'] = avioset['survivors'].fillna(\"\")\n",
    "\n",
    "# Check\n",
    "print_value_counts(avioset, 'survivors')\n",
    "print(f\"Shape of avioset is {avioset.shape}\")"
   ]
  },
  {
   "cell_type": "markdown",
   "id": "65a7d658",
   "metadata": {},
   "source": [
    "<div style=\"background-color: #9df9ef; padding: 10px;\"></div>"
   ]
  },
  {
   "cell_type": "markdown",
   "id": "86af2a35",
   "metadata": {},
   "source": [
    "##### Column 'crash_site'"
   ]
  },
  {
   "cell_type": "code",
   "execution_count": 44,
   "id": "0bc8128a",
   "metadata": {},
   "outputs": [
    {
     "name": "stdout",
     "output_type": "stream",
     "text": [
      "crash_site\n",
      "Airport (less than 10 km from airport)    13589\n",
      "Plain, Valley                              6527\n",
      "Lake, Sea, Ocean, River                    3853\n",
      "Mountains                                  3440\n",
      "City                                        537\n",
      "NaN                                         383\n",
      "Desert                                      206\n",
      "Name: count, dtype: int64\n"
     ]
    }
   ],
   "source": [
    "# Print unique value counts in a column 'crash_site'\n",
    "print_value_counts(avioset, 'crash_site')"
   ]
  },
  {
   "cell_type": "markdown",
   "id": "ac82e010",
   "metadata": {},
   "source": [
    "##### There are only 383 nan out of 28535 ~ 1,34%.  That's why we'll replace them with empty string. "
   ]
  },
  {
   "cell_type": "code",
   "execution_count": 45,
   "id": "326253ed",
   "metadata": {},
   "outputs": [
    {
     "name": "stdout",
     "output_type": "stream",
     "text": [
      "crash_site\n",
      "Airport (less than 10 km from airport)    13589\n",
      "Plain, Valley                              6527\n",
      "Lake, Sea, Ocean, River                    3853\n",
      "Mountains                                  3440\n",
      "City                                        537\n",
      "                                            383\n",
      "Desert                                      206\n",
      "Name: count, dtype: int64\n",
      "Shape of avioset is (28535, 24)\n"
     ]
    }
   ],
   "source": [
    "# Replace with empty string\n",
    "avioset['crash_site'] = avioset['crash_site'].fillna(\"\")\n",
    "\n",
    "# Check\n",
    "print_value_counts(avioset, 'crash_site')\n",
    "print(f\"Shape of avioset is {avioset.shape}\")"
   ]
  },
  {
   "cell_type": "markdown",
   "id": "21a02e72",
   "metadata": {},
   "source": [
    "<div style=\"background-color: #9df9ef; padding: 10px;\"></div>"
   ]
  },
  {
   "cell_type": "markdown",
   "id": "9d552f82",
   "metadata": {},
   "source": [
    "##### Column 'schedule'"
   ]
  },
  {
   "cell_type": "code",
   "execution_count": 46,
   "id": "c0052acb",
   "metadata": {},
   "outputs": [
    {
     "name": "stdout",
     "output_type": "stream",
     "text": [
      "schedule\n",
      "NaN                                8945\n",
      "Waddington - Waddington              33\n",
      "Point Cook - Point Cook              31\n",
      "Rio de Janeiro - Rio de Janeiro      28\n",
      "Scampton - Scampton                  27\n",
      "                                   ... \n",
      "Sabadell - Pamplona                   1\n",
      "Daytona Beach - Daytona Beach         1\n",
      "Magadan – Seymchan                    1\n",
      "Abilene – Harlingen                   1\n",
      "Oceanside - Oceanside                 1\n",
      "Name: count, Length: 15658, dtype: int64\n"
     ]
    }
   ],
   "source": [
    "# Print unique value counts in a column 'schedule'\n",
    "print_value_counts(avioset, 'schedule')"
   ]
  },
  {
   "cell_type": "markdown",
   "id": "6d3c1006",
   "metadata": {},
   "source": [
    "##### There are 8945 nan out of 28535 ~ 31,34%.  This is very high percent. That's why we'll drop this column."
   ]
  },
  {
   "cell_type": "code",
   "execution_count": 47,
   "id": "4c27fb91",
   "metadata": {},
   "outputs": [
    {
     "name": "stdout",
     "output_type": "stream",
     "text": [
      "Shape of avioset is (28535, 23)\n"
     ]
    }
   ],
   "source": [
    "avioset = drop_column('schedule', avioset)\n",
    "\n",
    "# Check\n",
    "print(f\"Shape of avioset is {avioset.shape}\")"
   ]
  },
  {
   "cell_type": "markdown",
   "id": "a4c4cf03",
   "metadata": {},
   "source": [
    "<div style=\"background-color: #9df9ef; padding: 10px;\"></div>"
   ]
  },
  {
   "cell_type": "markdown",
   "id": "2791fff7",
   "metadata": {},
   "source": [
    "##### Column 'msn' - Manufacturer serial number/construction number."
   ]
  },
  {
   "cell_type": "code",
   "execution_count": 48,
   "id": "1bdaea4e",
   "metadata": {},
   "outputs": [
    {
     "name": "stdout",
     "output_type": "stream",
     "text": [
      "msn\n",
      "NaN            4182\n",
      "1                47\n",
      "01               47\n",
      "15               31\n",
      "2                30\n",
      "               ... \n",
      "208B-0705         1\n",
      "25227             1\n",
      "038SSW624         1\n",
      "BB-370            1\n",
      "61-0277-061       1\n",
      "Name: count, Length: 18573, dtype: int64\n"
     ]
    }
   ],
   "source": [
    "# Print unique value counts in a column 'msn'\n",
    "print_value_counts(avioset, 'msn')"
   ]
  },
  {
   "cell_type": "markdown",
   "id": "de560bf8",
   "metadata": {},
   "source": [
    "##### There are 4182 nan out of 28535 ~ 14,66%.  In addition the information is not very useful. That's why we'll drop this column."
   ]
  },
  {
   "cell_type": "code",
   "execution_count": 49,
   "id": "bfd4db86",
   "metadata": {},
   "outputs": [
    {
     "name": "stdout",
     "output_type": "stream",
     "text": [
      "Shape of avioset is (28535, 22)\n"
     ]
    }
   ],
   "source": [
    "avioset = drop_column('msn', avioset)\n",
    "\n",
    "# Check\n",
    "print(f\"Shape of avioset is {avioset.shape}\")"
   ]
  },
  {
   "cell_type": "markdown",
   "id": "147f8a46",
   "metadata": {},
   "source": [
    "<div style=\"background-color: #9df9ef; padding: 10px;\"></div>"
   ]
  },
  {
   "cell_type": "markdown",
   "id": "c6660e5e",
   "metadata": {},
   "source": [
    "##### Column 'yom' - Year of Manufacture."
   ]
  },
  {
   "cell_type": "code",
   "execution_count": 50,
   "id": "6816c620",
   "metadata": {},
   "outputs": [
    {
     "name": "stdout",
     "output_type": "stream",
     "text": [
      "yom\n",
      "NaN        5311\n",
      "1944.0     2043\n",
      "1943.0     1067\n",
      "1945.0      917\n",
      "1969.0      574\n",
      "           ... \n",
      "170.0         1\n",
      "19567.0       1\n",
      "254.0         1\n",
      "12928.0       1\n",
      "2019.0        1\n",
      "Name: count, Length: 145, dtype: int64\n"
     ]
    }
   ],
   "source": [
    "# Print unique value counts in a column 'yom'\n",
    "print_value_counts(avioset, 'yom')"
   ]
  },
  {
   "cell_type": "markdown",
   "id": "73e2d389",
   "metadata": {},
   "source": [
    "##### There are 5311 nan out of 28535 ~ 18,62%. We'll fill them with 0."
   ]
  },
  {
   "cell_type": "code",
   "execution_count": 51,
   "id": "030d1eab",
   "metadata": {},
   "outputs": [
    {
     "name": "stdout",
     "output_type": "stream",
     "text": [
      "yom\n",
      "1.0        5321\n",
      "1944.0     2043\n",
      "1943.0     1067\n",
      "1945.0      917\n",
      "1969.0      574\n",
      "           ... \n",
      "254.0         1\n",
      "14949.0       1\n",
      "1900.0        1\n",
      "19567.0       1\n",
      "2019.0        1\n",
      "Name: count, Length: 144, dtype: int64\n",
      "Shape of avioset is (28535, 22)\n"
     ]
    }
   ],
   "source": [
    "# Replace with 1\n",
    "avioset['yom'] = avioset['yom'].fillna(1)\n",
    "\n",
    "# Check\n",
    "print_value_counts(avioset, 'yom')\n",
    "print(f\"Shape of avioset is {avioset.shape}\")"
   ]
  },
  {
   "cell_type": "markdown",
   "id": "d0dba461",
   "metadata": {},
   "source": [
    "##### It's strange that there are values like 12928. Years are distributed in this way:"
   ]
  },
  {
   "cell_type": "code",
   "execution_count": 52,
   "id": "8883cefe",
   "metadata": {},
   "outputs": [
    {
     "name": "stdout",
     "output_type": "stream",
     "text": [
      "yom\n",
      "0.0          38\n",
      "1.0        5321\n",
      "2.0          12\n",
      "3.0           8\n",
      "4.0           7\n",
      "           ... \n",
      "2019.0        1\n",
      "2020.0        4\n",
      "12928.0       1\n",
      "14949.0       1\n",
      "19567.0       1\n",
      "Length: 144, dtype: int64\n"
     ]
    }
   ],
   "source": [
    "print(avioset.groupby('yom').size().sort_index(ascending=True))"
   ]
  },
  {
   "cell_type": "markdown",
   "id": "e1686340",
   "metadata": {},
   "source": [
    "##### There are 5311 nan out of 28535 ~ 18,61%.  On other side years of accidents are these: "
   ]
  },
  {
   "cell_type": "code",
   "execution_count": 53,
   "id": "9b8be9c1",
   "metadata": {},
   "outputs": [
    {
     "name": "stdout",
     "output_type": "stream",
     "text": [
      "year\n",
      "1918     25\n",
      "1919     83\n",
      "1920    127\n",
      "1921    138\n",
      "1922    106\n",
      "       ... \n",
      "2018    131\n",
      "2019    145\n",
      "2020    113\n",
      "2021    113\n",
      "2022     39\n",
      "Length: 105, dtype: int64\n"
     ]
    }
   ],
   "source": [
    "print(avioset.groupby('year').size().sort_index(ascending=True))"
   ]
  },
  {
   "cell_type": "markdown",
   "id": "c5d4512a",
   "metadata": {},
   "source": [
    "##### That's why we'll take only values for yom <= 2022 and >= 1918. For our further analysis, which will include yom, we'll use new dataset avioset_yom. This column will be dropped from avioset."
   ]
  },
  {
   "cell_type": "code",
   "execution_count": 54,
   "id": "2f82c25b",
   "metadata": {},
   "outputs": [],
   "source": [
    "avioset_yom = avioset.copy()\n",
    "avioset = drop_column('yom', avioset)"
   ]
  },
  {
   "cell_type": "code",
   "execution_count": 55,
   "id": "41f5de4c",
   "metadata": {},
   "outputs": [],
   "source": [
    "avioset_yom['yom'] = avioset_yom['yom'].astype(int)"
   ]
  },
  {
   "cell_type": "code",
   "execution_count": 56,
   "id": "c7f25f1a",
   "metadata": {},
   "outputs": [
    {
     "data": {
      "text/plain": [
       "dtype('int32')"
      ]
     },
     "execution_count": 56,
     "metadata": {},
     "output_type": "execute_result"
    }
   ],
   "source": [
    "avioset_yom['yom'].dtype"
   ]
  },
  {
   "cell_type": "code",
   "execution_count": 57,
   "id": "257ecf88",
   "metadata": {},
   "outputs": [],
   "source": [
    "avioset_yom = avioset_yom[(avioset_yom['yom'] > 1917) & (avioset_yom['yom'] < 2023)]"
   ]
  },
  {
   "cell_type": "code",
   "execution_count": 58,
   "id": "5366ae38",
   "metadata": {},
   "outputs": [
    {
     "data": {
      "text/plain": [
       "(22872, 22)"
      ]
     },
     "execution_count": 58,
     "metadata": {},
     "output_type": "execute_result"
    }
   ],
   "source": [
    "avioset_yom.shape"
   ]
  },
  {
   "cell_type": "code",
   "execution_count": 59,
   "id": "4ba274bd",
   "metadata": {},
   "outputs": [
    {
     "name": "stdout",
     "output_type": "stream",
     "text": [
      "yom\n",
      "2020     4\n",
      "2019     1\n",
      "2018     2\n",
      "2017     6\n",
      "2016     8\n",
      "        ..\n",
      "1922    68\n",
      "1921    54\n",
      "1920    90\n",
      "1919    87\n",
      "1918     9\n",
      "Length: 103, dtype: int64\n"
     ]
    }
   ],
   "source": [
    "print(avioset_yom.groupby('yom').size().sort_index(ascending=False))"
   ]
  },
  {
   "cell_type": "code",
   "execution_count": 60,
   "id": "73608d22",
   "metadata": {},
   "outputs": [
    {
     "data": {
      "text/plain": [
       "array([1918, 1919, 1920, 1921, 1923, 1922, 1924, 1925, 1926, 1927, 1928,\n",
       "       1929, 1930, 1931, 1932, 1933, 1935, 1934, 1936, 1937, 1938, 1939,\n",
       "       1940, 1941, 1942, 1943, 1944, 1945, 1946, 1947, 1951, 1948, 1949,\n",
       "       1950, 1952, 1953, 1954, 1955, 1959, 1956, 1957, 1958, 1960, 1961,\n",
       "       1962, 1963, 1964, 1965, 1966, 1967, 1968, 1969, 1970, 1979, 1971,\n",
       "       1972, 1977, 1973, 1974, 1975, 1976, 1978, 1980, 1987, 1981, 1982,\n",
       "       1983, 1984, 1985, 1986, 1988, 1989, 1990, 1991, 1992, 1993, 1994,\n",
       "       1995, 1996, 1997, 1998, 1999, 2000, 2001, 2002, 2003, 2004, 2005,\n",
       "       2006, 2007, 2008, 2009, 2010, 2012, 2011, 2013, 2014, 2015, 2016,\n",
       "       2017, 2018, 2020, 2019])"
      ]
     },
     "execution_count": 60,
     "metadata": {},
     "output_type": "execute_result"
    }
   ],
   "source": [
    "avioset_yom.yom.unique()"
   ]
  },
  {
   "cell_type": "markdown",
   "id": "97e94797",
   "metadata": {},
   "source": [
    "<div style=\"background-color: #9df9ef; padding: 10px;\"></div>"
   ]
  },
  {
   "cell_type": "markdown",
   "id": "593fd0b9",
   "metadata": {},
   "source": [
    "##### Column 'flight_no' "
   ]
  },
  {
   "cell_type": "code",
   "execution_count": 61,
   "id": "33f055b0",
   "metadata": {},
   "outputs": [
    {
     "name": "stdout",
     "output_type": "stream",
     "text": [
      "flight_no\n",
      "NaN    28535\n",
      "Name: count, dtype: int64\n"
     ]
    }
   ],
   "source": [
    "# Print unique value counts in a column 'flight_no'\n",
    "print_value_counts(avioset, 'flight_no')"
   ]
  },
  {
   "cell_type": "markdown",
   "id": "40129ae7",
   "metadata": {},
   "source": [
    "#### There are any values in flight_no column. We'll drop it."
   ]
  },
  {
   "cell_type": "code",
   "execution_count": 62,
   "id": "a070d115",
   "metadata": {},
   "outputs": [],
   "source": [
    "avioset = drop_column('flight_no', avioset)"
   ]
  },
  {
   "cell_type": "code",
   "execution_count": 63,
   "id": "4412117c",
   "metadata": {},
   "outputs": [
    {
     "name": "stdout",
     "output_type": "stream",
     "text": [
      "(28535, 20)\n",
      "Index(['aircraft', 'operator', 'flight_phase', 'flight_type', 'survivors',\n",
      "       'crash_site', 'crash_location', 'country', 'region', 'crew_on_board',\n",
      "       'crew_fatalities', 'pax_on_board', 'pax_fatalities', 'other_fatalities',\n",
      "       'total_fatalities', 'circumstances', 'crash_cause', 'year', 'month',\n",
      "       'day'],\n",
      "      dtype='object')\n"
     ]
    }
   ],
   "source": [
    "print(avioset.shape)\n",
    "print(avioset.columns)"
   ]
  },
  {
   "cell_type": "markdown",
   "id": "7954c402",
   "metadata": {},
   "source": [
    "<div style=\"background-color: #9df9ef; padding: 10px;\"></div>"
   ]
  },
  {
   "cell_type": "markdown",
   "id": "e075fa28",
   "metadata": {},
   "source": [
    "##### Column 'circumstances' "
   ]
  },
  {
   "cell_type": "code",
   "execution_count": 64,
   "id": "943ac9a7",
   "metadata": {},
   "outputs": [
    {
     "name": "stdout",
     "output_type": "stream",
     "text": [
      "circumstances\n",
      "Crashed in unknown circumstances.                                                                                                                                                                                                                                                                                                                                                                                                                                                                                                                                                                                                                                                                                                                                                                                                                                                                                                                                                                                                                                                                                                                                                                                                                                                                                                                                                                                                                                                                                                                                                                                                                                                                                                                                                                                                                                                                                                                                                                                                                                                                                                                                                                                                                                                                                                                                                                                                                                                                                                                                                                                                                                                                                                                                                                                                                                                                                                                                                                                                                                                                                                                                                                                                                                                                                                                                                                                                                                                                                                                                                                                                                                                                                                                                                                                                                                                                                                                                                                                                                                                                                                                                                                                                                                                                                                                                                                                                                                                                                                                                                             162\n",
      "Crashed in unknown circumstances. There were no casualties.                                                                                                                                                                                                                                                                                                                                                                                                                                                                                                                                                                                                                                                                                                                                                                                                                                                                                                                                                                                                                                                                                                                                                                                                                                                                                                                                                                                                                                                                                                                                                                                                                                                                                                                                                                                                                                                                                                                                                                                                                                                                                                                                                                                                                                                                                                                                                                                                                                                                                                                                                                                                                                                                                                                                                                                                                                                                                                                                                                                                                                                                                                                                                                                                                                                                                                                                                                                                                                                                                                                                                                                                                                                                                                                                                                                                                                                                                                                                                                                                                                                                                                                                                                                                                                                                                                                                                                                                                                                                                                                                    62\n",
      "Crashed in unknown circumstances. Crew fate unknown.                                                                                                                                                                                                                                                                                                                                                                                                                                                                                                                                                                                                                                                                                                                                                                                                                                                                                                                                                                                                                                                                                                                                                                                                                                                                                                                                                                                                                                                                                                                                                                                                                                                                                                                                                                                                                                                                                                                                                                                                                                                                                                                                                                                                                                                                                                                                                                                                                                                                                                                                                                                                                                                                                                                                                                                                                                                                                                                                                                                                                                                                                                                                                                                                                                                                                                                                                                                                                                                                                                                                                                                                                                                                                                                                                                                                                                                                                                                                                                                                                                                                                                                                                                                                                                                                                                                                                                                                                                                                                                                                           51\n",
      "Crashed in unknown circumstances. No casualties.                                                                                                                                                                                                                                                                                                                                                                                                                                                                                                                                                                                                                                                                                                                                                                                                                                                                                                                                                                                                                                                                                                                                                                                                                                                                                                                                                                                                                                                                                                                                                                                                                                                                                                                                                                                                                                                                                                                                                                                                                                                                                                                                                                                                                                                                                                                                                                                                                                                                                                                                                                                                                                                                                                                                                                                                                                                                                                                                                                                                                                                                                                                                                                                                                                                                                                                                                                                                                                                                                                                                                                                                                                                                                                                                                                                                                                                                                                                                                                                                                                                                                                                                                                                                                                                                                                                                                                                                                                                                                                                                               40\n",
      "Crashed in unknown circumstances. Occupant fate unknown.                                                                                                                                                                                                                                                                                                                                                                                                                                                                                                                                                                                                                                                                                                                                                                                                                                                                                                                                                                                                                                                                                                                                                                                                                                                                                                                                                                                                                                                                                                                                                                                                                                                                                                                                                                                                                                                                                                                                                                                                                                                                                                                                                                                                                                                                                                                                                                                                                                                                                                                                                                                                                                                                                                                                                                                                                                                                                                                                                                                                                                                                                                                                                                                                                                                                                                                                                                                                                                                                                                                                                                                                                                                                                                                                                                                                                                                                                                                                                                                                                                                                                                                                                                                                                                                                                                                                                                                                                                                                                                                                       30\n",
      "                                                                                                                                                                                                                                                                                                                                                                                                                                                                                                                                                                                                                                                                                                                                                                                                                                                                                                                                                                                                                                                                                                                                                                                                                                                                                                                                                                                                                                                                                                                                                                                                                                                                                                                                                                                                                                                                                                                                                                                                                                                                                                                                                                                                                                                                                                                                                                                                                                                                                                                                                                                                                                                                                                                                                                                                                                                                                                                                                                                                                                                                                                                                                                                                                                                                                                                                                                                                                                                                                                                                                                                                                                                                                                                                                                                                                                                                                                                                                                                                                                                                                                                                                                                                                                                                                                                                                                                                                                                                                                                                                                                             ... \n",
      "The twin engine aircraft departed Menzelinsk for a local skydiving mission, carrying 20 skydivers and two pilots. During initial climb, the crew reported technical problems with the left engine and elected to return for an emergency landing. The aircraft lost height and eventually struck a concrete wall before coming to rest on a wood piles. Six passengers were rescued while 14 other occupants were killed.                                                                                                                                                                                                                                                                                                                                                                                                                                                                                                                                                                                                                                                                                                                                                                                                                                                                                                                                                                                                                                                                                                                                                                                                                                                                                                                                                                                                                                                                                                                                                                                                                                                                                                                                                                                                                                                                                                                                                                                                                                                                                                                                                                                                                                                                                                                                                                                                                                                                                                                                                                                                                                                                                                                                                                                                                                                                                                                                                                                                                                                                                                                                                                                                                                                                                                                                                                                                                                                                                                                                                                                                                                                                                                                                                                                                                                                                                                                                                                                                                                                                                                                                                                       1\n",
      "On October 11, 2021, at 1214 Pacific daylight time, a Cessna 340A, N7022G, was destroyed when it was involved in an accident near Santee, California. The pilot and one person on the ground were fatally injured, and 2 people on the ground sustained serious injuries. The airplane was operated as a Title 14 Code of Federal Regulations Part 91 personal flight. The flight departed from Yuma International Airport (NYL), Yuma, AZ at 1121 mountain daylight time and was destined for Montgomery-Gibbs Executive Airport (MYF), San Diego, California. Review of Federal Aviation Administration Southern California Terminal Radar Approach Control (TRACON) facilities and recorded Automatic Dependent Surveillance-Broadcast (ADS-B) data revealed that at 1203:58, the controller broadcasted a weather update for MYF and reported the visibility was 10 miles, ceiling 1,700 ft broken, overcast skies at 2,800 ft, and runway 23 was in use. At 1209:20, the controller issued instructions to the pilot to turn right to a 259° heading to join final, to which the pilot acknowledged while at an altitude of 3,900 ft mean sea level (msl). About 28 seconds later, the pilot queried the controller and asked if he was cleared for the ILS Runway 28R approach, with no response from the controller. At 1210:04, the controller told the pilot that he was 4 miles from PENNY intersection and instructed him to descend to 2,800 ft until established on the localizer, and cleared him for the ILS 28R approach, circle to land runway 23. The pilot partially read back the clearance, followed by the controller restating the approach clearance. The pilot acknowledged the clearance a second time. At this time, the ADS-B data showed the airplane on a westerly heading, at an altitude of 3,900 ft msl. Immediately following a traffic alert at 1211:19, the controller queried the pilot and stated that it looked like the airplane was drifting right of course and asked him if he was correcting. The pilot responded and stated “correcting, 22G.” About 9 seconds later, the pilot said [unintelligible], VFR 23, to which the controller told the pilot he was not tracking the localizer and canceled the approach clearance. The controller followed by issuing instructions to climb and maintain 3,000 ft, followed by the issuance of a low altitude alert, and stated that the minimum vectoring altitude in the area was 2,800 ft. The pilot acknowledged the controller’s instructions. At that time, ADS-B data showed the airplane on a northwesterly heading, at an altitude of 2,400 ft msl. At 1212:12, the controller instructed the pilot to climb and maintain 3,800, to which the pilot responded “3,800, 22G.” ADS-B data showed that the airplane was at 3,550 ft msl. About 9 seconds later, the controller issued the pilot instructions to turn right to 090° for vectors to final, to which the pilot responded “090 22G.” At 1212:54, the controller instructed the pilot to turn right to 090° and climb immediately and maintain 4,000 ft. The pilot replied shortly after and acknowledged the controller’s instructions. About 3 seconds after the pilot’s response, the controller told the pilot that it looked like he was descending and that he needed to make sure he was climbing, followed by an acknowledgment from the pilot. At 1213:35, the controller queried the pilot about his altitude, which the pilot responded 2,500 ft. The controller subsequently issued a low altitude alert and advised the pilot to expedite the climb to 5,000 ft. No further communication was received from the pilot despite multiple queries from the controller. ADS-B data showed that the airplane continued a right descending turn until the last recorded target, located about 1,333 ft northwest of the accident site at an altitude of 1,250 ft msl. Figure 1 provides an overview of the ADS-B flight track, select ATC communications, and the location of the destination and surrounding area airports. Examination of the accident site revealed that the airplane impacted a residential street on a heading of about 113° magnetic heading. The debris path, which consisted of various airplane, vehicle, and residential structure debris was about 475 ft long and 400 ft wide, oriented on a heading of about 132°. Numerous residential structures exhibited impact related damage and or fire damage. All major structural components of the airplane were located throughout the debris path.      1\n",
      "On October 14, 2021 at 1600 Pacific daylight time, a WSK Mielec AN-2TD, N857PF, was substantially damaged when it was involved in an accident near Wilton, California. The pilot and one passenger sustained serious injuries and the other two passengers sustained minor injuries. The airplane was operated as a Title 14 Code of Federal Regulations Part 91 personal flight. The pilot stated that he configured the airplane for takeoff and had flaps down and the elevator trim was neutral. The departure started normally and after becoming airborne, the airplane controls were not responding to his inputs as expected. The airplane continued to pitch up in a nose-high attitude and he was unable to push the control yoke forward which he described as feeling like he was “stretching” cables with forward pressure. The pilot set the electric trim to full nose-down and it made no effect. With the airplane’s pitch uncontrollable, he saw an open area and elected to make a rapid maneuver toward the area. He added full left rudder and aileron and the airplane banked left. The airplane descended into trees and after coming to a stop, a fire erupted. The back door would not open due the deformation of the airframe and the broke a front window. The pilot and passengers all climbed out the window and the airplane continued to burn. There were two witnesses located at the airport that took videos of the airplane departing. One video showed the airplane just prior to the takeoff roll. The tailwheel is positioned backward and as the airplane starts the roll, the tailwheel swivel and the airplane moves to the right of the runway. The airplane then veered to the left of the runway and became airborne shortly thereafter. In the approximate 10 seconds that followed, the airplane pitched up at an increasingly higher and higher angle-of-attack. The airplane then made a sharp left turn and goes behind the tress as it descends.                                                                                                                                                                                                                                                                                                                                                                                                                                                                                                                                                                                                                                                                                                                                                                                                                                                                                                                                                                                                                                                                                                                                                                                                                                                                                                                                                                                                                                                                                                                                                                                                                                                                                                                                                                                                                                                                                                                                                                                                                                                                                                                                                                                                                                                                                                                                                                                                                                                                                                                                                                                             1\n",
      "During the takeoff roll from runway 36 at Houston-Executive (Brookshire) Airport, the pilots rejected takeoff and the aircraft was unable to stop within the remaining distance. It overran, lost its undercarriage and came to rest 500 metres past the runway in an open field, bursting into flames. All 21 occupants evacuated safely, among them two were slightly injured. The aircraft was totally destroyed by a post crash fire. It was reported by the NTSB that the aircraft did not fly for a period of 10 months, that braking marks were found on a distance of 1,200 feet and that light smoke was coming out from both engines during the takeoff roll.                                                                                                                                                                                                                                                                                                                                                                                                                                                                                                                                                                                                                                                                                                                                                                                                                                                                                                                                                                                                                                                                                                                                                                                                                                                                                                                                                                                                                                                                                                                                                                                                                                                                                                                                                                                                                                                                                                                                                                                                                                                                                                                                                                                                                                                                                                                                                                                                                                                                                                                                                                                                                                                                                                                                                                                                                                                                                                                                                                                                                                                                                                                                                                                                                                                                                                                                                                                                                                                                                                                                                                                                                                                                                                                                                                                                                                                                                                                         1\n",
      "The single engine was completing local skydiving flights out from Oceanside Airport. On final approach to runway 25, the airplane apparently stalled and crashed against an embankment located about 400 metres short of runway. The pilot was seriously injured and the jumpmaster was killed.                                                                                                                                                                                                                                                                                                                                                                                                                                                                                                                                                                                                                                                                                                                                                                                                                                                                                                                                                                                                                                                                                                                                                                                                                                                                                                                                                                                                                                                                                                                                                                                                                                                                                                                                                                                                                                                                                                                                                                                                                                                                                                                                                                                                                                                                                                                                                                                                                                                                                                                                                                                                                                                                                                                                                                                                                                                                                                                                                                                                                                                                                                                                                                                                                                                                                                                                                                                                                                                                                                                                                                                                                                                                                                                                                                                                                                                                                                                                                                                                                                                                                                                                                                                                                                                                                                 1\n",
      "Name: count, Length: 27704, dtype: int64\n"
     ]
    }
   ],
   "source": [
    "# Print unique value counts in a column 'circumstances'\n",
    "print_value_counts(avioset, 'circumstances')"
   ]
  },
  {
   "cell_type": "markdown",
   "id": "6c3fe6f1",
   "metadata": {},
   "source": [
    "##### This column is not useful for our data analysis. It contains too many unique values. We'll drop it."
   ]
  },
  {
   "cell_type": "code",
   "execution_count": 65,
   "id": "09ca3f21",
   "metadata": {},
   "outputs": [
    {
     "name": "stdout",
     "output_type": "stream",
     "text": [
      "(28535, 19)\n",
      "Index(['aircraft', 'operator', 'flight_phase', 'flight_type', 'survivors',\n",
      "       'crash_site', 'crash_location', 'country', 'region', 'crew_on_board',\n",
      "       'crew_fatalities', 'pax_on_board', 'pax_fatalities', 'other_fatalities',\n",
      "       'total_fatalities', 'crash_cause', 'year', 'month', 'day'],\n",
      "      dtype='object')\n"
     ]
    }
   ],
   "source": [
    "avioset = drop_column('circumstances', avioset)\n",
    "\n",
    "print(avioset.shape)\n",
    "print(avioset.columns)"
   ]
  },
  {
   "cell_type": "markdown",
   "id": "46913e3e",
   "metadata": {},
   "source": [
    "<div style=\"background-color: #9df9ef; padding: 10px;\"></div>"
   ]
  },
  {
   "cell_type": "markdown",
   "id": "e0345656",
   "metadata": {},
   "source": [
    "##### Column 'crash_location' "
   ]
  },
  {
   "cell_type": "code",
   "execution_count": 66,
   "id": "aa045aa5",
   "metadata": {},
   "outputs": [
    {
     "name": "stdout",
     "output_type": "stream",
     "text": [
      "crash_location\n",
      "Atlantic Ocean All World       140\n",
      "Pacific Ocean All World        132\n",
      "Russia All Russia               69\n",
      "North Sea All World             64\n",
      "Mediterranean Sea All World     52\n",
      "                              ... \n",
      "Mt Nevado Illimani La Paz        1\n",
      "Lineynoye Astrakhan oblast       1\n",
      "Pontiac Michigan                 1\n",
      "Karege Pwani Region              1\n",
      "Shikha Dhawalagiri               1\n",
      "Name: count, Length: 14172, dtype: int64\n"
     ]
    },
    {
     "data": {
      "text/plain": [
       "12"
      ]
     },
     "execution_count": 66,
     "metadata": {},
     "output_type": "execute_result"
    }
   ],
   "source": [
    "# Print unique value counts in a column 'crash_location'\n",
    "print_value_counts(avioset, 'crash_location')\n",
    "avioset['crash_location'].isna().sum()"
   ]
  },
  {
   "cell_type": "markdown",
   "id": "1c821506",
   "metadata": {},
   "source": [
    "##### There are 12 NAN values only. We'll replace them with empty string."
   ]
  },
  {
   "cell_type": "code",
   "execution_count": 67,
   "id": "8d6e4c19",
   "metadata": {
    "scrolled": true
   },
   "outputs": [
    {
     "name": "stdout",
     "output_type": "stream",
     "text": [
      "crash_location\n",
      "Atlantic Ocean All World       140\n",
      "Pacific Ocean All World        132\n",
      "Russia All Russia               69\n",
      "North Sea All World             64\n",
      "Mediterranean Sea All World     52\n",
      "                              ... \n",
      "Mt Nevado Illimani La Paz        1\n",
      "Lineynoye Astrakhan oblast       1\n",
      "Pontiac Michigan                 1\n",
      "Karege Pwani Region              1\n",
      "Shikha Dhawalagiri               1\n",
      "Name: count, Length: 14172, dtype: int64\n",
      "Nan are 0\n",
      "Shape of avioset is (28535, 19)\n"
     ]
    }
   ],
   "source": [
    "# Replace with empty string\n",
    "avioset['crash_location'] = avioset['crash_location'].fillna(\"\")\n",
    "\n",
    "# Check\n",
    "print_value_counts(avioset, 'crash_location')\n",
    "print(f\"Nan are {avioset['crash_location'].isna().sum()}\")\n",
    "print(f\"Shape of avioset is {avioset.shape}\")"
   ]
  },
  {
   "cell_type": "markdown",
   "id": "7e1199c2",
   "metadata": {},
   "source": [
    "<div style=\"background-color: #9df9ef; padding: 10px;\"></div>"
   ]
  },
  {
   "cell_type": "markdown",
   "id": "e45ee25e",
   "metadata": {},
   "source": [
    "##### Column 'crash_cause' "
   ]
  },
  {
   "cell_type": "code",
   "execution_count": 68,
   "id": "ecb89711",
   "metadata": {},
   "outputs": [
    {
     "name": "stdout",
     "output_type": "stream",
     "text": [
      "crash_cause\n",
      "Human factor                          9926\n",
      "Unknown                               8988\n",
      "Technical failure                     6203\n",
      "Weather                               1528\n",
      "Terrorism act, Hijacking, Sabotage    1263\n",
      "Other causes                           627\n",
      "Name: count, dtype: int64\n"
     ]
    },
    {
     "data": {
      "text/plain": [
       "0"
      ]
     },
     "execution_count": 68,
     "metadata": {},
     "output_type": "execute_result"
    }
   ],
   "source": [
    "# Print unique value counts in a column 'crash_cause'\n",
    "print_value_counts(avioset, 'crash_cause')\n",
    "avioset['crash_cause'].isna().sum()"
   ]
  },
  {
   "cell_type": "markdown",
   "id": "6695c110",
   "metadata": {},
   "source": [
    "##### There aren't any nan values. It remains as is."
   ]
  },
  {
   "cell_type": "markdown",
   "id": "30e1dd15",
   "metadata": {},
   "source": [
    "<div style=\"background-color: #9df9ef; padding: 10px;\"></div>"
   ]
  },
  {
   "cell_type": "markdown",
   "id": "d6c73367",
   "metadata": {},
   "source": [
    "##### Column 'country' "
   ]
  },
  {
   "cell_type": "code",
   "execution_count": 69,
   "id": "d1fa3a6c",
   "metadata": {},
   "outputs": [
    {
     "name": "stdout",
     "output_type": "stream",
     "text": [
      "country\n",
      "United States of America    6804\n",
      "United Kingdom              2389\n",
      "Russia                      1505\n",
      "Canada                      1373\n",
      "France                       848\n",
      "                            ... \n",
      "Qatar                          1\n",
      "La Reunion                     1\n",
      "Ascension Island               1\n",
      "NaN                            1\n",
      "Antigua                        1\n",
      "Name: count, Length: 220, dtype: int64\n"
     ]
    },
    {
     "data": {
      "text/plain": [
       "1"
      ]
     },
     "execution_count": 69,
     "metadata": {},
     "output_type": "execute_result"
    }
   ],
   "source": [
    "# Print unique value counts in a column 'country'\n",
    "print_value_counts(avioset, 'country')\n",
    "avioset['country'].isna().sum()"
   ]
  },
  {
   "cell_type": "markdown",
   "id": "b35b9196",
   "metadata": {},
   "source": [
    "##### There is only 1 nan value. We'll delete this row."
   ]
  },
  {
   "cell_type": "code",
   "execution_count": 70,
   "id": "efe5b65b",
   "metadata": {},
   "outputs": [
    {
     "data": {
      "text/plain": [
       "(28534, 19)"
      ]
     },
     "execution_count": 70,
     "metadata": {},
     "output_type": "execute_result"
    }
   ],
   "source": [
    "avioset = del_nan_in_col(avioset, 'country')\n",
    "\n",
    "# Check\n",
    "avioset.shape"
   ]
  },
  {
   "cell_type": "markdown",
   "id": "f107d118",
   "metadata": {},
   "source": [
    "<div style=\"background-color: #9df9ef; padding: 10px;\"></div>"
   ]
  },
  {
   "cell_type": "markdown",
   "id": "359907b6",
   "metadata": {},
   "source": [
    "##### Column 'region' "
   ]
  },
  {
   "cell_type": "code",
   "execution_count": 71,
   "id": "a8cb8275",
   "metadata": {},
   "outputs": [
    {
     "name": "stdout",
     "output_type": "stream",
     "text": [
      "region\n",
      "North America      8192\n",
      "Europe             6694\n",
      "Asia               5702\n",
      "South America      2580\n",
      "Africa             2088\n",
      "Oceania            1311\n",
      "Central America    1310\n",
      "World               600\n",
      "Antarctica           57\n",
      "Name: count, dtype: int64\n"
     ]
    },
    {
     "data": {
      "text/plain": [
       "0"
      ]
     },
     "execution_count": 71,
     "metadata": {},
     "output_type": "execute_result"
    }
   ],
   "source": [
    "# Print unique value counts in a column 'region'\n",
    "print_value_counts(avioset, 'region')\n",
    "avioset['region'].isna().sum()"
   ]
  },
  {
   "cell_type": "markdown",
   "id": "14ecca27",
   "metadata": {},
   "source": [
    "##### There aren't any nan values. It remains as is."
   ]
  },
  {
   "cell_type": "markdown",
   "id": "4faa3f0c",
   "metadata": {},
   "source": [
    "<div style=\"background-color: #9df9ef; padding: 10px;\"></div>"
   ]
  },
  {
   "cell_type": "markdown",
   "id": "ac622d64",
   "metadata": {},
   "source": [
    "##### Column 'crew_on_board' "
   ]
  },
  {
   "cell_type": "code",
   "execution_count": 72,
   "id": "804408dd",
   "metadata": {
    "scrolled": true
   },
   "outputs": [
    {
     "name": "stdout",
     "output_type": "stream",
     "text": [
      "crew_on_board\n",
      "1924.0       1\n",
      "107.0        1\n",
      "48.0         1\n",
      "37.0         1\n",
      "25.0         1\n",
      "23.0         4\n",
      "22.0         5\n",
      "21.0         3\n",
      "20.0         8\n",
      "19.0        11\n",
      "18.0         8\n",
      "17.0        26\n",
      "16.0        29\n",
      "15.0        30\n",
      "14.0        79\n",
      "13.0        75\n",
      "12.0       176\n",
      "11.0       228\n",
      "10.0       376\n",
      "9.0        391\n",
      "8.0        657\n",
      "7.0        969\n",
      "6.0       1362\n",
      "5.0       1908\n",
      "4.0       2708\n",
      "3.0       3184\n",
      "2.0       5933\n",
      "1.0       6768\n",
      "0.0       3567\n",
      "NaN         24\n",
      "Name: count, dtype: int64\n"
     ]
    }
   ],
   "source": [
    "# Print unique value counts in a column 'crew_on_board'\n",
    "def print_value_counts_by_index(df, col):\n",
    "    value_counts = df[col].value_counts(dropna=False)\n",
    "    print(value_counts.sort_index(ascending=False))\n",
    "\n",
    "print_value_counts_by_index(avioset, 'crew_on_board')"
   ]
  },
  {
   "cell_type": "code",
   "execution_count": 73,
   "id": "4efddfb4",
   "metadata": {},
   "outputs": [
    {
     "data": {
      "text/plain": [
       "(28534, 19)"
      ]
     },
     "execution_count": 73,
     "metadata": {},
     "output_type": "execute_result"
    }
   ],
   "source": [
    "avioset.shape"
   ]
  },
  {
   "cell_type": "markdown",
   "id": "18498f0f",
   "metadata": {},
   "source": [
    "##### There are 24 nan out of 28534 ~ 0,08%. We'll drop them."
   ]
  },
  {
   "cell_type": "code",
   "execution_count": 74,
   "id": "e85b1cf2",
   "metadata": {},
   "outputs": [
    {
     "name": "stdout",
     "output_type": "stream",
     "text": [
      "crew_on_board\n",
      "1924.0       1\n",
      "107.0        1\n",
      "48.0         1\n",
      "37.0         1\n",
      "25.0         1\n",
      "23.0         4\n",
      "22.0         5\n",
      "21.0         3\n",
      "20.0         8\n",
      "19.0        11\n",
      "18.0         8\n",
      "17.0        26\n",
      "16.0        29\n",
      "15.0        30\n",
      "14.0        79\n",
      "13.0        75\n",
      "12.0       176\n",
      "11.0       228\n",
      "10.0       376\n",
      "9.0        391\n",
      "8.0        657\n",
      "7.0        969\n",
      "6.0       1362\n",
      "5.0       1908\n",
      "4.0       2708\n",
      "3.0       3184\n",
      "2.0       5933\n",
      "1.0       6768\n",
      "0.0       3567\n",
      "Name: count, dtype: int64\n",
      "Shape of avioset is (28510, 19)\n"
     ]
    }
   ],
   "source": [
    "# We'll keep a copy\n",
    "avioset_crew_copy = avioset.copy()\n",
    "\n",
    "# Drop nan values in column 'crew_on_board'\n",
    "avioset = avioset.dropna(subset=['crew_on_board'])\n",
    "\n",
    "# Check\n",
    "print_value_counts_by_index(avioset, 'crew_on_board')\n",
    "print(f\"Shape of avioset is {avioset.shape}\")"
   ]
  },
  {
   "cell_type": "markdown",
   "id": "6a18f4d2",
   "metadata": {},
   "source": [
    "##### There is a strange value of 1924. That's why let's take closer look to the the column values."
   ]
  },
  {
   "cell_type": "code",
   "execution_count": 75,
   "id": "31dedd15",
   "metadata": {},
   "outputs": [
    {
     "data": {
      "image/png": "[encoded data removed]",
      "text/plain": [
       "<Figure size 640x480 with 1 Axes>"
      ]
     },
     "metadata": {},
     "output_type": "display_data"
    }
   ],
   "source": [
    "# There are at least 2 outliers\n",
    "plt.boxplot(avioset.crew_on_board)\n",
    "plt.show()"
   ]
  },
  {
   "cell_type": "code",
   "execution_count": 76,
   "id": "34173e6b",
   "metadata": {},
   "outputs": [
    {
     "name": "stdout",
     "output_type": "stream",
     "text": [
      "3.0524026657313224\n"
     ]
    }
   ],
   "source": [
    "# Calculate mean values\n",
    "def calculate_mean(df, col):\n",
    "    return df[col].mean()\n",
    "\n",
    "print(calculate_mean(avioset, 'crew_on_board'))"
   ]
  },
  {
   "cell_type": "markdown",
   "id": "d772c57c",
   "metadata": {},
   "source": [
    "Mean value is ~ 3.05. That's why let's take a closer look to values 1924, 107, 48, 37, 25, 23, 22, 20, 19, 18"
   ]
  },
  {
   "cell_type": "code",
   "execution_count": 77,
   "id": "70b53260",
   "metadata": {},
   "outputs": [
    {
     "data": {
      "text/html": [
       "<div>\n",
       "<style scoped>\n",
       "    .dataframe tbody tr th:only-of-type {\n",
       "        vertical-align: middle;\n",
       "    }\n",
       "\n",
       "    .dataframe tbody tr th {\n",
       "        vertical-align: top;\n",
       "    }\n",
       "\n",
       "    .dataframe thead th {\n",
       "        text-align: right;\n",
       "    }\n",
       "</style>\n",
       "<table border=\"1\" class=\"dataframe\">\n",
       "  <thead>\n",
       "    <tr style=\"text-align: right;\">\n",
       "      <th></th>\n",
       "      <th>crew_on_board</th>\n",
       "      <th>aircraft</th>\n",
       "      <th>pax_on_board</th>\n",
       "    </tr>\n",
       "  </thead>\n",
       "  <tbody>\n",
       "    <tr>\n",
       "      <th>1947</th>\n",
       "      <td>1924.0</td>\n",
       "      <td>Focke-Wulf A.16</td>\n",
       "      <td>0.0</td>\n",
       "    </tr>\n",
       "  </tbody>\n",
       "</table>\n",
       "</div>"
      ],
      "text/plain": [
       "      crew_on_board         aircraft  pax_on_board\n",
       "1947         1924.0  Focke-Wulf A.16           0.0"
      ]
     },
     "execution_count": 77,
     "metadata": {},
     "output_type": "execute_result"
    }
   ],
   "source": [
    "# Let's see which aircraft can have 1924 crew\n",
    "avioset.loc[(avioset['crew_on_board'] == 1924.00), ['crew_on_board', 'aircraft', 'pax_on_board']]\n"
   ]
  },
  {
   "cell_type": "markdown",
   "id": "c962fa4d",
   "metadata": {},
   "source": [
    "In Wiki we found this:\n",
    "\n",
    "*\"The Focke-Wulf A.16 was a German three/four passenger light transport monoplane designed by Heinrich Focke and Georg Wulf and was the first design built by the newly formed Focke-Wulf company.\"*\n",
    "\n",
    "This means we have to delete this row."
   ]
  },
  {
   "cell_type": "code",
   "execution_count": 78,
   "id": "be02a125",
   "metadata": {},
   "outputs": [
    {
     "data": {
      "text/html": [
       "<div>\n",
       "<style scoped>\n",
       "    .dataframe tbody tr th:only-of-type {\n",
       "        vertical-align: middle;\n",
       "    }\n",
       "\n",
       "    .dataframe tbody tr th {\n",
       "        vertical-align: top;\n",
       "    }\n",
       "\n",
       "    .dataframe thead th {\n",
       "        text-align: right;\n",
       "    }\n",
       "</style>\n",
       "<table border=\"1\" class=\"dataframe\">\n",
       "  <thead>\n",
       "    <tr style=\"text-align: right;\">\n",
       "      <th></th>\n",
       "      <th>crew_on_board</th>\n",
       "      <th>aircraft</th>\n",
       "      <th>pax_on_board</th>\n",
       "    </tr>\n",
       "  </thead>\n",
       "  <tbody>\n",
       "    <tr>\n",
       "      <th>15396</th>\n",
       "      <td>107.0</td>\n",
       "      <td>Antonov AN-10</td>\n",
       "      <td>7.0</td>\n",
       "    </tr>\n",
       "  </tbody>\n",
       "</table>\n",
       "</div>"
      ],
      "text/plain": [
       "       crew_on_board       aircraft  pax_on_board\n",
       "15396          107.0  Antonov AN-10           7.0"
      ]
     },
     "execution_count": 78,
     "metadata": {},
     "output_type": "execute_result"
    }
   ],
   "source": [
    "# Let's see which aircraft can have 107 crew\n",
    "avioset.loc[(avioset['crew_on_board'] == 107.00), ['crew_on_board', 'aircraft', 'pax_on_board']]\n"
   ]
  },
  {
   "cell_type": "markdown",
   "id": "3b2cd11a",
   "metadata": {},
   "source": [
    "On Google we found:\n",
    "*The АN-10 is the first domestic passenger turboprop airplane for transportation of 100 passengers*\n",
    "\n",
    "This means we have to delete this row."
   ]
  },
  {
   "cell_type": "code",
   "execution_count": 79,
   "id": "ad3b62bb",
   "metadata": {},
   "outputs": [
    {
     "data": {
      "text/html": [
       "<div>\n",
       "<style scoped>\n",
       "    .dataframe tbody tr th:only-of-type {\n",
       "        vertical-align: middle;\n",
       "    }\n",
       "\n",
       "    .dataframe tbody tr th {\n",
       "        vertical-align: top;\n",
       "    }\n",
       "\n",
       "    .dataframe thead th {\n",
       "        text-align: right;\n",
       "    }\n",
       "</style>\n",
       "<table border=\"1\" class=\"dataframe\">\n",
       "  <thead>\n",
       "    <tr style=\"text-align: right;\">\n",
       "      <th></th>\n",
       "      <th>crew_on_board</th>\n",
       "      <th>aircraft</th>\n",
       "      <th>pax_on_board</th>\n",
       "    </tr>\n",
       "  </thead>\n",
       "  <tbody>\n",
       "    <tr>\n",
       "      <th>13319</th>\n",
       "      <td>48.0</td>\n",
       "      <td>Vickers Viscount</td>\n",
       "      <td>5.0</td>\n",
       "    </tr>\n",
       "  </tbody>\n",
       "</table>\n",
       "</div>"
      ],
      "text/plain": [
       "       crew_on_board          aircraft  pax_on_board\n",
       "13319           48.0  Vickers Viscount           5.0"
      ]
     },
     "execution_count": 79,
     "metadata": {},
     "output_type": "execute_result"
    }
   ],
   "source": [
    "# Let's see which aircraft can have 48 crew\n",
    "avioset.loc[(avioset['crew_on_board'] == 48.00), ['crew_on_board', 'aircraft', 'pax_on_board']]\n"
   ]
  },
  {
   "cell_type": "markdown",
   "id": "87758163",
   "metadata": {},
   "source": [
    "In Wiki we found this:\n",
    "\n",
    "*The Vickers Viscount is a British medium-range turboprop airliner first flown in 1948 by Vickers-Armstrongs. A design requirement from the Brabazon Committee, it entered service in 1953 and was the first turboprop-powered airliner.\n",
    "Crew: 2 pilots + cabin crew\n",
    "Capacity: 75 passengers\"*\n",
    "\n",
    "This means we have to delete this row too."
   ]
  },
  {
   "cell_type": "code",
   "execution_count": 80,
   "id": "be1e946d",
   "metadata": {},
   "outputs": [
    {
     "data": {
      "text/html": [
       "<div>\n",
       "<style scoped>\n",
       "    .dataframe tbody tr th:only-of-type {\n",
       "        vertical-align: middle;\n",
       "    }\n",
       "\n",
       "    .dataframe tbody tr th {\n",
       "        vertical-align: top;\n",
       "    }\n",
       "\n",
       "    .dataframe thead th {\n",
       "        text-align: right;\n",
       "    }\n",
       "</style>\n",
       "<table border=\"1\" class=\"dataframe\">\n",
       "  <thead>\n",
       "    <tr style=\"text-align: right;\">\n",
       "      <th></th>\n",
       "      <th>crew_on_board</th>\n",
       "      <th>aircraft</th>\n",
       "      <th>pax_on_board</th>\n",
       "    </tr>\n",
       "  </thead>\n",
       "  <tbody>\n",
       "    <tr>\n",
       "      <th>26130</th>\n",
       "      <td>37.0</td>\n",
       "      <td>Canadair RegionalJet CRJ-100</td>\n",
       "      <td>3.0</td>\n",
       "    </tr>\n",
       "  </tbody>\n",
       "</table>\n",
       "</div>"
      ],
      "text/plain": [
       "       crew_on_board                      aircraft  pax_on_board\n",
       "26130           37.0  Canadair RegionalJet CRJ-100           3.0"
      ]
     },
     "execution_count": 80,
     "metadata": {},
     "output_type": "execute_result"
    }
   ],
   "source": [
    "# Let's see which aircraft can have 37 crew\n",
    "avioset.loc[(avioset['crew_on_board'] == 37.00), ['crew_on_board', 'aircraft', 'pax_on_board']]"
   ]
  },
  {
   "cell_type": "markdown",
   "id": "7bb0e2c0",
   "metadata": {},
   "source": [
    "In Wiki we found this:\n",
    "\n",
    "*\"The Bombardier CRJ/Mitsubishi CRJ or CRJ Series (for Canadair Regional Jet) is a family of regional jets introduced in 1991 by Bombardier Aerospace.\n",
    "...CRJ100 – maximum of 50 passenger seats.*\n",
    "\n",
    "37 crew members for 3 passengers on board is too much.\n",
    "This means we have to delete this row too."
   ]
  },
  {
   "cell_type": "code",
   "execution_count": 81,
   "id": "5066b294",
   "metadata": {},
   "outputs": [
    {
     "data": {
      "text/html": [
       "<div>\n",
       "<style scoped>\n",
       "    .dataframe tbody tr th:only-of-type {\n",
       "        vertical-align: middle;\n",
       "    }\n",
       "\n",
       "    .dataframe tbody tr th {\n",
       "        vertical-align: top;\n",
       "    }\n",
       "\n",
       "    .dataframe thead th {\n",
       "        text-align: right;\n",
       "    }\n",
       "</style>\n",
       "<table border=\"1\" class=\"dataframe\">\n",
       "  <thead>\n",
       "    <tr style=\"text-align: right;\">\n",
       "      <th></th>\n",
       "      <th>crew_on_board</th>\n",
       "      <th>aircraft</th>\n",
       "      <th>pax_on_board</th>\n",
       "    </tr>\n",
       "  </thead>\n",
       "  <tbody>\n",
       "    <tr>\n",
       "      <th>17459</th>\n",
       "      <td>25.0</td>\n",
       "      <td>Douglas DC-8</td>\n",
       "      <td>48.0</td>\n",
       "    </tr>\n",
       "  </tbody>\n",
       "</table>\n",
       "</div>"
      ],
      "text/plain": [
       "       crew_on_board      aircraft  pax_on_board\n",
       "17459           25.0  Douglas DC-8          48.0"
      ]
     },
     "execution_count": 81,
     "metadata": {},
     "output_type": "execute_result"
    }
   ],
   "source": [
    "# Let's see which aircraft can have 25 crew\n",
    "avioset.loc[(avioset['crew_on_board'] == 25.00), ['crew_on_board', 'aircraft', 'pax_on_board']]"
   ]
  },
  {
   "cell_type": "markdown",
   "id": "feb4ac51",
   "metadata": {},
   "source": [
    "In Wiki we found this:\n",
    "\n",
    "\"The Douglas DC-8 (sometimes McDonnell Douglas DC-8) is an early long-range narrow-body jetliner designed and produced by the American Douglas Aircraft Company. Work began in 1952 towards the United States Air Force's (USAF) requirement for a jet-powered aerial refueling tanker.\n",
    "Cockpit crew: 3. Passengers 177.\n",
    "* \n",
    "\n",
    "25 crew members for 48 passengers on board is too much.\n",
    "This means we have to delete this row too."
   ]
  },
  {
   "cell_type": "code",
   "execution_count": 82,
   "id": "c08b22a8",
   "metadata": {},
   "outputs": [
    {
     "data": {
      "text/html": [
       "<div>\n",
       "<style scoped>\n",
       "    .dataframe tbody tr th:only-of-type {\n",
       "        vertical-align: middle;\n",
       "    }\n",
       "\n",
       "    .dataframe tbody tr th {\n",
       "        vertical-align: top;\n",
       "    }\n",
       "\n",
       "    .dataframe thead th {\n",
       "        text-align: right;\n",
       "    }\n",
       "</style>\n",
       "<table border=\"1\" class=\"dataframe\">\n",
       "  <thead>\n",
       "    <tr style=\"text-align: right;\">\n",
       "      <th></th>\n",
       "      <th>crew_on_board</th>\n",
       "      <th>aircraft</th>\n",
       "      <th>pax_on_board</th>\n",
       "    </tr>\n",
       "  </thead>\n",
       "  <tbody>\n",
       "    <tr>\n",
       "      <th>10609</th>\n",
       "      <td>23.0</td>\n",
       "      <td>Convair B-36 Peacemaker</td>\n",
       "      <td>0.0</td>\n",
       "    </tr>\n",
       "    <tr>\n",
       "      <th>17911</th>\n",
       "      <td>23.0</td>\n",
       "      <td>Boeing 747-200</td>\n",
       "      <td>190.0</td>\n",
       "    </tr>\n",
       "    <tr>\n",
       "      <th>19908</th>\n",
       "      <td>23.0</td>\n",
       "      <td>Boeing 747-200</td>\n",
       "      <td>246.0</td>\n",
       "    </tr>\n",
       "    <tr>\n",
       "      <th>23752</th>\n",
       "      <td>23.0</td>\n",
       "      <td>Boeing 747-100</td>\n",
       "      <td>289.0</td>\n",
       "    </tr>\n",
       "  </tbody>\n",
       "</table>\n",
       "</div>"
      ],
      "text/plain": [
       "       crew_on_board                 aircraft  pax_on_board\n",
       "10609           23.0  Convair B-36 Peacemaker           0.0\n",
       "17911           23.0           Boeing 747-200         190.0\n",
       "19908           23.0           Boeing 747-200         246.0\n",
       "23752           23.0           Boeing 747-100         289.0"
      ]
     },
     "execution_count": 82,
     "metadata": {},
     "output_type": "execute_result"
    }
   ],
   "source": [
    "# Let's see which aircraft can have 23 crew\n",
    "avioset.loc[(avioset['crew_on_board'] == 23.00), ['crew_on_board', 'aircraft', 'pax_on_board']]"
   ]
  },
  {
   "cell_type": "code",
   "execution_count": 83,
   "id": "cb5e571e",
   "metadata": {},
   "outputs": [
    {
     "data": {
      "text/html": [
       "<div>\n",
       "<style scoped>\n",
       "    .dataframe tbody tr th:only-of-type {\n",
       "        vertical-align: middle;\n",
       "    }\n",
       "\n",
       "    .dataframe tbody tr th {\n",
       "        vertical-align: top;\n",
       "    }\n",
       "\n",
       "    .dataframe thead th {\n",
       "        text-align: right;\n",
       "    }\n",
       "</style>\n",
       "<table border=\"1\" class=\"dataframe\">\n",
       "  <thead>\n",
       "    <tr style=\"text-align: right;\">\n",
       "      <th></th>\n",
       "      <th>crew_on_board</th>\n",
       "      <th>aircraft</th>\n",
       "      <th>pax_on_board</th>\n",
       "    </tr>\n",
       "  </thead>\n",
       "  <tbody>\n",
       "    <tr>\n",
       "      <th>10462</th>\n",
       "      <td>22.0</td>\n",
       "      <td>Convair B-36 Peacemaker</td>\n",
       "      <td>0.0</td>\n",
       "    </tr>\n",
       "    <tr>\n",
       "      <th>20415</th>\n",
       "      <td>22.0</td>\n",
       "      <td>Boeing 747-200</td>\n",
       "      <td>307.0</td>\n",
       "    </tr>\n",
       "    <tr>\n",
       "      <th>20671</th>\n",
       "      <td>22.0</td>\n",
       "      <td>Lockheed L-1011 TriStar</td>\n",
       "      <td>128.0</td>\n",
       "    </tr>\n",
       "    <tr>\n",
       "      <th>22919</th>\n",
       "      <td>22.0</td>\n",
       "      <td>Boeing 747-400</td>\n",
       "      <td>274.0</td>\n",
       "    </tr>\n",
       "    <tr>\n",
       "      <th>26748</th>\n",
       "      <td>22.0</td>\n",
       "      <td>Boeing 747-300</td>\n",
       "      <td>0.0</td>\n",
       "    </tr>\n",
       "  </tbody>\n",
       "</table>\n",
       "</div>"
      ],
      "text/plain": [
       "       crew_on_board                 aircraft  pax_on_board\n",
       "10462           22.0  Convair B-36 Peacemaker           0.0\n",
       "20415           22.0           Boeing 747-200         307.0\n",
       "20671           22.0  Lockheed L-1011 TriStar         128.0\n",
       "22919           22.0           Boeing 747-400         274.0\n",
       "26748           22.0           Boeing 747-300           0.0"
      ]
     },
     "execution_count": 83,
     "metadata": {},
     "output_type": "execute_result"
    }
   ],
   "source": [
    "# Let's see which aircraft can have 22 crew\n",
    "avioset.loc[(avioset['crew_on_board'] == 22.00), ['crew_on_board', 'aircraft', 'pax_on_board']]"
   ]
  },
  {
   "cell_type": "markdown",
   "id": "467fb872",
   "metadata": {},
   "source": [
    "*\"The Boeing 747-200 is a four-engined long-range widebody airliner with a capacity of maximum 480 passengers\"*\n",
    "\n",
    "So we'll stop here."
   ]
  },
  {
   "cell_type": "code",
   "execution_count": 84,
   "id": "315bfc10",
   "metadata": {},
   "outputs": [
    {
     "name": "stdout",
     "output_type": "stream",
     "text": [
      "Shape before (28510, 19)\n",
      "Shape after (28505, 19)\n"
     ]
    }
   ],
   "source": [
    "# Check - Shape before filter\n",
    "print(f\"Shape before {avioset.shape}\")\n",
    "\n",
    "# Let's take only rows for crew_on_board which are less than 25.\n",
    "avioset = avioset[(avioset['crew_on_board'] < 25)]\n",
    "\n",
    "# Check - Shape before filter\n",
    "print(f\"Shape after {avioset.shape}\")"
   ]
  },
  {
   "cell_type": "markdown",
   "id": "6065819b",
   "metadata": {},
   "source": [
    "<div style=\"background-color: #9df9ef; padding: 10px;\"></div>"
   ]
  },
  {
   "cell_type": "markdown",
   "id": "4d0fe090",
   "metadata": {},
   "source": [
    "##### Column 'crew_fatalities' "
   ]
  },
  {
   "cell_type": "code",
   "execution_count": 85,
   "id": "076708a5",
   "metadata": {
    "scrolled": true
   },
   "outputs": [
    {
     "name": "stdout",
     "output_type": "stream",
     "text": [
      "crew_fatalities\n",
      "23.0        3\n",
      "22.0        1\n",
      "21.0        3\n",
      "20.0        1\n",
      "19.0        6\n",
      "18.0        3\n",
      "17.0        8\n",
      "16.0       11\n",
      "15.0       14\n",
      "14.0       37\n",
      "13.0       40\n",
      "12.0       99\n",
      "11.0      116\n",
      "10.0      208\n",
      "9.0       263\n",
      "8.0       385\n",
      "7.0       553\n",
      "6.0       753\n",
      "5.0      1135\n",
      "4.0      1657\n",
      "3.0      1975\n",
      "2.0      3494\n",
      "1.0      5020\n",
      "0.0     12719\n",
      "NaN         1\n",
      "Name: count, dtype: int64\n"
     ]
    }
   ],
   "source": [
    "# Print unique value counts in a column 'crew_fatalities'\n",
    "def print_value_counts_by_index(df, col):\n",
    "    value_counts = df[col].value_counts(dropna=False)\n",
    "    print(value_counts.sort_index(ascending=False))\n",
    "\n",
    "print_value_counts_by_index(avioset, 'crew_fatalities')"
   ]
  },
  {
   "cell_type": "markdown",
   "id": "0c897731",
   "metadata": {},
   "source": [
    "##### There is only 1 nan value. We'll delete this row."
   ]
  },
  {
   "cell_type": "code",
   "execution_count": 86,
   "id": "40fcabb3",
   "metadata": {},
   "outputs": [
    {
     "name": "stdout",
     "output_type": "stream",
     "text": [
      "Shape before (28505, 19)\n",
      "Shape after (28504, 19)\n"
     ]
    }
   ],
   "source": [
    "# Check\n",
    "print(f\"Shape before {avioset.shape}\")\n",
    "\n",
    "# Delete\n",
    "avioset = del_nan_in_col(avioset, 'crew_fatalities')\n",
    "\n",
    "# Check\n",
    "print(f\"Shape after {avioset.shape}\")"
   ]
  },
  {
   "cell_type": "markdown",
   "id": "4a65fed5",
   "metadata": {},
   "source": [
    "<div style=\"background-color: #9df9ef; padding: 10px;\"></div>"
   ]
  },
  {
   "cell_type": "markdown",
   "id": "45156aa0",
   "metadata": {},
   "source": [
    "##### Column 'total_fatalities' "
   ]
  },
  {
   "cell_type": "code",
   "execution_count": 87,
   "id": "719e021f",
   "metadata": {
    "scrolled": true
   },
   "outputs": [
    {
     "name": "stdout",
     "output_type": "stream",
     "text": [
      "total_fatalities\n",
      "520        1\n",
      "346        1\n",
      "335        1\n",
      "329        1\n",
      "312        1\n",
      "       ...  \n",
      "4       1631\n",
      "3       1881\n",
      "2       2716\n",
      "1       2956\n",
      "0      11824\n",
      "Name: count, Length: 201, dtype: int64\n"
     ]
    }
   ],
   "source": [
    "# Print unique value counts in a column 'total_fatalities'\n",
    "def print_value_counts_by_index(df, col):\n",
    "    value_counts = df[col].value_counts(dropna=False)\n",
    "    print(value_counts.sort_index(ascending=False))\n",
    "\n",
    "print_value_counts_by_index(avioset, 'total_fatalities')"
   ]
  },
  {
   "cell_type": "code",
   "execution_count": 88,
   "id": "2fe198cd",
   "metadata": {},
   "outputs": [
    {
     "data": {
      "text/plain": [
       "0"
      ]
     },
     "execution_count": 88,
     "metadata": {},
     "output_type": "execute_result"
    }
   ],
   "source": [
    "avioset['total_fatalities'].isna().sum()"
   ]
  },
  {
   "cell_type": "markdown",
   "id": "118bbe4c",
   "metadata": {},
   "source": [
    "##### No nan values. The column remain as is."
   ]
  },
  {
   "cell_type": "markdown",
   "id": "81b29e44",
   "metadata": {},
   "source": [
    "<div style=\"background-color: #9df9ef; padding: 10px;\"></div>"
   ]
  },
  {
   "cell_type": "markdown",
   "id": "97e6d82d",
   "metadata": {},
   "source": [
    "##### Column 'other_fatalities' "
   ]
  },
  {
   "cell_type": "code",
   "execution_count": 89,
   "id": "78de8cbe",
   "metadata": {
    "scrolled": true
   },
   "outputs": [
    {
     "name": "stdout",
     "output_type": "stream",
     "text": [
      "other_fatalities\n",
      "297.0        1\n",
      "180.0        1\n",
      "110.0        1\n",
      "107.0        1\n",
      "78.0         1\n",
      "71.0         1\n",
      "58.0         1\n",
      "54.0         1\n",
      "49.0         3\n",
      "45.0         2\n",
      "44.0         1\n",
      "43.0         1\n",
      "38.0         1\n",
      "37.0         1\n",
      "36.0         1\n",
      "35.0         1\n",
      "33.0         1\n",
      "30.0         1\n",
      "28.0         1\n",
      "27.0         1\n",
      "25.0         1\n",
      "24.0         2\n",
      "23.0         3\n",
      "22.0         2\n",
      "20.0         1\n",
      "19.0         1\n",
      "18.0         1\n",
      "17.0         1\n",
      "16.0         1\n",
      "15.0         2\n",
      "14.0         3\n",
      "13.0         6\n",
      "12.0         4\n",
      "11.0         6\n",
      "10.0        10\n",
      "9.0          4\n",
      "8.0         10\n",
      "7.0         14\n",
      "6.0         18\n",
      "5.0         18\n",
      "4.0         28\n",
      "3.0         51\n",
      "2.0         60\n",
      "1.0        151\n",
      "0.0      28073\n",
      "NaN         10\n",
      "Name: count, dtype: int64\n"
     ]
    }
   ],
   "source": [
    "# Print unique value counts in a column 'other_fatalities'\n",
    "def print_value_counts_by_index(df, col):\n",
    "    value_counts = df[col].value_counts(dropna=False)\n",
    "    print(value_counts.sort_index(ascending=False))\n",
    "\n",
    "print_value_counts_by_index(avioset, 'other_fatalities')"
   ]
  },
  {
   "cell_type": "markdown",
   "id": "009e6f28",
   "metadata": {},
   "source": [
    "##### There are 10 nan out of 28504 ~ 0,04%. We'll drop them."
   ]
  },
  {
   "cell_type": "code",
   "execution_count": 90,
   "id": "77fdc5e8",
   "metadata": {},
   "outputs": [
    {
     "name": "stdout",
     "output_type": "stream",
     "text": [
      "Shape before (28504, 19)\n",
      "Shape after (28494, 19)\n"
     ]
    }
   ],
   "source": [
    "# Check\n",
    "print(f\"Shape before {avioset.shape}\")\n",
    "\n",
    "# Delete\n",
    "avioset = del_nan_in_col(avioset, 'other_fatalities')\n",
    "\n",
    "# Check\n",
    "print(f\"Shape after {avioset.shape}\")"
   ]
  },
  {
   "cell_type": "markdown",
   "id": "faf95850",
   "metadata": {},
   "source": [
    "<div style=\"background-color: #9df9ef; padding: 10px;\"></div>"
   ]
  },
  {
   "cell_type": "markdown",
   "id": "fa7b8908",
   "metadata": {},
   "source": [
    "##### Column 'pax_fatalities' "
   ]
  },
  {
   "cell_type": "code",
   "execution_count": 91,
   "id": "07305f30",
   "metadata": {
    "scrolled": true
   },
   "outputs": [
    {
     "name": "stdout",
     "output_type": "stream",
     "text": [
      "pax_fatalities\n",
      "506.0        1\n",
      "334.0        1\n",
      "326.0        1\n",
      "307.0        1\n",
      "289.0        1\n",
      "         ...  \n",
      "4.0        632\n",
      "3.0        748\n",
      "2.0       1041\n",
      "1.0       1657\n",
      "0.0      20539\n",
      "Name: count, Length: 187, dtype: int64\n"
     ]
    }
   ],
   "source": [
    "# Print unique value counts in a column 'pax_fatalities'\n",
    "def print_value_counts_by_index(df, col):\n",
    "    value_counts = df[col].value_counts(dropna=False)\n",
    "    print(value_counts.sort_index(ascending=False))\n",
    "\n",
    "print_value_counts_by_index(avioset, 'pax_fatalities')"
   ]
  },
  {
   "cell_type": "code",
   "execution_count": 92,
   "id": "7b338822",
   "metadata": {},
   "outputs": [
    {
     "data": {
      "text/plain": [
       "0"
      ]
     },
     "execution_count": 92,
     "metadata": {},
     "output_type": "execute_result"
    }
   ],
   "source": [
    "avioset['pax_fatalities'].isna().sum()"
   ]
  },
  {
   "cell_type": "markdown",
   "id": "e76d0d7a",
   "metadata": {},
   "source": [
    "##### No nan values. The column remain as is."
   ]
  },
  {
   "cell_type": "code",
   "execution_count": null,
   "id": "80e97402",
   "metadata": {},
   "outputs": [],
   "source": []
  },
  {
   "cell_type": "code",
   "execution_count": null,
   "id": "4a3b6c52",
   "metadata": {},
   "outputs": [],
   "source": []
  },
  {
   "cell_type": "code",
   "execution_count": null,
   "id": "b8f358a6",
   "metadata": {},
   "outputs": [],
   "source": []
  },
  {
   "cell_type": "code",
   "execution_count": null,
   "id": "c215533d",
   "metadata": {},
   "outputs": [],
   "source": []
  },
  {
   "cell_type": "code",
   "execution_count": null,
   "id": "135fbee1",
   "metadata": {},
   "outputs": [],
   "source": []
  },
  {
   "cell_type": "code",
   "execution_count": null,
   "id": "391ce83a",
   "metadata": {},
   "outputs": [],
   "source": []
  },
  {
   "cell_type": "code",
   "execution_count": null,
   "id": "c87b7458",
   "metadata": {},
   "outputs": [],
   "source": []
  },
  {
   "cell_type": "code",
   "execution_count": null,
   "id": "92d5ea43",
   "metadata": {},
   "outputs": [],
   "source": []
  },
  {
   "cell_type": "code",
   "execution_count": null,
   "id": "35c96161",
   "metadata": {},
   "outputs": [],
   "source": []
  },
  {
   "cell_type": "markdown",
   "id": "4a0e15a8",
   "metadata": {},
   "source": [
    "TODO\n",
    "##### Columns 'crew_on_board', 'crew_fatalities', 'pax_on_board', 'pax_fatalities', 'other_fatalities', 'total_fatalities'"
   ]
  },
  {
   "cell_type": "code",
   "execution_count": 93,
   "id": "3deda7f5",
   "metadata": {},
   "outputs": [
    {
     "data": {
      "text/plain": [
       "array([[<Axes: title={'center': 'crew_on_board'}>,\n",
       "        <Axes: title={'center': 'crew_fatalities'}>,\n",
       "        <Axes: title={'center': 'pax_on_board'}>],\n",
       "       [<Axes: title={'center': 'pax_fatalities'}>,\n",
       "        <Axes: title={'center': 'other_fatalities'}>,\n",
       "        <Axes: title={'center': 'total_fatalities'}>],\n",
       "       [<Axes: title={'center': 'year'}>,\n",
       "        <Axes: title={'center': 'month'}>,\n",
       "        <Axes: title={'center': 'day'}>]], dtype=object)"
      ]
     },
     "execution_count": 93,
     "metadata": {},
     "output_type": "execute_result"
    },
    {
     "data": {
      "image/png": "[encoded data removed]",
      "text/plain": [
       "<Figure size 2000x1000 with 9 Axes>"
      ]
     },
     "metadata": {},
     "output_type": "display_data"
    }
   ],
   "source": [
    "avioset.hist(figsize=(20,10), bins=60)"
   ]
  },
  {
   "cell_type": "markdown",
   "id": "e627f346",
   "metadata": {},
   "source": [
    "<div style=\"background-color: #9df9ef; padding: 10px;\"></div>"
   ]
  },
  {
   "cell_type": "markdown",
   "id": "5053a813",
   "metadata": {},
   "source": [
    "## III. Analyzes, visualizations <a id=\"visualizations\"></a> "
   ]
  },
  {
   "cell_type": "code",
   "execution_count": null,
   "id": "bfbd3ca6",
   "metadata": {},
   "outputs": [],
   "source": []
  },
  {
   "cell_type": "code",
   "execution_count": null,
   "id": "8c8a2e1b",
   "metadata": {},
   "outputs": [],
   "source": []
  },
  {
   "cell_type": "code",
   "execution_count": null,
   "id": "0b5ee433",
   "metadata": {},
   "outputs": [],
   "source": []
  },
  {
   "cell_type": "code",
   "execution_count": null,
   "id": "72644ad6",
   "metadata": {},
   "outputs": [],
   "source": []
  },
  {
   "cell_type": "code",
   "execution_count": null,
   "id": "e4350a24",
   "metadata": {},
   "outputs": [],
   "source": []
  },
  {
   "cell_type": "markdown",
   "id": "321a725f",
   "metadata": {},
   "source": [
    "TODO:\n",
    "Interesting visualizations as facts"
   ]
  },
  {
   "cell_type": "markdown",
   "id": "ed580c89",
   "metadata": {},
   "source": [
    "[Return to Table of Contents](#toc)"
   ]
  },
  {
   "cell_type": "code",
   "execution_count": null,
   "id": "7f766f3d",
   "metadata": {},
   "outputs": [],
   "source": []
  }
 ],
 "metadata": {
  "kernelspec": {
   "display_name": "Python 3 (ipykernel)",
   "language": "python",
   "name": "python3"
  },
  "language_info": {
   "codemirror_mode": {
    "name": "ipython",
    "version": 3
   },
   "file_extension": ".py",
   "mimetype": "text/x-python",
   "name": "python",
   "nbconvert_exporter": "python",
   "pygments_lexer": "ipython3",
   "version": "3.11.7"
  }
 },
 "nbformat": 4,
 "nbformat_minor": 5
}
