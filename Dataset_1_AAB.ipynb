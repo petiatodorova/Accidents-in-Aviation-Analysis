{
 "cells": [
  {
   "cell_type": "code",
   "execution_count": 1,
   "id": "8674124b",
   "metadata": {},
   "outputs": [],
   "source": [
    "%matplotlib inline\n",
    "import numpy as np\n",
    "import pandas as pd\n",
    "import matplotlib.pyplot as plt\n",
    "import re\n",
    "from dateutil.parser import parse\n",
    "from datetime import datetime\n",
    "import seaborn as sns\n",
    "import pycountry_convert as pc"
   ]
  },
  {
   "cell_type": "markdown",
   "id": "b0493ba7",
   "metadata": {},
   "source": [
    "# Aviation accidents analysis"
   ]
  },
  {
   "cell_type": "markdown",
   "id": "786e1cdf",
   "metadata": {},
   "source": [
    "In this project we will analyze the reasons why accidents happen in aviation.\n",
    "An aviation accident is an incident in which an aircraft is damaged or destroyed as a result of a collision, fire, structural failure, or other event. Aviation accidents can be caused by a variety of factors, including mechanical failure, pilot error, adverse weather conditions, and sabotage. Aviation accidents can result in fatalities, injuries, and damage to property."
   ]
  },
  {
   "cell_type": "markdown",
   "id": "642f7983",
   "metadata": {},
   "source": [
    "## I. Datasets"
   ]
  },
  {
   "cell_type": "markdown",
   "id": "b9e8f9fa",
   "metadata": {},
   "source": [
    "We'll use 2 datasets from Kaggle:\n",
    "### Dataset 1. Historical Plane Crash Data\n",
    "This dataset contains all of the plane crashes that happened throughout history. Data are extracted using web scraping methods in R and preprocessed to create an organized and informative dataset.\n",
    "All data are collected from Ronan Hubert: [Aviation Accident Bureau Archive]\n",
    "(https://www.baaa-acro.com/)\n",
    "This is the dataset [here]:(https://www.kaggle.com/datasets/abeperez/historical-plane-crash-data)"
   ]
  },
  {
   "cell_type": "markdown",
   "id": "f028d2bc",
   "metadata": {},
   "source": [
    "### Dataset 2. Aviation Accident Database & Synopses, up to 2023"
   ]
  },
  {
   "cell_type": "markdown",
   "id": "386c6e36",
   "metadata": {},
   "source": [
    "The dataset is [here](https://www.kaggle.com/datasets/khsamaha/aviation-accident-database-synopses)\n",
    "The NTSB aviation accident database [here](https://www.ntsb.gov/Pages/home.aspx) contains information from 1962 and later about civil aviation accidents and selected incidents within the United States, its territories and possessions, and in international waters."
   ]
  },
  {
   "cell_type": "markdown",
   "id": "d88f683b",
   "metadata": {},
   "source": [
    "## II. Reading, analyzing the datasets"
   ]
  },
  {
   "cell_type": "markdown",
   "id": "a0b287bd",
   "metadata": {},
   "source": [
    "# Dataset 1 - Historical Plane Crash Data \n",
    "This dataset contains all of the plane crashes that happened throughout history. Data are extracted using web scraping methods in R and preprocessed to create an organized and informative dataset.\n",
    "All data are collected from Ronan Hubert: [Aviation Accident Bureau Archive]\n",
    "(https://www.baaa-acro.com/)\n",
    "This is the dataset [here]:(https://www.kaggle.com/datasets/abeperez/historical-plane-crash-data)"
   ]
  },
  {
   "cell_type": "markdown",
   "id": "22b8981e",
   "metadata": {},
   "source": [
    "### 2.1. Reading"
   ]
  },
  {
   "cell_type": "code",
   "execution_count": 2,
   "id": "deda46b3",
   "metadata": {},
   "outputs": [],
   "source": [
    "avioset_aab = pd.read_csv('data/dataset_1_accident_bureau/Plane Crashes.csv')"
   ]
  },
  {
   "cell_type": "code",
   "execution_count": 3,
   "id": "6395b3e2",
   "metadata": {},
   "outputs": [
    {
     "name": "stdout",
     "output_type": "stream",
     "text": [
      "(28536, 24)\n"
     ]
    },
    {
     "data": {
      "text/html": [
       "<div>\n",
       "<style scoped>\n",
       "    .dataframe tbody tr th:only-of-type {\n",
       "        vertical-align: middle;\n",
       "    }\n",
       "\n",
       "    .dataframe tbody tr th {\n",
       "        vertical-align: top;\n",
       "    }\n",
       "\n",
       "    .dataframe thead th {\n",
       "        text-align: right;\n",
       "    }\n",
       "</style>\n",
       "<table border=\"1\" class=\"dataframe\">\n",
       "  <thead>\n",
       "    <tr style=\"text-align: right;\">\n",
       "      <th></th>\n",
       "      <th>Date</th>\n",
       "      <th>Time</th>\n",
       "      <th>Aircraft</th>\n",
       "      <th>Operator</th>\n",
       "      <th>Registration</th>\n",
       "      <th>Flight phase</th>\n",
       "      <th>Flight type</th>\n",
       "      <th>Survivors</th>\n",
       "      <th>Crash site</th>\n",
       "      <th>Schedule</th>\n",
       "      <th>...</th>\n",
       "      <th>Country</th>\n",
       "      <th>Region</th>\n",
       "      <th>Crew on board</th>\n",
       "      <th>Crew fatalities</th>\n",
       "      <th>Pax on board</th>\n",
       "      <th>PAX fatalities</th>\n",
       "      <th>Other fatalities</th>\n",
       "      <th>Total fatalities</th>\n",
       "      <th>Circumstances</th>\n",
       "      <th>Crash cause</th>\n",
       "    </tr>\n",
       "  </thead>\n",
       "  <tbody>\n",
       "    <tr>\n",
       "      <th>0</th>\n",
       "      <td>1918-05-02</td>\n",
       "      <td>NaN</td>\n",
       "      <td>De Havilland DH.4</td>\n",
       "      <td>United States Signal Corps - USSC</td>\n",
       "      <td>AS-32084</td>\n",
       "      <td>Takeoff (climb)</td>\n",
       "      <td>Test</td>\n",
       "      <td>No</td>\n",
       "      <td>Airport (less than 10 km from airport)</td>\n",
       "      <td>Dayton - Dayton</td>\n",
       "      <td>...</td>\n",
       "      <td>United States of America</td>\n",
       "      <td>North America</td>\n",
       "      <td>2.0</td>\n",
       "      <td>2.0</td>\n",
       "      <td>0.0</td>\n",
       "      <td>0.0</td>\n",
       "      <td>0.0</td>\n",
       "      <td>2</td>\n",
       "      <td>The single engine airplane departed Dayton-McC...</td>\n",
       "      <td>Technical failure</td>\n",
       "    </tr>\n",
       "    <tr>\n",
       "      <th>1</th>\n",
       "      <td>1918-06-08</td>\n",
       "      <td>NaN</td>\n",
       "      <td>Handley Page V/1500</td>\n",
       "      <td>Handley Page Aircraft Company Ltd</td>\n",
       "      <td>E4104</td>\n",
       "      <td>Takeoff (climb)</td>\n",
       "      <td>Test</td>\n",
       "      <td>Yes</td>\n",
       "      <td>Airport (less than 10 km from airport)</td>\n",
       "      <td>Cricklewood - Cricklewood</td>\n",
       "      <td>...</td>\n",
       "      <td>United Kingdom</td>\n",
       "      <td>Europe</td>\n",
       "      <td>6.0</td>\n",
       "      <td>5.0</td>\n",
       "      <td>0.0</td>\n",
       "      <td>0.0</td>\n",
       "      <td>0.0</td>\n",
       "      <td>5</td>\n",
       "      <td>Assembled at Cricklewood Airfield in May 1918,...</td>\n",
       "      <td>Technical failure</td>\n",
       "    </tr>\n",
       "    <tr>\n",
       "      <th>2</th>\n",
       "      <td>1918-06-11</td>\n",
       "      <td>NaN</td>\n",
       "      <td>Avro 504</td>\n",
       "      <td>Royal Air Force - RAF</td>\n",
       "      <td>A8544</td>\n",
       "      <td>Flight</td>\n",
       "      <td>Training</td>\n",
       "      <td>Yes</td>\n",
       "      <td>Plain, Valley</td>\n",
       "      <td>Abukir - Abukir</td>\n",
       "      <td>...</td>\n",
       "      <td>Egypt</td>\n",
       "      <td>Africa</td>\n",
       "      <td>2.0</td>\n",
       "      <td>1.0</td>\n",
       "      <td>0.0</td>\n",
       "      <td>0.0</td>\n",
       "      <td>0.0</td>\n",
       "      <td>1</td>\n",
       "      <td>The single engine aircraft was completing a lo...</td>\n",
       "      <td>Unknown</td>\n",
       "    </tr>\n",
       "    <tr>\n",
       "      <th>3</th>\n",
       "      <td>1918-06-19</td>\n",
       "      <td>NaN</td>\n",
       "      <td>De Havilland DH.4</td>\n",
       "      <td>United States Signal Corps - USSC</td>\n",
       "      <td>AS-32098</td>\n",
       "      <td>Flight</td>\n",
       "      <td>Military</td>\n",
       "      <td>No</td>\n",
       "      <td>Airport (less than 10 km from airport)</td>\n",
       "      <td>Wright Patterson AFB-Wright Patterson AFB</td>\n",
       "      <td>...</td>\n",
       "      <td>United States of America</td>\n",
       "      <td>North America</td>\n",
       "      <td>1.0</td>\n",
       "      <td>1.0</td>\n",
       "      <td>0.0</td>\n",
       "      <td>0.0</td>\n",
       "      <td>0.0</td>\n",
       "      <td>1</td>\n",
       "      <td>Lt. Frank Stuart Patterson, son and nephew of ...</td>\n",
       "      <td>Technical failure</td>\n",
       "    </tr>\n",
       "    <tr>\n",
       "      <th>4</th>\n",
       "      <td>1918-06-24</td>\n",
       "      <td>NaN</td>\n",
       "      <td>Breguet 14</td>\n",
       "      <td>French Air Force - Armée de l'Air</td>\n",
       "      <td>AS-4130</td>\n",
       "      <td>Landing (descent or approach)</td>\n",
       "      <td>Military</td>\n",
       "      <td>Yes</td>\n",
       "      <td>NaN</td>\n",
       "      <td>NaN</td>\n",
       "      <td>...</td>\n",
       "      <td>France</td>\n",
       "      <td>Europe</td>\n",
       "      <td>NaN</td>\n",
       "      <td>0.0</td>\n",
       "      <td>NaN</td>\n",
       "      <td>0.0</td>\n",
       "      <td>0.0</td>\n",
       "      <td>0</td>\n",
       "      <td>The aircraft crashed iupon landing somewhere i...</td>\n",
       "      <td>Unknown</td>\n",
       "    </tr>\n",
       "  </tbody>\n",
       "</table>\n",
       "<p>5 rows × 24 columns</p>\n",
       "</div>"
      ],
      "text/plain": [
       "         Date Time             Aircraft                           Operator  \\\n",
       "0  1918-05-02  NaN    De Havilland DH.4  United States Signal Corps - USSC   \n",
       "1  1918-06-08  NaN  Handley Page V/1500  Handley Page Aircraft Company Ltd   \n",
       "2  1918-06-11  NaN             Avro 504              Royal Air Force - RAF   \n",
       "3  1918-06-19  NaN    De Havilland DH.4  United States Signal Corps - USSC   \n",
       "4  1918-06-24  NaN           Breguet 14  French Air Force - Armée de l'Air   \n",
       "\n",
       "  Registration                   Flight phase Flight type Survivors  \\\n",
       "0     AS-32084                Takeoff (climb)        Test        No   \n",
       "1        E4104                Takeoff (climb)        Test       Yes   \n",
       "2        A8544                         Flight    Training       Yes   \n",
       "3     AS-32098                         Flight    Military        No   \n",
       "4      AS-4130  Landing (descent or approach)    Military       Yes   \n",
       "\n",
       "                               Crash site  \\\n",
       "0  Airport (less than 10 km from airport)   \n",
       "1  Airport (less than 10 km from airport)   \n",
       "2                           Plain, Valley   \n",
       "3  Airport (less than 10 km from airport)   \n",
       "4                                     NaN   \n",
       "\n",
       "                                    Schedule  ...                   Country  \\\n",
       "0                            Dayton - Dayton  ...  United States of America   \n",
       "1                  Cricklewood - Cricklewood  ...            United Kingdom   \n",
       "2                            Abukir - Abukir  ...                     Egypt   \n",
       "3  Wright Patterson AFB-Wright Patterson AFB  ...  United States of America   \n",
       "4                                        NaN  ...                    France   \n",
       "\n",
       "          Region  Crew on board Crew fatalities Pax on board PAX fatalities  \\\n",
       "0  North America            2.0             2.0          0.0            0.0   \n",
       "1         Europe            6.0             5.0          0.0            0.0   \n",
       "2         Africa            2.0             1.0          0.0            0.0   \n",
       "3  North America            1.0             1.0          0.0            0.0   \n",
       "4         Europe            NaN             0.0          NaN            0.0   \n",
       "\n",
       "   Other fatalities  Total fatalities  \\\n",
       "0               0.0                 2   \n",
       "1               0.0                 5   \n",
       "2               0.0                 1   \n",
       "3               0.0                 1   \n",
       "4               0.0                 0   \n",
       "\n",
       "                                       Circumstances        Crash cause  \n",
       "0  The single engine airplane departed Dayton-McC...  Technical failure  \n",
       "1  Assembled at Cricklewood Airfield in May 1918,...  Technical failure  \n",
       "2  The single engine aircraft was completing a lo...            Unknown  \n",
       "3  Lt. Frank Stuart Patterson, son and nephew of ...  Technical failure  \n",
       "4  The aircraft crashed iupon landing somewhere i...            Unknown  \n",
       "\n",
       "[5 rows x 24 columns]"
      ]
     },
     "execution_count": 3,
     "metadata": {},
     "output_type": "execute_result"
    }
   ],
   "source": [
    "# 28536 rows × 24 columns\n",
    "print(avioset_aab.shape)\n",
    "avioset_aab.head()"
   ]
  },
  {
   "cell_type": "markdown",
   "id": "17f527ea",
   "metadata": {},
   "source": [
    "<div style=\"background-color: #9df9ef; padding: 10px;\"></div>"
   ]
  },
  {
   "cell_type": "markdown",
   "id": "d5045695",
   "metadata": {},
   "source": [
    "### Database Fields Description"
   ]
  },
  {
   "cell_type": "code",
   "execution_count": 4,
   "id": "8868e970",
   "metadata": {},
   "outputs": [],
   "source": [
    "dataColumnsMeaning = pd.read_csv('data/dataset_1_accident_bureau/AAB_DB_Fields_Description.csv', encoding='utf-8')"
   ]
  },
  {
   "cell_type": "code",
   "execution_count": 5,
   "id": "edbd865d",
   "metadata": {},
   "outputs": [
    {
     "data": {
      "text/plain": [
       "Index(['Field name', 'Description'], dtype='object')"
      ]
     },
     "execution_count": 5,
     "metadata": {},
     "output_type": "execute_result"
    }
   ],
   "source": [
    "dataColumnsMeaning.columns"
   ]
  },
  {
   "cell_type": "code",
   "execution_count": 6,
   "id": "03b00dae",
   "metadata": {},
   "outputs": [
    {
     "data": {
      "text/plain": [
       "(24, 2)"
      ]
     },
     "execution_count": 6,
     "metadata": {},
     "output_type": "execute_result"
    }
   ],
   "source": [
    "dataColumnsMeaning.shape"
   ]
  },
  {
   "cell_type": "code",
   "execution_count": 7,
   "id": "504693de",
   "metadata": {},
   "outputs": [
    {
     "data": {
      "text/html": [
       "<style type=\"text/css\">\n",
       "#T_a8e97_row0_col0, #T_a8e97_row0_col1, #T_a8e97_row1_col0, #T_a8e97_row1_col1, #T_a8e97_row2_col0, #T_a8e97_row2_col1, #T_a8e97_row3_col0, #T_a8e97_row3_col1, #T_a8e97_row4_col0, #T_a8e97_row4_col1, #T_a8e97_row5_col0, #T_a8e97_row5_col1, #T_a8e97_row6_col0, #T_a8e97_row6_col1, #T_a8e97_row7_col0, #T_a8e97_row7_col1, #T_a8e97_row8_col0, #T_a8e97_row8_col1, #T_a8e97_row9_col0, #T_a8e97_row9_col1, #T_a8e97_row10_col0, #T_a8e97_row10_col1, #T_a8e97_row11_col0, #T_a8e97_row11_col1, #T_a8e97_row12_col0, #T_a8e97_row12_col1, #T_a8e97_row13_col0, #T_a8e97_row13_col1, #T_a8e97_row14_col0, #T_a8e97_row14_col1, #T_a8e97_row15_col0, #T_a8e97_row15_col1, #T_a8e97_row16_col0, #T_a8e97_row16_col1, #T_a8e97_row17_col0, #T_a8e97_row17_col1, #T_a8e97_row18_col0, #T_a8e97_row18_col1, #T_a8e97_row19_col0, #T_a8e97_row19_col1, #T_a8e97_row20_col0, #T_a8e97_row20_col1, #T_a8e97_row21_col0, #T_a8e97_row21_col1, #T_a8e97_row22_col0, #T_a8e97_row22_col1, #T_a8e97_row23_col0, #T_a8e97_row23_col1 {\n",
       "  text-align: left;\n",
       "}\n",
       "</style>\n",
       "<table id=\"T_a8e97\">\n",
       "  <thead>\n",
       "    <tr>\n",
       "      <th class=\"blank level0\" >&nbsp;</th>\n",
       "      <th id=\"T_a8e97_level0_col0\" class=\"col_heading level0 col0\" >Field name</th>\n",
       "      <th id=\"T_a8e97_level0_col1\" class=\"col_heading level0 col1\" >Description</th>\n",
       "    </tr>\n",
       "  </thead>\n",
       "  <tbody>\n",
       "    <tr>\n",
       "      <th id=\"T_a8e97_level0_row0\" class=\"row_heading level0 row0\" >0</th>\n",
       "      <td id=\"T_a8e97_row0_col0\" class=\"data row0 col0\" >date</td>\n",
       "      <td id=\"T_a8e97_row0_col1\" class=\"data row0 col1\" >Date of accident</td>\n",
       "    </tr>\n",
       "    <tr>\n",
       "      <th id=\"T_a8e97_level0_row1\" class=\"row_heading level0 row1\" >1</th>\n",
       "      <td id=\"T_a8e97_row1_col0\" class=\"data row1 col0\" >time</td>\n",
       "      <td id=\"T_a8e97_row1_col1\" class=\"data row1 col1\" >Time of accident</td>\n",
       "    </tr>\n",
       "    <tr>\n",
       "      <th id=\"T_a8e97_level0_row2\" class=\"row_heading level0 row2\" >2</th>\n",
       "      <td id=\"T_a8e97_row2_col0\" class=\"data row2 col0\" >aircraft</td>\n",
       "      <td id=\"T_a8e97_row2_col1\" class=\"data row2 col1\" >Manufacturer and exact model involved in the accident</td>\n",
       "    </tr>\n",
       "    <tr>\n",
       "      <th id=\"T_a8e97_level0_row3\" class=\"row_heading level0 row3\" >3</th>\n",
       "      <td id=\"T_a8e97_row3_col0\" class=\"data row3 col0\" >operator</td>\n",
       "      <td id=\"T_a8e97_row3_col1\" class=\"data row3 col1\" >The company, organisation or individual operating the aircraft at the time of the accident</td>\n",
       "    </tr>\n",
       "    <tr>\n",
       "      <th id=\"T_a8e97_level0_row4\" class=\"row_heading level0 row4\" >4</th>\n",
       "      <td id=\"T_a8e97_row4_col0\" class=\"data row4 col0\" >registration</td>\n",
       "      <td id=\"T_a8e97_row4_col1\" class=\"data row4 col1\" >The registrationmark applied on the the aircaft at the time of the accident</td>\n",
       "    </tr>\n",
       "    <tr>\n",
       "      <th id=\"T_a8e97_level0_row5\" class=\"row_heading level0 row5\" >5</th>\n",
       "      <td id=\"T_a8e97_row5_col0\" class=\"data row5 col0\" >flight_phase</td>\n",
       "      <td id=\"T_a8e97_row5_col1\" class=\"data row5 col1\" >Phase of flight</td>\n",
       "    </tr>\n",
       "    <tr>\n",
       "      <th id=\"T_a8e97_level0_row6\" class=\"row_heading level0 row6\" >6</th>\n",
       "      <td id=\"T_a8e97_row6_col0\" class=\"data row6 col0\" >flight_type</td>\n",
       "      <td id=\"T_a8e97_row6_col1\" class=\"data row6 col1\" >Flight types refer to the various classifications of flights based on their purpose, nature, or the kind of aircraft operation being conducted</td>\n",
       "    </tr>\n",
       "    <tr>\n",
       "      <th id=\"T_a8e97_level0_row7\" class=\"row_heading level0 row7\" >7</th>\n",
       "      <td id=\"T_a8e97_row7_col0\" class=\"data row7 col0\" >survivors</td>\n",
       "      <td id=\"T_a8e97_row7_col1\" class=\"data row7 col1\" >Number of survivors</td>\n",
       "    </tr>\n",
       "    <tr>\n",
       "      <th id=\"T_a8e97_level0_row8\" class=\"row_heading level0 row8\" >8</th>\n",
       "      <td id=\"T_a8e97_row8_col0\" class=\"data row8 col0\" >crash_site</td>\n",
       "      <td id=\"T_a8e97_row8_col1\" class=\"data row8 col1\" >Crash site</td>\n",
       "    </tr>\n",
       "    <tr>\n",
       "      <th id=\"T_a8e97_level0_row9\" class=\"row_heading level0 row9\" >9</th>\n",
       "      <td id=\"T_a8e97_row9_col0\" class=\"data row9 col0\" >schedule</td>\n",
       "      <td id=\"T_a8e97_row9_col1\" class=\"data row9 col1\" >Schedule</td>\n",
       "    </tr>\n",
       "    <tr>\n",
       "      <th id=\"T_a8e97_level0_row10\" class=\"row_heading level0 row10\" >10</th>\n",
       "      <td id=\"T_a8e97_row10_col0\" class=\"data row10 col0\" >msn</td>\n",
       "      <td id=\"T_a8e97_row10_col1\" class=\"data row10 col1\" >Manufacturer serial number/construction number.</td>\n",
       "    </tr>\n",
       "    <tr>\n",
       "      <th id=\"T_a8e97_level0_row11\" class=\"row_heading level0 row11\" >11</th>\n",
       "      <td id=\"T_a8e97_row11_col0\" class=\"data row11 col0\" >yom</td>\n",
       "      <td id=\"T_a8e97_row11_col1\" class=\"data row11 col1\" >Year of Manufacture. It refers to the year when an aircraft was originally built or rolled off the production line</td>\n",
       "    </tr>\n",
       "    <tr>\n",
       "      <th id=\"T_a8e97_level0_row12\" class=\"row_heading level0 row12\" >12</th>\n",
       "      <td id=\"T_a8e97_row12_col0\" class=\"data row12 col0\" >flight_no</td>\n",
       "      <td id=\"T_a8e97_row12_col1\" class=\"data row12 col1\" >Flight number</td>\n",
       "    </tr>\n",
       "    <tr>\n",
       "      <th id=\"T_a8e97_level0_row13\" class=\"row_heading level0 row13\" >13</th>\n",
       "      <td id=\"T_a8e97_row13_col0\" class=\"data row13 col0\" >crash_location</td>\n",
       "      <td id=\"T_a8e97_row13_col1\" class=\"data row13 col1\" >Exact location of the accident</td>\n",
       "    </tr>\n",
       "    <tr>\n",
       "      <th id=\"T_a8e97_level0_row14\" class=\"row_heading level0 row14\" >14</th>\n",
       "      <td id=\"T_a8e97_row14_col0\" class=\"data row14 col0\" >country</td>\n",
       "      <td id=\"T_a8e97_row14_col1\" class=\"data row14 col1\" >Country where the accident occurs</td>\n",
       "    </tr>\n",
       "    <tr>\n",
       "      <th id=\"T_a8e97_level0_row15\" class=\"row_heading level0 row15\" >15</th>\n",
       "      <td id=\"T_a8e97_row15_col0\" class=\"data row15 col0\" >region</td>\n",
       "      <td id=\"T_a8e97_row15_col1\" class=\"data row15 col1\" >Region of accident</td>\n",
       "    </tr>\n",
       "    <tr>\n",
       "      <th id=\"T_a8e97_level0_row16\" class=\"row_heading level0 row16\" >16</th>\n",
       "      <td id=\"T_a8e97_row16_col0\" class=\"data row16 col0\" >crew_on_board</td>\n",
       "      <td id=\"T_a8e97_row16_col1\" class=\"data row16 col1\" >Number of crew on board</td>\n",
       "    </tr>\n",
       "    <tr>\n",
       "      <th id=\"T_a8e97_level0_row17\" class=\"row_heading level0 row17\" >17</th>\n",
       "      <td id=\"T_a8e97_row17_col0\" class=\"data row17 col0\" >crew_fatalities</td>\n",
       "      <td id=\"T_a8e97_row17_col1\" class=\"data row17 col1\" >Number of crew deaths</td>\n",
       "    </tr>\n",
       "    <tr>\n",
       "      <th id=\"T_a8e97_level0_row18\" class=\"row_heading level0 row18\" >18</th>\n",
       "      <td id=\"T_a8e97_row18_col0\" class=\"data row18 col0\" >pax_on_board</td>\n",
       "      <td id=\"T_a8e97_row18_col1\" class=\"data row18 col1\" >Number of passengers aboard the aircraft at the time of departure</td>\n",
       "    </tr>\n",
       "    <tr>\n",
       "      <th id=\"T_a8e97_level0_row19\" class=\"row_heading level0 row19\" >19</th>\n",
       "      <td id=\"T_a8e97_row19_col0\" class=\"data row19 col0\" >pax_fatalities</td>\n",
       "      <td id=\"T_a8e97_row19_col1\" class=\"data row19 col1\" >Number of passengers fatally injured as a direct result of the accident</td>\n",
       "    </tr>\n",
       "    <tr>\n",
       "      <th id=\"T_a8e97_level0_row20\" class=\"row_heading level0 row20\" >20</th>\n",
       "      <td id=\"T_a8e97_row20_col0\" class=\"data row20 col0\" >other_fatalities</td>\n",
       "      <td id=\"T_a8e97_row20_col1\" class=\"data row20 col1\" >Number of deaths that occur as a result of the accident but do not involve passengers or crew members</td>\n",
       "    </tr>\n",
       "    <tr>\n",
       "      <th id=\"T_a8e97_level0_row21\" class=\"row_heading level0 row21\" >21</th>\n",
       "      <td id=\"T_a8e97_row21_col0\" class=\"data row21 col0\" >total_fatalities</td>\n",
       "      <td id=\"T_a8e97_row21_col1\" class=\"data row21 col1\" >Total number of deaths</td>\n",
       "    </tr>\n",
       "    <tr>\n",
       "      <th id=\"T_a8e97_level0_row22\" class=\"row_heading level0 row22\" >22</th>\n",
       "      <td id=\"T_a8e97_row22_col0\" class=\"data row22 col0\" >circumstances</td>\n",
       "      <td id=\"T_a8e97_row22_col1\" class=\"data row22 col1\" >A detailed description of the circumstances of the accident</td>\n",
       "    </tr>\n",
       "    <tr>\n",
       "      <th id=\"T_a8e97_level0_row23\" class=\"row_heading level0 row23\" >23</th>\n",
       "      <td id=\"T_a8e97_row23_col0\" class=\"data row23 col0\" >crash_cause</td>\n",
       "      <td id=\"T_a8e97_row23_col1\" class=\"data row23 col1\" >The probable cause of the accident as established by the accident investigators</td>\n",
       "    </tr>\n",
       "  </tbody>\n",
       "</table>\n"
      ],
      "text/plain": [
       "<pandas.io.formats.style.Styler at 0x1a1e90168d0>"
      ]
     },
     "execution_count": 7,
     "metadata": {},
     "output_type": "execute_result"
    }
   ],
   "source": [
    "dataColumnsMeaning.style.set_properties(**{'text-align': 'left'})"
   ]
  },
  {
   "cell_type": "markdown",
   "id": "167839b0",
   "metadata": {},
   "source": [
    "<div style=\"background-color: #9df9ef; padding: 10px;\"></div>"
   ]
  },
  {
   "cell_type": "markdown",
   "id": "1f1c2557",
   "metadata": {},
   "source": [
    "### 2.2. Dataset cleaning, normalization"
   ]
  },
  {
   "cell_type": "markdown",
   "id": "02d011e4",
   "metadata": {},
   "source": [
    "#### 2.2.1. Let's see what data do we have in all columns. "
   ]
  },
  {
   "cell_type": "code",
   "execution_count": 8,
   "id": "7a73f52a",
   "metadata": {},
   "outputs": [
    {
     "data": {
      "text/plain": [
       "Index(['Date', 'Time', 'Aircraft', 'Operator', 'Registration', 'Flight phase',\n",
       "       'Flight type', 'Survivors', 'Crash site', 'Schedule', 'MSN', 'YOM',\n",
       "       'Flight no.', 'Crash location', 'Country', 'Region', 'Crew on board',\n",
       "       'Crew fatalities', 'Pax on board', 'PAX fatalities', 'Other fatalities',\n",
       "       'Total fatalities', 'Circumstances', 'Crash cause'],\n",
       "      dtype='object')"
      ]
     },
     "execution_count": 8,
     "metadata": {},
     "output_type": "execute_result"
    }
   ],
   "source": [
    "avioset_aab.columns"
   ]
  },
  {
   "cell_type": "markdown",
   "id": "6c14a4f1",
   "metadata": {},
   "source": [
    "<div style=\"background-color: #9df9ef; padding: 10px;\"></div>"
   ]
  },
  {
   "cell_type": "markdown",
   "id": "d9c647b7",
   "metadata": {},
   "source": [
    "#### 2.2.2. Let's make our column names more Pythonic, which means changing names like Event.Id to event_id."
   ]
  },
  {
   "cell_type": "code",
   "execution_count": 9,
   "id": "530afcba",
   "metadata": {},
   "outputs": [],
   "source": [
    "# We will make a new dataset so as not to lose the original\n",
    "avioset_aab_low = avioset_aab.copy()"
   ]
  },
  {
   "cell_type": "code",
   "execution_count": 10,
   "id": "5caaaa48",
   "metadata": {},
   "outputs": [],
   "source": [
    "def change_col_names(df, old_symbol, new_symbol):\n",
    "    df.columns = df.columns.str.lower().str.replace(old_symbol, new_symbol)\n",
    "    return df"
   ]
  },
  {
   "cell_type": "code",
   "execution_count": 11,
   "id": "cc5842a7",
   "metadata": {},
   "outputs": [
    {
     "data": {
      "text/plain": [
       "Index(['date', 'time', 'aircraft', 'operator', 'registration', 'flight_phase',\n",
       "       'flight_type', 'survivors', 'crash_site', 'schedule', 'msn', 'yom',\n",
       "       'flight_no', 'crash_location', 'country', 'region', 'crew_on_board',\n",
       "       'crew_fatalities', 'pax_on_board', 'pax_fatalities', 'other_fatalities',\n",
       "       'total_fatalities', 'circumstances', 'crash_cause'],\n",
       "      dtype='object')"
      ]
     },
     "execution_count": 11,
     "metadata": {},
     "output_type": "execute_result"
    }
   ],
   "source": [
    "# Changing column names to pythonic\n",
    "change_col_names(avioset_aab_low, ' ', '_')\n",
    "\n",
    "# Changing \"flight_no.\" to \"flight_no\"\n",
    "avioset_aab_low.rename(columns={'flight_no.': 'flight_no'}, inplace=True)\n",
    "\n",
    "avioset_aab_low.columns"
   ]
  },
  {
   "cell_type": "markdown",
   "id": "87c0ec88",
   "metadata": {},
   "source": [
    "<div style=\"background-color: #9df9ef; padding: 10px;\"></div>"
   ]
  },
  {
   "cell_type": "markdown",
   "id": "0746c8ff",
   "metadata": {},
   "source": [
    "#### 2.2.3. Let's look at the unique values in each column. \n",
    "#### Let's count nan values too and decide which columns to use for our further analysis."
   ]
  },
  {
   "cell_type": "code",
   "execution_count": 12,
   "id": "861c0427",
   "metadata": {},
   "outputs": [
    {
     "name": "stdout",
     "output_type": "stream",
     "text": [
      "Unique values in column 'date': \n",
      " ['1918-05-02' '1918-06-08' '1918-06-11' ... '2022-05-24' '2022-05-29'\n",
      " '2022-06-03']\n",
      "\n",
      " **************** \n",
      "\n",
      "Unique values in column 'time': \n",
      " [nan '15H 15M 0S' '12H 0M 0S' ... '3H 21M 0S' '2H 53M 0S' '13H 33M 0S']\n",
      "\n",
      " **************** \n",
      "\n",
      "Unique values in column 'aircraft': \n",
      " ['De Havilland DH.4' 'Handley Page V/1500' 'Avro 504' ...\n",
      " 'Cirrus Vision SF50' 'Socata TBM-910' 'Learjet 75']\n",
      "\n",
      " **************** \n",
      "\n",
      "Unique values in column 'operator': \n",
      " ['United States Signal Corps - USSC' 'Handley Page Aircraft Company Ltd'\n",
      " 'Royal Air Force - RAF' ... 'Raul Ignacion Posada'\n",
      " 'Yakutat Coastal Airlines' 'GoJump Oceanside']\n",
      "\n",
      " **************** \n",
      "\n",
      "Unique values in column 'registration': \n",
      " ['AS-32084' 'E4104' 'A8544' ... 'N703TH' '9N-AET' 'N7581F']\n",
      "\n",
      " **************** \n",
      "\n",
      "Unique values in column 'flight_phase': \n",
      " ['Takeoff (climb)' 'Flight' 'Landing (descent or approach)' nan 'Taxiing'\n",
      " 'Parking']\n",
      "\n",
      " **************** \n",
      "\n",
      "Unique values in column 'flight_type': \n",
      " ['Test' 'Training' 'Military' 'Delivery'\n",
      " 'Survey / Patrol / Reconnaissance' 'Postal (mail)' 'Ferry'\n",
      " 'Aerial photography' 'Scheduled Revenue Flight' 'Government' 'Private'\n",
      " 'Charter/Taxi (Non Scheduled Revenue Flight)' nan 'Cargo' 'Positioning'\n",
      " 'Demonstration' 'Ambulance' 'Executive/Corporate/Business' 'Topographic'\n",
      " 'Geographical / Geophysical / Scientific' 'Cinematography'\n",
      " 'Illegal (smuggling)' 'Spraying (Agricultural)' 'Refuelling'\n",
      " 'Humanitarian' 'Bombing' 'Supply' 'Calibration'\n",
      " 'Meteorological / Weather' 'Fire fighting' 'Skydiving / Paratroopers'\n",
      " 'Aerobatic']\n",
      "\n",
      " **************** \n",
      "\n",
      "Unique values in column 'survivors': \n",
      " ['No' 'Yes' nan]\n",
      "\n",
      " **************** \n",
      "\n",
      "Unique values in column 'crash_site': \n",
      " ['Airport (less than 10 km from airport)' 'Plain, Valley' nan\n",
      " 'Lake, Sea, Ocean, River' 'Mountains' 'Desert' 'City']\n",
      "\n",
      " **************** \n",
      "\n",
      "Unique values in column 'schedule': \n",
      " ['Dayton - Dayton' 'Cricklewood - Cricklewood' 'Abukir - Abukir' ...\n",
      " 'Celaya - Durango' 'Yakutat – Dry Bay' 'Oceanside - Oceanside']\n",
      "\n",
      " **************** \n",
      "\n",
      "Unique values in column 'msn': \n",
      " [nan 'B9976' 'B9983' ... '208-0219' '110-460' '61-0277-061']\n",
      "\n",
      " **************** \n",
      "\n",
      "Unique values in column 'yom': \n",
      " [       nan 1.9180e+03 1.9190e+03 1.9200e+03 1.9210e+03 1.9230e+03\n",
      " 1.9220e+03 1.9240e+03 1.9250e+03 1.0000e+00 1.9260e+03 1.9270e+03\n",
      " 1.9280e+03 1.9290e+03 1.9300e+03 1.9310e+03 1.9320e+03 1.9330e+03\n",
      " 1.9350e+03 1.9340e+03 1.7000e+01 2.6000e+01 1.9000e+01 2.2000e+01\n",
      " 1.2000e+01 7.0000e+00 1.9360e+03 2.4000e+01 9.0000e+00 0.0000e+00\n",
      " 1.9370e+03 2.7000e+01 1.9380e+03 1.9390e+03 8.0000e+00 2.8000e+01\n",
      " 1.0000e+01 1.9400e+03 1.2928e+04 1.9410e+03 2.3000e+01 2.0000e+00\n",
      " 2.5000e+01 5.0000e+00 3.0000e+00 1.8000e+01 1.5000e+01 1.9420e+03\n",
      " 1.9430e+03 2.9000e+01 3.1000e+01 6.0000e+00 2.1000e+01 1.9440e+03\n",
      " 1.1000e+01 3.0000e+01 4.0000e+00 1.9450e+03 1.6450e+03 1.4000e+01\n",
      " 9.4300e+02 1.3000e+01 1.6000e+01 1.9460e+03 1.9470e+03 1.9510e+03\n",
      " 1.9480e+03 1.9490e+03 1.9500e+03 2.0000e+01 1.4949e+04 1.9520e+03\n",
      " 1.9530e+03 1.9540e+03 1.9550e+03 1.9590e+03 1.9560e+03 1.9570e+03\n",
      " 1.6510e+03 1.9580e+03 1.9600e+03 1.9610e+03 1.7000e+02 1.9620e+03\n",
      " 1.9630e+03 1.9640e+03 1.9650e+03 1.9660e+03 1.9670e+03 1.9680e+03\n",
      " 1.9690e+03 1.9700e+03 1.9790e+03 1.9710e+03 1.9720e+03 1.9770e+03\n",
      " 1.9730e+03 1.9740e+03 1.9750e+03 1.9760e+03 1.9780e+03 1.9800e+03\n",
      " 1.9567e+04 2.5400e+02 1.9870e+03 1.9810e+03 1.9820e+03 1.9830e+03\n",
      " 1.9840e+03 1.9850e+03 1.9860e+03 1.9880e+03 1.9890e+03 1.9900e+03\n",
      " 1.9910e+03 1.9920e+03 1.9930e+03 1.9940e+03 1.9950e+03 1.9960e+03\n",
      " 1.9970e+03 1.9980e+03 1.9990e+03 2.0000e+03 2.0010e+03 2.0020e+03\n",
      " 2.0030e+03 2.0040e+03 2.0050e+03 2.0060e+03 2.0070e+03 1.9000e+03\n",
      " 2.0080e+03 2.0090e+03 2.0100e+03 2.0120e+03 2.0110e+03 2.0130e+03\n",
      " 2.0140e+03 2.0150e+03 2.0160e+03 2.0170e+03 2.0180e+03 2.0200e+03\n",
      " 2.0190e+03]\n",
      "\n",
      " **************** \n",
      "\n",
      "Unique values in column 'flight_no': \n",
      " [nan]\n",
      "\n",
      " **************** \n",
      "\n",
      "Unique values in column 'crash_location': \n",
      " ['Dayton-McCook Field Ohio' 'Cricklewood London Metropolis'\n",
      " 'Abukir (Abu Qir) Alexandria' ... 'Eldorado do Sul Rio Grande do Sul'\n",
      " 'Dry Bay Alaska' 'Shikha Dhawalagiri']\n",
      "\n",
      " **************** \n",
      "\n",
      "Unique values in column 'country': \n",
      " ['United States of America' 'United Kingdom' 'Egypt' 'France' 'Portugal'\n",
      " 'Greece' 'Slovakia' 'Italy' 'Belgium' 'Ireland' 'Czech Republic' 'Mexico'\n",
      " 'Germany' 'Sudan' 'South Africa' 'Malaysia' 'Tanzania' 'Zimbabwe'\n",
      " 'Switzerland' 'Spain' 'World' 'Colombia' 'Sweden' 'Indonesia' 'Cuba'\n",
      " 'Norway' 'Philippines' 'Canada' 'New Zealand' 'Brazil' 'Poland' 'Iraq'\n",
      " 'Australia' 'Netherlands' 'Denmark' 'Pakistan' 'Chile' 'China' 'Turkey'\n",
      " 'India' 'Morocco' 'Hungary' 'Russia' 'Lithuania' 'Romania' 'Niger'\n",
      " 'Georgia' 'Mauritania' 'Estonia' 'Algeria' 'Uruguay' 'Bolivia'\n",
      " 'Western Sahara' 'Kenya' 'Venezuela' 'Ukraine' 'Dominican Republic'\n",
      " 'Guyana' 'Austria' 'Senegal' 'Finland' 'Papua New Guinea' 'Argentina'\n",
      " 'Bulgaria' 'Japan' 'Panama' 'Bahamas' 'Tunisia' 'Zambia' 'Puerto Rico'\n",
      " 'Costa Rica' 'Myanmar' 'Democratic Republic of Congo' 'South Sudan'\n",
      " 'Paraguay' 'Nicaragua' 'Iran' 'Guatemala' 'Libya' 'Antarctica'\n",
      " 'Azerbaijan' 'Mali' 'Malta' 'Yemen' 'Guinea Bissau' 'Ecuador' 'Thailand'\n",
      " 'Syria' 'Palestine' 'Belarus' 'Lebanon' 'Greenland' 'Singapore'\n",
      " 'Honduras' 'Peru' 'Madagascar' 'Croatia' 'Slovenia' 'Montenegro'\n",
      " 'Ethiopia' 'Kazakhstan' 'Tajikistan' 'Trinidad and Tobago' 'Namibia'\n",
      " 'Benin' 'Uganda' 'Israel' 'Gambia' 'Nigeria' 'Jamaica'\n",
      " 'Bosnia and Herzegovina' 'Chad' 'Mozambique' 'Taiwan' 'Djibouti' 'Guinea'\n",
      " 'Vietnam' 'Iceland' 'Uzbekistan' 'Serbia' 'Turkmenistan' 'Sierra Leone'\n",
      " 'Fiji Islands' 'Kyrgyzstan' 'Kuwait' 'Tonga' 'Solomon Islands'\n",
      " 'New Caledonia' 'Vanuatu' 'Timor Leste' 'Central African Republic'\n",
      " 'Bermuda' 'Suriname' 'Kiribati' 'Eritrea' 'Ghana' 'Oman' 'Cyprus'\n",
      " 'Bangladesh' 'Sri Lanka' 'Latvia' 'Bhutan' 'Liberia' 'Bahrain' 'Palau'\n",
      " 'Marshall Islands' nan 'Ascension Island' 'Tuvalu' 'Guam Island'\n",
      " 'Ivory Coast' 'United Arab Emirates' 'Martinique'\n",
      " 'Northern Mariana Islands' 'Cambodia' 'Nepal' 'South Korea' 'Salvador'\n",
      " 'Cameroon' 'Jordan' 'Saudi Arabia' 'Somalia'\n",
      " 'Federated States of Micronesia' 'Macedonia' 'US Virgin Islands' 'Congo'\n",
      " 'Burkina Faso' 'Angola' 'North Korea' 'Samoa Islands (Western Samoa)'\n",
      " 'Laos' 'Cayman Islands' 'Malawi' 'Luxembourg' 'Afghanistan' 'Armenia'\n",
      " 'Faroe Islands' 'Lesotho' 'Cabo Verde' 'French Polynesia' 'Haiti'\n",
      " 'Maldivian Islands' 'Saint Kitts and Nevis' 'Mauritius'\n",
      " 'Equatorial Guinea' 'Saint Pierre and Miquelon' 'Gabon' 'Belize'\n",
      " 'Guadeloupe' 'São Tomé and Principe' 'Turks and Caicos Islands'\n",
      " 'Mongolia' 'Dutch Antilles' 'Moldova' 'Montserrat'\n",
      " 'British Virgin Islands' 'Comoros Islands' 'La Reunion' 'French Guyana'\n",
      " 'Botswana' 'Monaco' 'Saint Lucia' 'Togo' 'American Samoa'\n",
      " 'Falkland Islands' 'Seychelles' 'Barbados' 'Saint-Barthélemy' 'Qatar'\n",
      " 'Saint Vincent and Grenadines' 'Mayotte' 'Rwanda' 'Chagos Archipelago'\n",
      " 'Cook Islands' 'Dominica' 'Albania' 'Kosovo' 'Swaziland' 'Anguilla'\n",
      " 'Antigua']\n",
      "\n",
      " **************** \n",
      "\n",
      "Unique values in column 'region': \n",
      " ['North America' 'Europe' 'Africa' 'Central America' 'Asia' 'World'\n",
      " 'South America' 'Oceania' 'Antarctica' nan]\n",
      "\n",
      " **************** \n",
      "\n",
      "Unique values in column 'crew_on_board': \n",
      " [2.000e+00 6.000e+00 1.000e+00       nan 0.000e+00 3.000e+00 4.000e+00\n",
      " 7.000e+00 5.000e+00 1.700e+01 8.000e+00 9.000e+00 1.200e+01 1.924e+03\n",
      " 2.000e+01 1.000e+01 1.400e+01 1.100e+01 1.500e+01 1.300e+01 1.600e+01\n",
      " 1.900e+01 1.800e+01 2.200e+01 2.300e+01 2.100e+01 4.800e+01 1.070e+02\n",
      " 2.500e+01 3.700e+01]\n",
      "\n",
      " **************** \n",
      "\n",
      "Unique values in column 'crew_fatalities': \n",
      " [ 2.  5.  1.  0.  3.  4. 17.  6.  8.  9.  7. 15. 10. 14. 12. 11. 13. 18.\n",
      " 19. 16. 21. 25. 23. 20. nan 22.]\n",
      "\n",
      " **************** \n",
      "\n",
      "Unique values in column 'pax_on_board': \n",
      " [  0.  nan   5.   3.   4.   1.   2.  12.   8.   6.   7.  10.   9.  13.\n",
      "  11.  14.  33.  15.  20.  16.  18.  21.  23.  27.  19.  31.  28.  22.\n",
      "  17.  26.  30.  75.  25.  32.  35.  24.  46.  40.  37.  55.  34.  42.\n",
      "  43.  29.  41.  38.  48.  44.  49.  47.  36.  62.  39.  51.  45.  78.\n",
      "  50.  52.  59.  64.  68. 105. 122.  79.  58.  60.  63.  70.  53.  56.\n",
      "  65.  74.  95. 149.  57.  73.  91.  71.  67.  54.  61.  86.  77.  97.\n",
      "  69.  89.  85. 115. 110.  87. 101.  96. 103.  76.  94.  80. 111.  81.\n",
      " 136.  84. 114.  72. 106. 126. 113.  93. 120.  83. 116.  99.  98. 150.\n",
      " 100. 146. 219. 118. 155. 104. 108. 109. 148. 164. 163. 193. 139. 117.\n",
      " 154. 166.  82. 334.  92. 102. 140. 182. 314. 384. 181. 124. 128. 364.\n",
      " 121. 234. 380. 127. 156. 159. 190. 189. 186. 211.  66. 249. 162. 258.\n",
      "  88. 144. 145. 237. 152. 138. 287. 174. 213. 160. 172. 200. 112. 133.\n",
      " 381.  90. 227. 246. 123. 173. 233. 170. 141. 307. 191. 509. 131. 265.\n",
      " 248. 175. 185. 137. 240. 130. 274. 158. 129. 243. 178. 285. 157. 125.\n",
      " 195. 179. 247. 280. 151. 107. 327. 147. 119. 250. 165. 256. 451. 176.\n",
      " 260. 212. 134. 289. 222. 379. 215. 132. 252. 300. 236. 202. 296. 169.\n",
      " 171. 221. 143. 135. 187. 197. 251. 206. 188. 257. 153. 261. 201. 297.\n",
      " 324. 345. 203. 168. 216. 142. 291. 288. 283. 224. 217. 282. 161. 226.\n",
      " 167. 177. 184.]\n",
      "\n",
      " **************** \n",
      "\n",
      "Unique values in column 'pax_fatalities': \n",
      " [  0.   5.   3.   1.  12.   2.   6.   4.   7.   9.  13.  14.  10.  nan\n",
      "   8.  33.  11.  16.  21.  23.  27.  15.  19.  18.  22.  17.  30.  40.\n",
      "  25.  20.  28.  34.  24.  46.  32.  35.  26.  37.  55.  42.  31.  29.\n",
      "  38.  48.  41.  49.  47.  36.  39.  52.  51.  75.  44.  43.  45.  82.\n",
      " 122.  60.  63.  64.  53.  59.  57.  73.  56.  91.  58.  71.  62.  77.\n",
      "  61.  69.  74.  50.  87. 101.  96. 120. 103.  76.  85.  79.  80.  95.\n",
      " 111.  81.  78. 108.  72. 106. 126.  54. 113.  92. 117.  83.  99.  65.\n",
      "  98. 150.  89.  93.  97. 105. 100. 155. 104. 115. 109. 148. 164. 170.\n",
      " 116.  68. 114. 334. 102.  70.  67. 182. 107. 181. 146. 234. 326. 125.\n",
      " 190.  66. 128. 175. 258.  88. 145. 237. 138. 156. 287. 172. 124.  84.\n",
      " 246. 123. 162. 169. 141. 307. 191. 506. 248. 159. 140. 136. 274. 127.\n",
      " 243. 137. 167. 110. 213. 247. 121. 151. 131. 147. 119. 249.  90. 176.\n",
      " 212. 130. 134. 289. 214. 222. 215. 202. 135. 251. 206. 257. 152. 160.\n",
      " 216. 227. 283. 144. 217. 149.]\n",
      "\n",
      " **************** \n",
      "\n",
      "Unique values in column 'other_fatalities': \n",
      " [  0.   5.   1.  nan   2.   3.  11.  10.  13.   7.   6.  23.   8.   4.\n",
      "  19.  58.  15.  16.   9.  33.  38.  49. 107.  44.  71.  24.  27. 110.\n",
      "  20.  12. 180.  22.  14.  54.  36.  45.  43. 297.  18.  30.  78.  28.\n",
      "  37.  25.  17.  35.]\n",
      "\n",
      " **************** \n",
      "\n",
      "Unique values in column 'total_fatalities': \n",
      " [  2   5   1   0   7   4   3  14   6  17   8   9  16  12  15  10  11  45\n",
      "  13  19  20  18  25  29  30  22  26  27  21  36  35  34  24  23  32  40\n",
      "  31  28  61  51  37  44  41  59  39  43  53  50  42  52  33  48  55  38\n",
      "  80  46  58  56  87 129  47  66  74  70  62  67  79  65  99  64  60  68\n",
      "  54  63  90  73  78  72  83  77  95 111 107 130 113  84  94  81  86  97\n",
      " 101 118  85  49  57 121  69 117 133 124  98  82 126  88 102 123 155 100\n",
      "  96  92 112 109  75 162  91 104 115 122 156 174 176 108 106 346 191 188\n",
      "  76 154 248 335 131 213 142 183 192 273 257 128 146 166 301  89 110 180\n",
      " 137 132 153 119 269 181 178 148 329 200 135 520 256 167 103 159 143 290\n",
      " 270 144 171 170 223 261 141 157 116 125 264 160  71 298 189 230 312 228\n",
      " 234 203 229 217 169 145 114 265 225 275 105 149 199 152 168 158 127 239\n",
      " 150 139 224]\n",
      "\n",
      " **************** \n",
      "\n",
      "Unique values in column 'circumstances': \n",
      " ['The single engine airplane departed Dayton-McCook Field for a local test flight. Shortly after takeoff, the aircraft stalled and crashed, killing both occupants. Crew: Maj Oscar Brindley, Lt Col Henry Damm.'\n",
      " 'Assembled at Cricklewood Airfield in May 1918, the aircraft departed Cricklewood for its 13th test flight, carrying six crew members. Shortly after takeoff, while climbing to a height of about 700-800 feet, all four engines stopped. The pilot elected to return for an emergency landing when the aircraft stalled and crashed in a field located in front of 21 Garrick Avenue in Golders Green, bursting into flames. Colonel Ogilvie, who was seating in the tail gunner position at the back of the plane, survived, while all five other occupants were killed. Crew: Cpt Vernon Earl George Busby, pilot, † Mr. Bertram G. Cooper, † Mr. R. P. Cooper, † Mr. W. H. Hathaway, † Mr. J. W. Windebank, † Colonel Ogilvie.'\n",
      " 'The single engine aircraft was completing a local training flight when it stalled and crashed near Abukir. A crew member was killed and the second was injured. Crew: 2nd Lt G. E. Satterthwaite, † 2nd Lt J. Acheson.'\n",
      " ...\n",
      " 'The single engine airplane departed Yakutat on an on-demand flight to Dry Bay, a remote airstrip located about 30 miles southeast of the Southeast Alaska community of Yakutat. On final approach, the aircraft crashed in a wooded area located short of runway. All four occupants were injured, three critically.'\n",
      " 'The twin engine airplane departed Pokhara City Airport Runway 04 at 0955LT on a schedule service to Jomsom, carrying 19 passengers and three crew members. After takeoff, the pilot initiated a turn to the left and continued to climb to 12,000 feet (calibrated altitude) when a turn was initiated to the right. In limited visibility, the aircraft impacted the slope of a rocky mountain located in the area of Shikha, some 14 km southwest from the Annapurna Mountain. The wreckage was found the following day. The aircraft disintegrated on impact and all 22 occupants were killed.'\n",
      " 'The single engine was completing local skydiving flights out from Oceanside Airport. On final approach to runway 25, the airplane apparently stalled and crashed against an embankment located about 400 metres short of runway. The pilot was seriously injured and the jumpmaster was killed.']\n",
      "\n",
      " **************** \n",
      "\n",
      "Unique values in column 'crash_cause': \n",
      " ['Technical failure' 'Unknown' 'Weather' 'Human factor' 'Other causes'\n",
      " 'Terrorism act, Hijacking, Sabotage']\n",
      "\n",
      " **************** \n",
      "\n"
     ]
    }
   ],
   "source": [
    "# View unique values for all columns\n",
    "def all_columns_unique_values(df):\n",
    "    for col in df.columns:\n",
    "        print(f\"Unique values in column \\'{col}\\': \\n {df[col].unique()}\\n\\n **************** \\n\")\n",
    "\n",
    "all_columns_unique_values(avioset_aab_low)"
   ]
  },
  {
   "cell_type": "code",
   "execution_count": 13,
   "id": "0d621e6f",
   "metadata": {},
   "outputs": [
    {
     "name": "stdout",
     "output_type": "stream",
     "text": [
      "All nan values in column 'date': \n",
      " 0\n",
      "\n",
      " **************** \n",
      "\n",
      "All nan values in column 'time': \n",
      " 14587\n",
      "\n",
      " **************** \n",
      "\n",
      "All nan values in column 'aircraft': \n",
      " 1\n",
      "\n",
      " **************** \n",
      "\n",
      "All nan values in column 'operator': \n",
      " 0\n",
      "\n",
      " **************** \n",
      "\n",
      "All nan values in column 'registration': \n",
      " 815\n",
      "\n",
      " **************** \n",
      "\n",
      "All nan values in column 'flight_phase': \n",
      " 638\n",
      "\n",
      " **************** \n",
      "\n",
      "All nan values in column 'flight_type': \n",
      " 57\n",
      "\n",
      " **************** \n",
      "\n",
      "All nan values in column 'survivors': \n",
      " 1297\n",
      "\n",
      " **************** \n",
      "\n",
      "All nan values in column 'crash_site': \n",
      " 383\n",
      "\n",
      " **************** \n",
      "\n",
      "All nan values in column 'schedule': \n",
      " 8946\n",
      "\n",
      " **************** \n",
      "\n",
      "All nan values in column 'msn': \n",
      " 4182\n",
      "\n",
      " **************** \n",
      "\n",
      "All nan values in column 'yom': \n",
      " 5311\n",
      "\n",
      " **************** \n",
      "\n",
      "All nan values in column 'flight_no': \n",
      " 28536\n",
      "\n",
      " **************** \n",
      "\n",
      "All nan values in column 'crash_location': \n",
      " 12\n",
      "\n",
      " **************** \n",
      "\n",
      "All nan values in column 'country': \n",
      " 1\n",
      "\n",
      " **************** \n",
      "\n",
      "All nan values in column 'region': \n",
      " 1\n",
      "\n",
      " **************** \n",
      "\n",
      "All nan values in column 'crew_on_board': \n",
      " 24\n",
      "\n",
      " **************** \n",
      "\n",
      "All nan values in column 'crew_fatalities': \n",
      " 1\n",
      "\n",
      " **************** \n",
      "\n",
      "All nan values in column 'pax_on_board': \n",
      " 54\n",
      "\n",
      " **************** \n",
      "\n",
      "All nan values in column 'pax_fatalities': \n",
      " 1\n",
      "\n",
      " **************** \n",
      "\n",
      "All nan values in column 'other_fatalities': \n",
      " 10\n",
      "\n",
      " **************** \n",
      "\n",
      "All nan values in column 'total_fatalities': \n",
      " 0\n",
      "\n",
      " **************** \n",
      "\n",
      "All nan values in column 'circumstances': \n",
      " 25\n",
      "\n",
      " **************** \n",
      "\n",
      "All nan values in column 'crash_cause': \n",
      " 0\n",
      "\n",
      " **************** \n",
      "\n"
     ]
    }
   ],
   "source": [
    "# View NAN values in all columns\n",
    "def all_columns_nan_values(df):\n",
    "    for col in df.columns:\n",
    "        print(f\"All nan values in column \\'{col}\\': \\n {df[col].isna().sum()}\\n\\n **************** \\n\")\n",
    "\n",
    "all_columns_nan_values(avioset_aab_low)"
   ]
  },
  {
   "cell_type": "markdown",
   "id": "eef4f2d9",
   "metadata": {},
   "source": [
    "#### 2.2.4. We will take as the most useful and with relevant data columns\n",
    "'date', 'aircraft', 'operator', 'flight_phase', 'flight_type', 'survivors', 'crash_site', 'crash_location', 'country', 'region', 'crew_on_board', 'crew_fatalities', 'pax_on_board', 'pax_fatalities', 'other_fatalities','total_fatalities', 'crash_cause'\n",
    "#### Additionally all nan values for crew_on_board, crew_fatalities, pax_on_board,  pax_fatalities, other_fatalities, total_fatalities are not so big number so we'll give them value (-1)."
   ]
  },
  {
   "cell_type": "code",
   "execution_count": 14,
   "id": "68910bba",
   "metadata": {},
   "outputs": [
    {
     "name": "stdout",
     "output_type": "stream",
     "text": [
      "(28536, 17)\n"
     ]
    },
    {
     "data": {
      "text/html": [
       "<div>\n",
       "<style scoped>\n",
       "    .dataframe tbody tr th:only-of-type {\n",
       "        vertical-align: middle;\n",
       "    }\n",
       "\n",
       "    .dataframe tbody tr th {\n",
       "        vertical-align: top;\n",
       "    }\n",
       "\n",
       "    .dataframe thead th {\n",
       "        text-align: right;\n",
       "    }\n",
       "</style>\n",
       "<table border=\"1\" class=\"dataframe\">\n",
       "  <thead>\n",
       "    <tr style=\"text-align: right;\">\n",
       "      <th></th>\n",
       "      <th>date</th>\n",
       "      <th>aircraft</th>\n",
       "      <th>operator</th>\n",
       "      <th>flight_phase</th>\n",
       "      <th>flight_type</th>\n",
       "      <th>survivors</th>\n",
       "      <th>crash_site</th>\n",
       "      <th>crash_location</th>\n",
       "      <th>country</th>\n",
       "      <th>region</th>\n",
       "      <th>crew_on_board</th>\n",
       "      <th>crew_fatalities</th>\n",
       "      <th>pax_on_board</th>\n",
       "      <th>pax_fatalities</th>\n",
       "      <th>other_fatalities</th>\n",
       "      <th>total_fatalities</th>\n",
       "      <th>crash_cause</th>\n",
       "    </tr>\n",
       "  </thead>\n",
       "  <tbody>\n",
       "    <tr>\n",
       "      <th>0</th>\n",
       "      <td>1918-05-02</td>\n",
       "      <td>De Havilland DH.4</td>\n",
       "      <td>United States Signal Corps - USSC</td>\n",
       "      <td>Takeoff (climb)</td>\n",
       "      <td>Test</td>\n",
       "      <td>No</td>\n",
       "      <td>Airport (less than 10 km from airport)</td>\n",
       "      <td>Dayton-McCook Field Ohio</td>\n",
       "      <td>United States of America</td>\n",
       "      <td>North America</td>\n",
       "      <td>2.0</td>\n",
       "      <td>2.0</td>\n",
       "      <td>0.0</td>\n",
       "      <td>0.0</td>\n",
       "      <td>0.0</td>\n",
       "      <td>2</td>\n",
       "      <td>Technical failure</td>\n",
       "    </tr>\n",
       "    <tr>\n",
       "      <th>1</th>\n",
       "      <td>1918-06-08</td>\n",
       "      <td>Handley Page V/1500</td>\n",
       "      <td>Handley Page Aircraft Company Ltd</td>\n",
       "      <td>Takeoff (climb)</td>\n",
       "      <td>Test</td>\n",
       "      <td>Yes</td>\n",
       "      <td>Airport (less than 10 km from airport)</td>\n",
       "      <td>Cricklewood London Metropolis</td>\n",
       "      <td>United Kingdom</td>\n",
       "      <td>Europe</td>\n",
       "      <td>6.0</td>\n",
       "      <td>5.0</td>\n",
       "      <td>0.0</td>\n",
       "      <td>0.0</td>\n",
       "      <td>0.0</td>\n",
       "      <td>5</td>\n",
       "      <td>Technical failure</td>\n",
       "    </tr>\n",
       "    <tr>\n",
       "      <th>2</th>\n",
       "      <td>1918-06-11</td>\n",
       "      <td>Avro 504</td>\n",
       "      <td>Royal Air Force - RAF</td>\n",
       "      <td>Flight</td>\n",
       "      <td>Training</td>\n",
       "      <td>Yes</td>\n",
       "      <td>Plain, Valley</td>\n",
       "      <td>Abukir (Abu Qir) Alexandria</td>\n",
       "      <td>Egypt</td>\n",
       "      <td>Africa</td>\n",
       "      <td>2.0</td>\n",
       "      <td>1.0</td>\n",
       "      <td>0.0</td>\n",
       "      <td>0.0</td>\n",
       "      <td>0.0</td>\n",
       "      <td>1</td>\n",
       "      <td>Unknown</td>\n",
       "    </tr>\n",
       "    <tr>\n",
       "      <th>3</th>\n",
       "      <td>1918-06-19</td>\n",
       "      <td>De Havilland DH.4</td>\n",
       "      <td>United States Signal Corps - USSC</td>\n",
       "      <td>Flight</td>\n",
       "      <td>Military</td>\n",
       "      <td>No</td>\n",
       "      <td>Airport (less than 10 km from airport)</td>\n",
       "      <td>Wright-Patterson AFB (Dayton) Ohio</td>\n",
       "      <td>United States of America</td>\n",
       "      <td>North America</td>\n",
       "      <td>1.0</td>\n",
       "      <td>1.0</td>\n",
       "      <td>0.0</td>\n",
       "      <td>0.0</td>\n",
       "      <td>0.0</td>\n",
       "      <td>1</td>\n",
       "      <td>Technical failure</td>\n",
       "    </tr>\n",
       "    <tr>\n",
       "      <th>4</th>\n",
       "      <td>1918-06-24</td>\n",
       "      <td>Breguet 14</td>\n",
       "      <td>French Air Force - Armée de l'Air</td>\n",
       "      <td>Landing (descent or approach)</td>\n",
       "      <td>Military</td>\n",
       "      <td>Yes</td>\n",
       "      <td>NaN</td>\n",
       "      <td>France All France</td>\n",
       "      <td>France</td>\n",
       "      <td>Europe</td>\n",
       "      <td>NaN</td>\n",
       "      <td>0.0</td>\n",
       "      <td>NaN</td>\n",
       "      <td>0.0</td>\n",
       "      <td>0.0</td>\n",
       "      <td>0</td>\n",
       "      <td>Unknown</td>\n",
       "    </tr>\n",
       "  </tbody>\n",
       "</table>\n",
       "</div>"
      ],
      "text/plain": [
       "         date             aircraft                           operator  \\\n",
       "0  1918-05-02    De Havilland DH.4  United States Signal Corps - USSC   \n",
       "1  1918-06-08  Handley Page V/1500  Handley Page Aircraft Company Ltd   \n",
       "2  1918-06-11             Avro 504              Royal Air Force - RAF   \n",
       "3  1918-06-19    De Havilland DH.4  United States Signal Corps - USSC   \n",
       "4  1918-06-24           Breguet 14  French Air Force - Armée de l'Air   \n",
       "\n",
       "                    flight_phase flight_type survivors  \\\n",
       "0                Takeoff (climb)        Test        No   \n",
       "1                Takeoff (climb)        Test       Yes   \n",
       "2                         Flight    Training       Yes   \n",
       "3                         Flight    Military        No   \n",
       "4  Landing (descent or approach)    Military       Yes   \n",
       "\n",
       "                               crash_site                      crash_location  \\\n",
       "0  Airport (less than 10 km from airport)            Dayton-McCook Field Ohio   \n",
       "1  Airport (less than 10 km from airport)       Cricklewood London Metropolis   \n",
       "2                           Plain, Valley         Abukir (Abu Qir) Alexandria   \n",
       "3  Airport (less than 10 km from airport)  Wright-Patterson AFB (Dayton) Ohio   \n",
       "4                                     NaN                   France All France   \n",
       "\n",
       "                    country         region  crew_on_board  crew_fatalities  \\\n",
       "0  United States of America  North America            2.0              2.0   \n",
       "1            United Kingdom         Europe            6.0              5.0   \n",
       "2                     Egypt         Africa            2.0              1.0   \n",
       "3  United States of America  North America            1.0              1.0   \n",
       "4                    France         Europe            NaN              0.0   \n",
       "\n",
       "   pax_on_board  pax_fatalities  other_fatalities  total_fatalities  \\\n",
       "0           0.0             0.0               0.0                 2   \n",
       "1           0.0             0.0               0.0                 5   \n",
       "2           0.0             0.0               0.0                 1   \n",
       "3           0.0             0.0               0.0                 1   \n",
       "4           NaN             0.0               0.0                 0   \n",
       "\n",
       "         crash_cause  \n",
       "0  Technical failure  \n",
       "1  Technical failure  \n",
       "2            Unknown  \n",
       "3  Technical failure  \n",
       "4            Unknown  "
      ]
     },
     "execution_count": 14,
     "metadata": {},
     "output_type": "execute_result"
    }
   ],
   "source": [
    "avioset = avioset_aab_low[['date', 'aircraft', 'operator', 'flight_phase', 'flight_type', 'survivors', 'crash_site', 'crash_location', 'country', 'region', 'crew_on_board', 'crew_fatalities', 'pax_on_board', 'pax_fatalities', 'other_fatalities','total_fatalities', 'crash_cause']]\n",
    "\n",
    "print(avioset.shape)\n",
    "avioset.head()"
   ]
  },
  {
   "cell_type": "code",
   "execution_count": 15,
   "id": "a8af6da8",
   "metadata": {},
   "outputs": [
    {
     "data": {
      "text/plain": [
       "Index(['date', 'aircraft', 'operator', 'flight_phase', 'flight_type',\n",
       "       'survivors', 'crash_site', 'crash_location', 'country', 'region',\n",
       "       'crew_on_board', 'crew_fatalities', 'pax_on_board', 'pax_fatalities',\n",
       "       'other_fatalities', 'total_fatalities', 'crash_cause'],\n",
       "      dtype='object')"
      ]
     },
     "execution_count": 15,
     "metadata": {},
     "output_type": "execute_result"
    }
   ],
   "source": [
    "avioset.columns"
   ]
  },
  {
   "cell_type": "markdown",
   "id": "8f1b04ee",
   "metadata": {},
   "source": [
    "Additionally all nan values for crew_on_board, crew_fatalities, pax_on_board, pax_fatalities, other_fatalities, total_fatalities are not so big number so we'll give them value (-1)."
   ]
  },
  {
   "cell_type": "code",
   "execution_count": 16,
   "id": "c7f1a139",
   "metadata": {},
   "outputs": [],
   "source": [
    "avioset = avioset.fillna(\n",
    "    {'crew_on_board':-1,\n",
    "     'crew_fatalities':-1,\n",
    "     'pax_on_board':-1,\n",
    "     'pax_fatalities':-1,\n",
    "     'other_fatalities':-1,\n",
    "     'total_fatalities':-1\n",
    "    })"
   ]
  },
  {
   "cell_type": "code",
   "execution_count": 17,
   "id": "1441fc0b",
   "metadata": {},
   "outputs": [],
   "source": [
    "# Nan in survivors we'll fill with \"unknown\"\n",
    "avioset = avioset.fillna({'survivors':\"unknown\"})"
   ]
  },
  {
   "cell_type": "code",
   "execution_count": 18,
   "id": "c5957136",
   "metadata": {},
   "outputs": [
    {
     "name": "stdout",
     "output_type": "stream",
     "text": [
      "All nan values in column 'date': \n",
      " 0\n",
      "\n",
      " **************** \n",
      "\n",
      "All nan values in column 'aircraft': \n",
      " 1\n",
      "\n",
      " **************** \n",
      "\n",
      "All nan values in column 'operator': \n",
      " 0\n",
      "\n",
      " **************** \n",
      "\n",
      "All nan values in column 'flight_phase': \n",
      " 638\n",
      "\n",
      " **************** \n",
      "\n",
      "All nan values in column 'flight_type': \n",
      " 57\n",
      "\n",
      " **************** \n",
      "\n",
      "All nan values in column 'survivors': \n",
      " 0\n",
      "\n",
      " **************** \n",
      "\n",
      "All nan values in column 'crash_site': \n",
      " 383\n",
      "\n",
      " **************** \n",
      "\n",
      "All nan values in column 'crash_location': \n",
      " 12\n",
      "\n",
      " **************** \n",
      "\n",
      "All nan values in column 'country': \n",
      " 1\n",
      "\n",
      " **************** \n",
      "\n",
      "All nan values in column 'region': \n",
      " 1\n",
      "\n",
      " **************** \n",
      "\n",
      "All nan values in column 'crew_on_board': \n",
      " 0\n",
      "\n",
      " **************** \n",
      "\n",
      "All nan values in column 'crew_fatalities': \n",
      " 0\n",
      "\n",
      " **************** \n",
      "\n",
      "All nan values in column 'pax_on_board': \n",
      " 0\n",
      "\n",
      " **************** \n",
      "\n",
      "All nan values in column 'pax_fatalities': \n",
      " 0\n",
      "\n",
      " **************** \n",
      "\n",
      "All nan values in column 'other_fatalities': \n",
      " 0\n",
      "\n",
      " **************** \n",
      "\n",
      "All nan values in column 'total_fatalities': \n",
      " 0\n",
      "\n",
      " **************** \n",
      "\n",
      "All nan values in column 'crash_cause': \n",
      " 0\n",
      "\n",
      " **************** \n",
      "\n"
     ]
    }
   ],
   "source": [
    "# View NAN values in all columns\n",
    "all_columns_nan_values(avioset)"
   ]
  },
  {
   "cell_type": "markdown",
   "id": "86608c47",
   "metadata": {},
   "source": [
    "<div style=\"background-color: #9df9ef; padding: 10px;\"></div>"
   ]
  },
  {
   "cell_type": "markdown",
   "id": "636a7790",
   "metadata": {},
   "source": [
    "#### 2.2.5. Let's convert date to datetime "
   ]
  },
  {
   "cell_type": "code",
   "execution_count": 19,
   "id": "1bf203d4",
   "metadata": {},
   "outputs": [
    {
     "data": {
      "text/plain": [
       "<bound method Series.unique of 0        1918-05-02\n",
       "1        1918-06-08\n",
       "2        1918-06-11\n",
       "3        1918-06-19\n",
       "4        1918-06-24\n",
       "            ...    \n",
       "28531    2022-05-20\n",
       "28532    2022-05-23\n",
       "28533    2022-05-24\n",
       "28534    2022-05-29\n",
       "28535    2022-06-03\n",
       "Name: date, Length: 28536, dtype: object>"
      ]
     },
     "execution_count": 19,
     "metadata": {},
     "output_type": "execute_result"
    }
   ],
   "source": [
    "avioset.date.unique"
   ]
  },
  {
   "cell_type": "code",
   "execution_count": 20,
   "id": "e3928d44",
   "metadata": {},
   "outputs": [],
   "source": [
    "avioset['date'] = pd.to_datetime(avioset['date'])"
   ]
  },
  {
   "cell_type": "code",
   "execution_count": 21,
   "id": "6d98f810",
   "metadata": {},
   "outputs": [
    {
     "data": {
      "text/plain": [
       "<bound method Series.unique of 0       1918-05-02\n",
       "1       1918-06-08\n",
       "2       1918-06-11\n",
       "3       1918-06-19\n",
       "4       1918-06-24\n",
       "           ...    \n",
       "28531   2022-05-20\n",
       "28532   2022-05-23\n",
       "28533   2022-05-24\n",
       "28534   2022-05-29\n",
       "28535   2022-06-03\n",
       "Name: date, Length: 28536, dtype: datetime64[ns]>"
      ]
     },
     "execution_count": 21,
     "metadata": {},
     "output_type": "execute_result"
    }
   ],
   "source": [
    "avioset.date.unique"
   ]
  },
  {
   "cell_type": "code",
   "execution_count": 22,
   "id": "ab57f9d6",
   "metadata": {},
   "outputs": [],
   "source": [
    "# Let's add column year\n",
    "avioset['year'] = pd.DatetimeIndex(avioset['date']).year"
   ]
  },
  {
   "cell_type": "code",
   "execution_count": 23,
   "id": "2c1620c0",
   "metadata": {},
   "outputs": [],
   "source": [
    "# Let's add column month\n",
    "avioset['month'] = pd.DatetimeIndex(avioset['date']).month"
   ]
  },
  {
   "cell_type": "code",
   "execution_count": 24,
   "id": "f433d3d5",
   "metadata": {},
   "outputs": [
    {
     "data": {
      "text/plain": [
       "array([1918, 1919, 1920, 1921, 1922, 1923, 1924, 1925, 1926, 1927, 1928,\n",
       "       1929, 1930, 1931, 1932, 1933, 1934, 1935, 1936, 1937, 1938, 1939,\n",
       "       1940, 1941, 1942, 1943, 1944, 1945, 1946, 1947, 1948, 1949, 1950,\n",
       "       1951, 1952, 1953, 1954, 1955, 1956, 1957, 1958, 1959, 1960, 1961,\n",
       "       1962, 1963, 1964, 1965, 1966, 1967, 1968, 1969, 1970, 1971, 1972,\n",
       "       1973, 1974, 1975, 1976, 1977, 1978, 1979, 1980, 1981, 1982, 1983,\n",
       "       1984, 1985, 1986, 1987, 1988, 1989, 1990, 1991, 1992, 1993, 1994,\n",
       "       1995, 1996, 1997, 1998, 1999, 2000, 2001, 2002, 2003, 2004, 2005,\n",
       "       2006, 2007, 2008, 2009, 2010, 2011, 2012, 2013, 2014, 2015, 2016,\n",
       "       2017, 2018, 2019, 2020, 2021, 2022])"
      ]
     },
     "execution_count": 24,
     "metadata": {},
     "output_type": "execute_result"
    }
   ],
   "source": [
    "avioset['year'].unique()"
   ]
  },
  {
   "cell_type": "code",
   "execution_count": 25,
   "id": "49f040b5",
   "metadata": {},
   "outputs": [
    {
     "data": {
      "text/plain": [
       "array([ 5,  6,  7,  8,  9, 10, 11, 12,  1,  2,  3,  4])"
      ]
     },
     "execution_count": 25,
     "metadata": {},
     "output_type": "execute_result"
    }
   ],
   "source": [
    "avioset['month'].unique()"
   ]
  },
  {
   "cell_type": "code",
   "execution_count": 26,
   "id": "8f811f48",
   "metadata": {},
   "outputs": [
    {
     "data": {
      "text/plain": [
       "<Axes: xlabel='year'>"
      ]
     },
     "execution_count": 26,
     "metadata": {},
     "output_type": "execute_result"
    },
    {
     "data": {
      "image/png": "[encoded data removed]",
      "text/plain": [
       "<Figure size 640x480 with 1 Axes>"
      ]
     },
     "metadata": {},
     "output_type": "display_data"
    }
   ],
   "source": [
    "# Plotting accidents by year\n",
    "avioset.groupby(['year']).size().plot()"
   ]
  },
  {
   "cell_type": "markdown",
   "id": "0c5e80c2",
   "metadata": {},
   "source": [
    "#### 2.2.6. What is the year with most accidents?"
   ]
  },
  {
   "cell_type": "code",
   "execution_count": 27,
   "id": "0975709c",
   "metadata": {},
   "outputs": [
    {
     "name": "stdout",
     "output_type": "stream",
     "text": [
      "year\n",
      "1944    945\n",
      "1943    817\n",
      "1945    737\n",
      "1942    698\n",
      "1951    491\n",
      "       ... \n",
      "1925     72\n",
      "1923     67\n",
      "1924     49\n",
      "2022     39\n",
      "1918     25\n",
      "Length: 105, dtype: int64\n"
     ]
    }
   ],
   "source": [
    "# It's 1944 - the second war\n",
    "print(avioset.groupby('year').size().sort_values(ascending=False))"
   ]
  },
  {
   "cell_type": "code",
   "execution_count": 28,
   "id": "62a2d23f",
   "metadata": {},
   "outputs": [
    {
     "data": {
      "image/png": "[encoded data removed]",
      "text/plain": [
       "<Figure size 640x480 with 1 Axes>"
      ]
     },
     "metadata": {},
     "output_type": "display_data"
    }
   ],
   "source": [
    "avioset.groupby('year').size().plot.area()\n",
    "plt.title(\"Accidents by year\")\n",
    "plt.show()"
   ]
  },
  {
   "cell_type": "markdown",
   "id": "561f4e50",
   "metadata": {},
   "source": [
    "#### 2.2.7. What is the month with most accidents?"
   ]
  },
  {
   "cell_type": "code",
   "execution_count": 29,
   "id": "b3c15c71",
   "metadata": {},
   "outputs": [
    {
     "name": "stdout",
     "output_type": "stream",
     "text": [
      "month\n",
      "12    2683\n",
      "8     2523\n",
      "1     2478\n",
      "7     2435\n",
      "9     2399\n",
      "5     2360\n",
      "11    2354\n",
      "3     2344\n",
      "10    2293\n",
      "6     2258\n",
      "4     2255\n",
      "2     2154\n",
      "dtype: int64\n"
     ]
    }
   ],
   "source": [
    "# It's 12 but let's analyze further\n",
    "print(avioset.groupby('month').size().sort_values(ascending=False))"
   ]
  },
  {
   "cell_type": "code",
   "execution_count": 30,
   "id": "aa098285",
   "metadata": {},
   "outputs": [
    {
     "data": {
      "image/png": "[encoded data removed]",
      "text/plain": [
       "<Figure size 640x480 with 1 Axes>"
      ]
     },
     "metadata": {},
     "output_type": "display_data"
    }
   ],
   "source": [
    "avioset.groupby('month').size().plot()\n",
    "plt.xticks([1, 2, 3, 4, 5, 6, 7, 8, 9, 10, 11, 12])\n",
    "plt.title(\"Accidents by month\")\n",
    "plt.show()"
   ]
  },
  {
   "cell_type": "code",
   "execution_count": 31,
   "id": "2e763915",
   "metadata": {},
   "outputs": [
    {
     "data": {
      "image/png": "[encoded data removed]",
      "text/plain": [
       "<Figure size 640x480 with 1 Axes>"
      ]
     },
     "metadata": {},
     "output_type": "display_data"
    }
   ],
   "source": [
    "plt.boxplot(avioset.year)\n",
    "plt.show()"
   ]
  },
  {
   "cell_type": "code",
   "execution_count": 32,
   "id": "84d0ce59",
   "metadata": {},
   "outputs": [
    {
     "data": {
      "image/png": "[encoded data removed]",
      "text/plain": [
       "<Figure size 640x480 with 1 Axes>"
      ]
     },
     "metadata": {},
     "output_type": "display_data"
    }
   ],
   "source": [
    "plt.boxplot(avioset.month)\n",
    "plt.show()"
   ]
  },
  {
   "cell_type": "markdown",
   "id": "a7581c3e",
   "metadata": {},
   "source": [
    "#### 2.2.9. Flight phases\n",
    "Picture is from https://docs.flybywiresim.com/pilots-corner/advanced-guides/flight-phases/\n",
    "![Flight phases](data/images/flight-phases.png)"
   ]
  },
  {
   "cell_type": "code",
   "execution_count": 33,
   "id": "23d76330",
   "metadata": {},
   "outputs": [
    {
     "data": {
      "image/png": "[encoded data removed]",
      "text/plain": [
       "<Figure size 640x480 with 1 Axes>"
      ]
     },
     "metadata": {},
     "output_type": "display_data"
    }
   ],
   "source": [
    "avioset.groupby('flight_phase').size().plot()\n",
    "plt.xticks(rotation = \"vertical\")\n",
    "plt.title(\"Most dangerous flight phases\")\n",
    "plt.show()"
   ]
  },
  {
   "cell_type": "code",
   "execution_count": 34,
   "id": "cf76d656",
   "metadata": {},
   "outputs": [
    {
     "name": "stdout",
     "output_type": "stream",
     "text": [
      "flight_phase\n",
      "Flight                           11475\n",
      "Landing (descent or approach)    10023\n",
      "Takeoff (climb)                   6052\n",
      "Taxiing                            236\n",
      "Parking                            112\n",
      "dtype: int64\n"
     ]
    }
   ],
   "source": [
    "print(avioset.groupby('flight_phase').size().sort_values(ascending=False))"
   ]
  },
  {
   "cell_type": "markdown",
   "id": "cdcd38f4",
   "metadata": {},
   "source": [
    "### Conclusion: Most dangerous flight phases are Flight, Landing and Takeoff. They need most concentration."
   ]
  },
  {
   "cell_type": "code",
   "execution_count": 40,
   "id": "4874b70b",
   "metadata": {},
   "outputs": [
    {
     "data": {
      "image/png": "[encoded data removed]",
      "text/plain": [
       "<Figure size 640x480 with 1 Axes>"
      ]
     },
     "metadata": {},
     "output_type": "display_data"
    }
   ],
   "source": [
    "avioset.groupby('region').size().plot()\n",
    "plt.xticks(rotation = \"vertical\")\n",
    "plt.title(\"Accidents by region\")\n",
    "plt.show()"
   ]
  },
  {
   "cell_type": "markdown",
   "id": "7fb03412",
   "metadata": {},
   "source": [
    "<div style=\"background-color: #9df9ef; padding: 10px;\"></div>"
   ]
  },
  {
   "cell_type": "markdown",
   "id": "e0390db4",
   "metadata": {},
   "source": [
    "#### 2.2.6. How many na we have? Should we replace or not? \n",
    "- TODO\n"
   ]
  },
  {
   "cell_type": "code",
   "execution_count": null,
   "id": "96ad2025",
   "metadata": {},
   "outputs": [],
   "source": []
  },
  {
   "cell_type": "markdown",
   "id": "df593c1a",
   "metadata": {},
   "source": [
    "<div style=\"background-color: #9df9ef; padding: 10px;\"></div>"
   ]
  },
  {
   "cell_type": "markdown",
   "id": "d08e8138",
   "metadata": {},
   "source": [
    "#### 2.2.7. Let's convert date columns into datetime \n",
    "- TODO"
   ]
  },
  {
   "cell_type": "code",
   "execution_count": null,
   "id": "75fd26b2",
   "metadata": {},
   "outputs": [],
   "source": []
  },
  {
   "cell_type": "markdown",
   "id": "ae84f1ec",
   "metadata": {},
   "source": [
    "<div style=\"background-color: #9df9ef; padding: 10px;\"></div>"
   ]
  },
  {
   "cell_type": "markdown",
   "id": "f85b58b2",
   "metadata": {},
   "source": [
    "#### 2.2.8. Let's take a look on the summary of statistics for numerical columns - It's good idea first to change some dtypes !!"
   ]
  },
  {
   "cell_type": "code",
   "execution_count": null,
   "id": "c3d8edbc",
   "metadata": {},
   "outputs": [],
   "source": []
  },
  {
   "cell_type": "markdown",
   "id": "be97dadf",
   "metadata": {},
   "source": [
    "<div style=\"background-color: #9df9ef; padding: 10px;\"></div>"
   ]
  }
 ],
 "metadata": {
  "kernelspec": {
   "display_name": "Python 3 (ipykernel)",
   "language": "python",
   "name": "python3"
  },
  "language_info": {
   "codemirror_mode": {
    "name": "ipython",
    "version": 3
   },
   "file_extension": ".py",
   "mimetype": "text/x-python",
   "name": "python",
   "nbconvert_exporter": "python",
   "pygments_lexer": "ipython3",
   "version": "3.11.7"
  }
 },
 "nbformat": 4,
 "nbformat_minor": 5
}
